{
 "cells": [
  {
   "cell_type": "code",
   "execution_count": 115,
   "metadata": {},
   "outputs": [],
   "source": [
    "import pandas as pd\n",
    "import numpy as np\n",
    "import requests\n",
    "import plotly.graph_objects as go\n",
    "import ipywidgets as widgets\n",
    "import json\n",
    "import csv\n",
    "import tweepy\n",
    "import re\n",
    "%matplotlib inline"
   ]
  },
  {
   "cell_type": "code",
   "execution_count": 116,
   "metadata": {},
   "outputs": [],
   "source": [
    "base_url = 'http://spectrum-prod-elb.digitalsmiths.net/sd/spectrum/cores/catalog-spectrum-assets/search?q=*:*&join={!inner core=catalog-spectrum-offers left=id right=workId fq=divisionCode:SMN as=offers}&join={!inner core=rotten-tomatoes-charter left=guid right=guid as=rt}&join={!left core=assets-cs left=guid right=guid as=cs}&fq=objectType:Movie&offers.fq=startTime:[* TO NOW] endTime:[NOW TO *]'"
   ]
  },
  {
   "cell_type": "code",
   "execution_count": 117,
   "metadata": {},
   "outputs": [],
   "source": [
    "genre_list = ['Reality','Drama','Adventure','Animated','Comedy','Documentary','Fantasy','Action','Anime','Sitcom','Crimedrama','Entertainment','Sciencefiction','Special','Thriller','Romance','Cooking','Crime','Educational','Mystery','House/garden','Talk','Comedydrama','Travel','Horror','History','Soap','News','Interview','Animals','Science','Music','Homeimprovement','How-to','Medical','Nature','Auto','Paranormal','Gameshow','Western','Historicaldrama','Law','Outdoors','Romanticcomedy','Holiday','Religious','Miniseries','War','Politics','Biography','Fashion','Publicaffairs','Anthology','Docudrama','Health','Art','Standup','Newsmagazine','Martialarts','Parenting','Gay/lesbian','Military','Musical','Fishing','Dance','Exercise','Community','Technology','Football','Prowrestling','Autoracing','Environment','Collectibles','Auction','Darkcomedy','Gaming','Sportstalk','Musicalcomedy','Actionsports','Aviation','Basketball','Consumer','Worldhistory','Selfimprovement','Mixedmartialarts','Americanhistory','Baseball','Performingarts','Soccer','Arts/crafts','Agriculture','Golf','Computers']"
   ]
  },
  {
   "cell_type": "code",
   "execution_count": 118,
   "metadata": {},
   "outputs": [
    {
     "data": {
      "application/vnd.jupyter.widget-view+json": {
       "model_id": "480c813683ea4386af5b9a7f01bddd45",
       "version_major": 2,
       "version_minor": 0
      },
      "text/plain": [
       "interactive(children=(Dropdown(description='Genre', index=2, options=('Reality', 'Drama', 'Adventure', 'Animat…"
      ]
     },
     "metadata": {},
     "output_type": "display_data"
    }
   ],
   "source": [
    "#Generates dropdown that references the Genre list for the options\n",
    "#then returns a Tivo query genre parameter based on the selection\n",
    "\n",
    "drop_down = widgets.Dropdown(options=genre_list,\n",
    "                                                    \n",
    "                                value=\"Adventure\",\n",
    "                                                      #sets name of dropdown\n",
    "                                description='Genre',\n",
    "                                disabled=False)\n",
    "\n",
    "def set_director(genre_selection): \n",
    "    \n",
    "    global genre_param\n",
    "    genre_param = f'&fq=genres.name:{genre_selection}'\n",
    "\n",
    "    return genre_param\n",
    "    \n",
    "widgets.interact(set_director, genre_selection=drop_down);"
   ]
  },
  {
   "cell_type": "code",
   "execution_count": 5,
   "metadata": {},
   "outputs": [
    {
     "data": {
      "application/vnd.jupyter.widget-view+json": {
       "model_id": "b54991deb6194d359d4cba162402c33d",
       "version_major": 2,
       "version_minor": 0
      },
      "text/plain": [
       "interactive(children=(IntRangeSlider(value=(0, 100), continuous_update=False, description='RT Score:'), Output…"
      ]
     },
     "metadata": {},
     "output_type": "display_data"
    }
   ],
   "source": [
    "#Generates slider of 0-100. the selection returns a list E.G [8, 15] \n",
    "#This list is then referenced to create the desired query param\n",
    "slider = widgets.IntRangeSlider(\n",
    "    value=[0, 100],\n",
    "    min=0,\n",
    "    max=100,\n",
    "    step=1,\n",
    "    description='RT Score:',\n",
    "    disabled=False,\n",
    "    continuous_update=False,\n",
    "    orientation='horizontal',\n",
    "    readout=True,\n",
    "    readout_format='d',\n",
    ")\n",
    "\n",
    "def set_score_range(score_range):\n",
    "    \n",
    "    global score_param\n",
    "    score_param = f'&rt.fq=ratings.audience_score:[{str(score_range[0])} TO {str(score_range[1])}]'\n",
    "    return score_param\n",
    "\n",
    "\n",
    "\n",
    "widgets.interact(set_score_range, score_range=slider);"
   ]
  },
  {
   "cell_type": "code",
   "execution_count": 6,
   "metadata": {},
   "outputs": [
    {
     "data": {
      "application/vnd.jupyter.widget-view+json": {
       "model_id": "08686a708e2a445f85fa600e806bdde4",
       "version_major": 2,
       "version_minor": 0
      },
      "text/plain": [
       "interactive(children=(IntRangeSlider(value=(0, 50), continuous_update=False, description='Target age:', max=50…"
      ]
     },
     "metadata": {},
     "output_type": "display_data"
    }
   ],
   "source": [
    "#Generates slider of 0-50. the selection returns a list E.G [8, 15] \n",
    "#This list is then referenced to create the desired query param\n",
    "\n",
    "slider = widgets.IntRangeSlider(\n",
    "    value=[0, 50],\n",
    "    min=0,\n",
    "    max=50,\n",
    "    step=1,\n",
    "    description='Target age:',\n",
    "    disabled=False,\n",
    "    continuous_update=False,\n",
    "    orientation='horizontal',\n",
    "    readout=True,\n",
    "    readout_format='d',\n",
    ")\n",
    "\n",
    "def set_age_range(age_range):\n",
    "    \n",
    "    global age_param\n",
    "    age_param = f'&cs.fq=metadata.review.slider.target_age:[{age_range[0]} TO {age_range[1]}]'\n",
    "    return age_param\n",
    "\n",
    "\n",
    "\n",
    "widgets.interact(set_age_range, age_range=slider);"
   ]
  },
  {
   "cell_type": "code",
   "execution_count": 119,
   "metadata": {},
   "outputs": [
    {
     "data": {
      "text/plain": [
       "'http://spectrum-prod-elb.digitalsmiths.net/sd/spectrum/cores/catalog-spectrum-assets/search?q=*:*&join={!inner core=catalog-spectrum-offers left=id right=workId fq=divisionCode:SMN as=offers}&join={!inner core=rotten-tomatoes-charter left=guid right=guid as=rt}&join={!left core=assets-cs left=guid right=guid as=cs}&fq=objectType:Movie&offers.fq=startTime:[* TO NOW] endTime:[NOW TO *]&fq=genres.name:Thriller&rt.fq=ratings.audience_score:[79 TO 100]&cs.fq=metadata.review.slider.target_age:[0 TO 50]&fl=cs.metadata.review.slider.on_age,id,title,releaseDate,releaseYear,genres,descriptors,rt.ratings.audience_score,rt.ratings.critics_score,offers.providerName,offers.startTime,offers.endTime'"
      ]
     },
     "execution_count": 119,
     "metadata": {},
     "output_type": "execute_result"
    }
   ],
   "source": [
    "#concatenates the final query \n",
    "\n",
    "tail_url = '&fl=cs.metadata.review.slider.on_age,id,title,releaseDate,releaseYear,genres,descriptors,rt.ratings.audience_score,rt.ratings.critics_score,offers.providerName,offers.startTime,offers.endTime'\n",
    "query_url = base_url+genre_param+score_param+age_param+tail_url\n",
    "query_url"
   ]
  },
  {
   "cell_type": "code",
   "execution_count": 120,
   "metadata": {},
   "outputs": [],
   "source": [
    "#makes the actual API with the query \n",
    "\n",
    "response = requests.get(query_url).json()"
   ]
  },
  {
   "cell_type": "code",
   "execution_count": 121,
   "metadata": {},
   "outputs": [
    {
     "data": {
      "text/html": [
       "<div>\n",
       "<style scoped>\n",
       "    .dataframe tbody tr th:only-of-type {\n",
       "        vertical-align: middle;\n",
       "    }\n",
       "\n",
       "    .dataframe tbody tr th {\n",
       "        vertical-align: top;\n",
       "    }\n",
       "\n",
       "    .dataframe thead th {\n",
       "        text-align: right;\n",
       "    }\n",
       "</style>\n",
       "<table border=\"1\" class=\"dataframe\">\n",
       "  <thead>\n",
       "    <tr style=\"text-align: right;\">\n",
       "      <th></th>\n",
       "      <th>TMS_ID</th>\n",
       "      <th>title</th>\n",
       "      <th>release_year</th>\n",
       "      <th>genre</th>\n",
       "      <th>audience_score</th>\n",
       "      <th>critics_score</th>\n",
       "      <th>start_time</th>\n",
       "      <th>end_time</th>\n",
       "      <th>provider_name</th>\n",
       "      <th>OMDB_pop_score</th>\n",
       "      <th>tweets</th>\n",
       "      <th>combined_followers</th>\n",
       "    </tr>\n",
       "  </thead>\n",
       "  <tbody>\n",
       "  </tbody>\n",
       "</table>\n",
       "</div>"
      ],
      "text/plain": [
       "Empty DataFrame\n",
       "Columns: [TMS_ID, title, release_year, genre, audience_score, critics_score, start_time, end_time, provider_name, OMDB_pop_score, tweets, combined_followers]\n",
       "Index: []"
      ]
     },
     "execution_count": 121,
     "metadata": {},
     "output_type": "execute_result"
    }
   ],
   "source": [
    "#Creates Pandas data frame to hold the results\n",
    "\n",
    "results = {}\n",
    "results_df = pd.DataFrame(results)\n",
    "\n",
    "results_df['TMS_ID'] = \"\"\n",
    "results_df['title'] = \"\"\n",
    "results_df['release_year'] = \"\"\n",
    "results_df['genre'] = \"\"\n",
    "results_df['audience_score'] = \"\"\n",
    "results_df['critics_score'] = \"\"\n",
    "results_df['start_time'] = \"\"\n",
    "results_df['end_time'] = \"\"\n",
    "results_df['provider_name'] = \"\"\n",
    "results_df['OMDB_pop_score'] = \"\"\n",
    "results_df['tweets'] = \"\"\n",
    "results_df['combined_followers'] = \"\"\n",
    "results_df"
   ]
  },
  {
   "cell_type": "code",
   "execution_count": 122,
   "metadata": {},
   "outputs": [],
   "source": [
    "#iterates through the results and populatates the pandas dataframe columns with the cooresponding json value\n",
    "\n",
    "for i in range(25):\n",
    "    try:\n",
    "        results_df.loc[i+1,'TMS_ID'] = response['hits'][i]['id']\n",
    "        results_df.loc[i+1,'release_year'] = response['hits'][i]['releaseYear']\n",
    "        genres = response['hits'][i]['genres']\n",
    "        results_df.loc[i+1,'genre'] = [genres[j]['name']['en'] for j in range(len(genres))]\n",
    "        results_df.loc[i+1,'audience_score'] = response['hits'][i]['rt'][0]['ratings']['audience_score']\n",
    "        results_df.loc[i+1,'start_time']  = response['hits'][i]['offers'][0]['startTime']\n",
    "        results_df.loc[i+1,'end_time'] = response['hits'][i]['offers'][0]['endTime']\n",
    "        results_df.loc[i+1,'provider_name'] = response['hits'][i]['offers'][0]['providerName']\n",
    "        results_df.loc[i+1,'title']= response['hits'][i]['title']['en']\n",
    "        results_df.loc[i+1,'critics_score'] = response['hits'][i]['rt'][0]['ratings']['critics_score']                                                                               \n",
    "        \n",
    "    except:\n",
    "        print(f'{i} has something weird')"
   ]
  },
  {
   "cell_type": "code",
   "execution_count": 123,
   "metadata": {},
   "outputs": [
    {
     "data": {
      "text/html": [
       "<div>\n",
       "<style scoped>\n",
       "    .dataframe tbody tr th:only-of-type {\n",
       "        vertical-align: middle;\n",
       "    }\n",
       "\n",
       "    .dataframe tbody tr th {\n",
       "        vertical-align: top;\n",
       "    }\n",
       "\n",
       "    .dataframe thead th {\n",
       "        text-align: right;\n",
       "    }\n",
       "</style>\n",
       "<table border=\"1\" class=\"dataframe\">\n",
       "  <thead>\n",
       "    <tr style=\"text-align: right;\">\n",
       "      <th></th>\n",
       "      <th>TMS_ID</th>\n",
       "      <th>title</th>\n",
       "      <th>release_year</th>\n",
       "      <th>genre</th>\n",
       "      <th>audience_score</th>\n",
       "      <th>critics_score</th>\n",
       "      <th>start_time</th>\n",
       "      <th>end_time</th>\n",
       "      <th>provider_name</th>\n",
       "      <th>OMDB_pop_score</th>\n",
       "      <th>tweets</th>\n",
       "      <th>combined_followers</th>\n",
       "    </tr>\n",
       "  </thead>\n",
       "  <tbody>\n",
       "    <tr>\n",
       "      <th>1</th>\n",
       "      <td>MV001724250000</td>\n",
       "      <td>The Man Who Knew Too Much</td>\n",
       "      <td>1956</td>\n",
       "      <td>[Thriller]</td>\n",
       "      <td>84</td>\n",
       "      <td>87</td>\n",
       "      <td>2019-03-21T04:00:00+00:00</td>\n",
       "      <td>2021-01-01T04:59:59+00:00</td>\n",
       "      <td>IND_HD_EXP</td>\n",
       "      <td>NaN</td>\n",
       "      <td>NaN</td>\n",
       "      <td>NaN</td>\n",
       "    </tr>\n",
       "    <tr>\n",
       "      <th>2</th>\n",
       "      <td>MV001740600000</td>\n",
       "      <td>V for Vendetta</td>\n",
       "      <td>2006</td>\n",
       "      <td>[Action, Thriller]</td>\n",
       "      <td>90</td>\n",
       "      <td>73</td>\n",
       "      <td>2016-07-14T04:00:00+00:00</td>\n",
       "      <td>2030-01-01T04:59:59+00:00</td>\n",
       "      <td>IND_HD_EXP</td>\n",
       "      <td>NaN</td>\n",
       "      <td>NaN</td>\n",
       "      <td>NaN</td>\n",
       "    </tr>\n",
       "    <tr>\n",
       "      <th>3</th>\n",
       "      <td>MV000435430000</td>\n",
       "      <td>Seven</td>\n",
       "      <td>1995</td>\n",
       "      <td>[Thriller, Crime drama]</td>\n",
       "      <td>95</td>\n",
       "      <td>82</td>\n",
       "      <td>2016-07-14T04:00:00+00:00</td>\n",
       "      <td>2030-01-01T04:59:59+00:00</td>\n",
       "      <td>IND_HD_EXP</td>\n",
       "      <td>NaN</td>\n",
       "      <td>NaN</td>\n",
       "      <td>NaN</td>\n",
       "    </tr>\n",
       "    <tr>\n",
       "      <th>4</th>\n",
       "      <td>MV000468120000</td>\n",
       "      <td>Wake in Fright</td>\n",
       "      <td>1971</td>\n",
       "      <td>[Drama, Thriller]</td>\n",
       "      <td>83</td>\n",
       "      <td>96</td>\n",
       "      <td>2017-05-15T04:00:00+00:00</td>\n",
       "      <td>2021-04-01T03:59:59+00:00</td>\n",
       "      <td>SHUDDER_SVOD</td>\n",
       "      <td>NaN</td>\n",
       "      <td>NaN</td>\n",
       "      <td>NaN</td>\n",
       "    </tr>\n",
       "    <tr>\n",
       "      <th>5</th>\n",
       "      <td>MV008879100000</td>\n",
       "      <td>Split</td>\n",
       "      <td>2016</td>\n",
       "      <td>[Thriller, Horror]</td>\n",
       "      <td>79</td>\n",
       "      <td>77</td>\n",
       "      <td>2020-02-19T05:00:00+00:00</td>\n",
       "      <td>2023-01-01T04:59:59+00:00</td>\n",
       "      <td>IND_HD</td>\n",
       "      <td>NaN</td>\n",
       "      <td>NaN</td>\n",
       "      <td>NaN</td>\n",
       "    </tr>\n",
       "    <tr>\n",
       "      <th>6</th>\n",
       "      <td>MV004084190000</td>\n",
       "      <td>The Conjuring</td>\n",
       "      <td>2013</td>\n",
       "      <td>[Horror, Thriller]</td>\n",
       "      <td>83</td>\n",
       "      <td>86</td>\n",
       "      <td>2017-06-26T04:00:00+00:00</td>\n",
       "      <td>2030-01-01T04:59:00+00:00</td>\n",
       "      <td>IND_HD_EXP</td>\n",
       "      <td>NaN</td>\n",
       "      <td>NaN</td>\n",
       "      <td>NaN</td>\n",
       "    </tr>\n",
       "    <tr>\n",
       "      <th>7</th>\n",
       "      <td>MV000004670000</td>\n",
       "      <td>Psycho</td>\n",
       "      <td>1960</td>\n",
       "      <td>[Horror, Thriller]</td>\n",
       "      <td>95</td>\n",
       "      <td>96</td>\n",
       "      <td>2019-03-21T04:00:00+00:00</td>\n",
       "      <td>2021-01-01T04:59:59+00:00</td>\n",
       "      <td>IND_HD_EXP</td>\n",
       "      <td>NaN</td>\n",
       "      <td>NaN</td>\n",
       "      <td>NaN</td>\n",
       "    </tr>\n",
       "    <tr>\n",
       "      <th>8</th>\n",
       "      <td>MV000171900000</td>\n",
       "      <td>Vertigo</td>\n",
       "      <td>1958</td>\n",
       "      <td>[Thriller, Mystery]</td>\n",
       "      <td>93</td>\n",
       "      <td>94</td>\n",
       "      <td>2020-02-19T05:00:00+00:00</td>\n",
       "      <td>2022-10-31T03:59:59+00:00</td>\n",
       "      <td>IND_HD</td>\n",
       "      <td>NaN</td>\n",
       "      <td>NaN</td>\n",
       "      <td>NaN</td>\n",
       "    </tr>\n",
       "    <tr>\n",
       "      <th>9</th>\n",
       "      <td>MV013433790000</td>\n",
       "      <td>The Burnt Orange Heresy</td>\n",
       "      <td>2019</td>\n",
       "      <td>[Thriller]</td>\n",
       "      <td>81</td>\n",
       "      <td>67</td>\n",
       "      <td>2020-08-25T04:00:00+00:00</td>\n",
       "      <td>2020-12-10T04:59:59+00:00</td>\n",
       "      <td>IND_HD</td>\n",
       "      <td>NaN</td>\n",
       "      <td>NaN</td>\n",
       "      <td>NaN</td>\n",
       "    </tr>\n",
       "    <tr>\n",
       "      <th>10</th>\n",
       "      <td>MV013636250000</td>\n",
       "      <td>Doctor Sleep: Director's Cut</td>\n",
       "      <td>2019</td>\n",
       "      <td>[Horror, Thriller]</td>\n",
       "      <td>89</td>\n",
       "      <td>77</td>\n",
       "      <td>2020-09-21T10:00:00+00:00</td>\n",
       "      <td>2021-03-01T10:59:00+00:00</td>\n",
       "      <td>HBO_HD_EXP</td>\n",
       "      <td>NaN</td>\n",
       "      <td>NaN</td>\n",
       "      <td>NaN</td>\n",
       "    </tr>\n",
       "    <tr>\n",
       "      <th>11</th>\n",
       "      <td>MV011980720000</td>\n",
       "      <td>Ruben Brandt, Collector</td>\n",
       "      <td>2018</td>\n",
       "      <td>[Thriller, Animated]</td>\n",
       "      <td>79</td>\n",
       "      <td>81</td>\n",
       "      <td>2019-09-20T04:01:00+00:00</td>\n",
       "      <td>2021-03-05T04:59:59+00:00</td>\n",
       "      <td>STARZ_HD_EXP_MPEG4</td>\n",
       "      <td>NaN</td>\n",
       "      <td>NaN</td>\n",
       "      <td>NaN</td>\n",
       "    </tr>\n",
       "    <tr>\n",
       "      <th>12</th>\n",
       "      <td>MV012253640000</td>\n",
       "      <td>The Isle</td>\n",
       "      <td>2018</td>\n",
       "      <td>[Horror, Thriller]</td>\n",
       "      <td>84</td>\n",
       "      <td>67</td>\n",
       "      <td>2019-06-15T04:00:00+00:00</td>\n",
       "      <td>2021-06-15T03:59:59+00:00</td>\n",
       "      <td>SHOWTIME_HD_EXP</td>\n",
       "      <td>NaN</td>\n",
       "      <td>NaN</td>\n",
       "      <td>NaN</td>\n",
       "    </tr>\n",
       "    <tr>\n",
       "      <th>13</th>\n",
       "      <td>MV005637570000</td>\n",
       "      <td>Coherence</td>\n",
       "      <td>2013</td>\n",
       "      <td>[Science fiction, Thriller]</td>\n",
       "      <td>81</td>\n",
       "      <td>88</td>\n",
       "      <td>2020-11-16T05:00:00+00:00</td>\n",
       "      <td>2022-11-14T04:59:59+00:00</td>\n",
       "      <td>SHUDDER_SVOD</td>\n",
       "      <td>NaN</td>\n",
       "      <td>NaN</td>\n",
       "      <td>NaN</td>\n",
       "    </tr>\n",
       "    <tr>\n",
       "      <th>14</th>\n",
       "      <td>MV006012000000</td>\n",
       "      <td>'71</td>\n",
       "      <td>2014</td>\n",
       "      <td>[Action, Thriller]</td>\n",
       "      <td>81</td>\n",
       "      <td>96</td>\n",
       "      <td>2016-07-22T04:00:00+00:00</td>\n",
       "      <td>2027-01-01T04:59:59+00:00</td>\n",
       "      <td>IND_HD_EXP</td>\n",
       "      <td>NaN</td>\n",
       "      <td>NaN</td>\n",
       "      <td>NaN</td>\n",
       "    </tr>\n",
       "    <tr>\n",
       "      <th>15</th>\n",
       "      <td>MV000066440000</td>\n",
       "      <td>The Birds</td>\n",
       "      <td>1963</td>\n",
       "      <td>[Thriller]</td>\n",
       "      <td>83</td>\n",
       "      <td>95</td>\n",
       "      <td>2019-03-21T04:00:00+00:00</td>\n",
       "      <td>2021-01-01T04:59:59+00:00</td>\n",
       "      <td>IND_HD_EXP</td>\n",
       "      <td>NaN</td>\n",
       "      <td>NaN</td>\n",
       "      <td>NaN</td>\n",
       "    </tr>\n",
       "    <tr>\n",
       "      <th>16</th>\n",
       "      <td>MV000171020000</td>\n",
       "      <td>Rear Window</td>\n",
       "      <td>1954</td>\n",
       "      <td>[Thriller]</td>\n",
       "      <td>95</td>\n",
       "      <td>99</td>\n",
       "      <td>2020-02-19T05:00:00+00:00</td>\n",
       "      <td>2022-10-31T03:59:59+00:00</td>\n",
       "      <td>IND_HD</td>\n",
       "      <td>NaN</td>\n",
       "      <td>NaN</td>\n",
       "      <td>NaN</td>\n",
       "    </tr>\n",
       "    <tr>\n",
       "      <th>17</th>\n",
       "      <td>MV000210120000</td>\n",
       "      <td>Blue Velvet</td>\n",
       "      <td>1986</td>\n",
       "      <td>[Thriller, Drama]</td>\n",
       "      <td>88</td>\n",
       "      <td>94</td>\n",
       "      <td>2020-12-01T05:00:00+00:00</td>\n",
       "      <td>2021-05-01T03:59:59+00:00</td>\n",
       "      <td>STARZ_HD_EXP_MPEG4</td>\n",
       "      <td>NaN</td>\n",
       "      <td>NaN</td>\n",
       "      <td>NaN</td>\n",
       "    </tr>\n",
       "    <tr>\n",
       "      <th>18</th>\n",
       "      <td>MV000286110000</td>\n",
       "      <td>The Hunt for Red October</td>\n",
       "      <td>1990</td>\n",
       "      <td>[Thriller, Action, Adventure]</td>\n",
       "      <td>88</td>\n",
       "      <td>89</td>\n",
       "      <td>2020-12-01T05:00:00+00:00</td>\n",
       "      <td>2021-01-01T04:59:59+00:00</td>\n",
       "      <td>SHOWTIME_HD_EXP</td>\n",
       "      <td>NaN</td>\n",
       "      <td>NaN</td>\n",
       "      <td>NaN</td>\n",
       "    </tr>\n",
       "    <tr>\n",
       "      <th>19</th>\n",
       "      <td>MV001158300000</td>\n",
       "      <td>The Bourne Identity</td>\n",
       "      <td>2002</td>\n",
       "      <td>[Action, Thriller]</td>\n",
       "      <td>93</td>\n",
       "      <td>83</td>\n",
       "      <td>2019-03-07T05:00:00+00:00</td>\n",
       "      <td>2021-01-01T04:59:59+00:00</td>\n",
       "      <td>IND_HD_EXP</td>\n",
       "      <td>NaN</td>\n",
       "      <td>NaN</td>\n",
       "      <td>NaN</td>\n",
       "    </tr>\n",
       "    <tr>\n",
       "      <th>20</th>\n",
       "      <td>MV001171630000</td>\n",
       "      <td>Minority Report</td>\n",
       "      <td>2002</td>\n",
       "      <td>[Science fiction, Thriller, Action]</td>\n",
       "      <td>80</td>\n",
       "      <td>90</td>\n",
       "      <td>2019-03-14T04:00:00+00:00</td>\n",
       "      <td>2030-01-01T04:59:59+00:00</td>\n",
       "      <td>IND_HD_EXP</td>\n",
       "      <td>NaN</td>\n",
       "      <td>NaN</td>\n",
       "      <td>NaN</td>\n",
       "    </tr>\n",
       "    <tr>\n",
       "      <th>21</th>\n",
       "      <td>MV011631080000</td>\n",
       "      <td>Doctor Sleep</td>\n",
       "      <td>2019</td>\n",
       "      <td>[Horror, Thriller]</td>\n",
       "      <td>89</td>\n",
       "      <td>77</td>\n",
       "      <td>2020-09-21T10:00:00+00:00</td>\n",
       "      <td>2021-03-01T10:59:00+00:00</td>\n",
       "      <td>HBO_HD_EXP</td>\n",
       "      <td>NaN</td>\n",
       "      <td>NaN</td>\n",
       "      <td>NaN</td>\n",
       "    </tr>\n",
       "    <tr>\n",
       "      <th>22</th>\n",
       "      <td>MV001803090000</td>\n",
       "      <td>Children of Men</td>\n",
       "      <td>2006</td>\n",
       "      <td>[Science fiction, Thriller]</td>\n",
       "      <td>85</td>\n",
       "      <td>92</td>\n",
       "      <td>2019-03-14T04:00:00+00:00</td>\n",
       "      <td>2021-01-01T04:59:59+00:00</td>\n",
       "      <td>IND_HD_EXP</td>\n",
       "      <td>NaN</td>\n",
       "      <td>NaN</td>\n",
       "      <td>NaN</td>\n",
       "    </tr>\n",
       "    <tr>\n",
       "      <th>23</th>\n",
       "      <td>MV001483620000</td>\n",
       "      <td>The Return</td>\n",
       "      <td>2003</td>\n",
       "      <td>[Drama, Thriller]</td>\n",
       "      <td>93</td>\n",
       "      <td>96</td>\n",
       "      <td>2020-03-16T04:00:00+00:00</td>\n",
       "      <td>2030-01-01T04:59:59+00:00</td>\n",
       "      <td>ACORNTV_SVOD</td>\n",
       "      <td>NaN</td>\n",
       "      <td>NaN</td>\n",
       "      <td>NaN</td>\n",
       "    </tr>\n",
       "    <tr>\n",
       "      <th>24</th>\n",
       "      <td>MV003461040000</td>\n",
       "      <td>The Guard</td>\n",
       "      <td>2011</td>\n",
       "      <td>[Comedy, Thriller]</td>\n",
       "      <td>81</td>\n",
       "      <td>94</td>\n",
       "      <td>2020-10-23T04:00:00+00:00</td>\n",
       "      <td>2021-10-01T03:59:59+00:00</td>\n",
       "      <td>STARZ_HD_EXP_MPEG4</td>\n",
       "      <td>NaN</td>\n",
       "      <td>NaN</td>\n",
       "      <td>NaN</td>\n",
       "    </tr>\n",
       "    <tr>\n",
       "      <th>25</th>\n",
       "      <td>MV000886040000</td>\n",
       "      <td>Croupier</td>\n",
       "      <td>1998</td>\n",
       "      <td>[Thriller]</td>\n",
       "      <td>79</td>\n",
       "      <td>96</td>\n",
       "      <td>2020-12-01T05:00:00+00:00</td>\n",
       "      <td>2021-06-01T03:59:59+00:00</td>\n",
       "      <td>SHOWTIME_HD_EXP</td>\n",
       "      <td>NaN</td>\n",
       "      <td>NaN</td>\n",
       "      <td>NaN</td>\n",
       "    </tr>\n",
       "  </tbody>\n",
       "</table>\n",
       "</div>"
      ],
      "text/plain": [
       "            TMS_ID                         title release_year  \\\n",
       "1   MV001724250000     The Man Who Knew Too Much         1956   \n",
       "2   MV001740600000                V for Vendetta         2006   \n",
       "3   MV000435430000                         Seven         1995   \n",
       "4   MV000468120000                Wake in Fright         1971   \n",
       "5   MV008879100000                         Split         2016   \n",
       "6   MV004084190000                 The Conjuring         2013   \n",
       "7   MV000004670000                        Psycho         1960   \n",
       "8   MV000171900000                       Vertigo         1958   \n",
       "9   MV013433790000       The Burnt Orange Heresy         2019   \n",
       "10  MV013636250000  Doctor Sleep: Director's Cut         2019   \n",
       "11  MV011980720000       Ruben Brandt, Collector         2018   \n",
       "12  MV012253640000                      The Isle         2018   \n",
       "13  MV005637570000                     Coherence         2013   \n",
       "14  MV006012000000                           '71         2014   \n",
       "15  MV000066440000                     The Birds         1963   \n",
       "16  MV000171020000                   Rear Window         1954   \n",
       "17  MV000210120000                   Blue Velvet         1986   \n",
       "18  MV000286110000      The Hunt for Red October         1990   \n",
       "19  MV001158300000           The Bourne Identity         2002   \n",
       "20  MV001171630000               Minority Report         2002   \n",
       "21  MV011631080000                  Doctor Sleep         2019   \n",
       "22  MV001803090000               Children of Men         2006   \n",
       "23  MV001483620000                    The Return         2003   \n",
       "24  MV003461040000                     The Guard         2011   \n",
       "25  MV000886040000                      Croupier         1998   \n",
       "\n",
       "                                  genre audience_score critics_score  \\\n",
       "1                            [Thriller]             84            87   \n",
       "2                    [Action, Thriller]             90            73   \n",
       "3               [Thriller, Crime drama]             95            82   \n",
       "4                     [Drama, Thriller]             83            96   \n",
       "5                    [Thriller, Horror]             79            77   \n",
       "6                    [Horror, Thriller]             83            86   \n",
       "7                    [Horror, Thriller]             95            96   \n",
       "8                   [Thriller, Mystery]             93            94   \n",
       "9                            [Thriller]             81            67   \n",
       "10                   [Horror, Thriller]             89            77   \n",
       "11                 [Thriller, Animated]             79            81   \n",
       "12                   [Horror, Thriller]             84            67   \n",
       "13          [Science fiction, Thriller]             81            88   \n",
       "14                   [Action, Thriller]             81            96   \n",
       "15                           [Thriller]             83            95   \n",
       "16                           [Thriller]             95            99   \n",
       "17                    [Thriller, Drama]             88            94   \n",
       "18        [Thriller, Action, Adventure]             88            89   \n",
       "19                   [Action, Thriller]             93            83   \n",
       "20  [Science fiction, Thriller, Action]             80            90   \n",
       "21                   [Horror, Thriller]             89            77   \n",
       "22          [Science fiction, Thriller]             85            92   \n",
       "23                    [Drama, Thriller]             93            96   \n",
       "24                   [Comedy, Thriller]             81            94   \n",
       "25                           [Thriller]             79            96   \n",
       "\n",
       "                   start_time                   end_time       provider_name  \\\n",
       "1   2019-03-21T04:00:00+00:00  2021-01-01T04:59:59+00:00          IND_HD_EXP   \n",
       "2   2016-07-14T04:00:00+00:00  2030-01-01T04:59:59+00:00          IND_HD_EXP   \n",
       "3   2016-07-14T04:00:00+00:00  2030-01-01T04:59:59+00:00          IND_HD_EXP   \n",
       "4   2017-05-15T04:00:00+00:00  2021-04-01T03:59:59+00:00        SHUDDER_SVOD   \n",
       "5   2020-02-19T05:00:00+00:00  2023-01-01T04:59:59+00:00              IND_HD   \n",
       "6   2017-06-26T04:00:00+00:00  2030-01-01T04:59:00+00:00          IND_HD_EXP   \n",
       "7   2019-03-21T04:00:00+00:00  2021-01-01T04:59:59+00:00          IND_HD_EXP   \n",
       "8   2020-02-19T05:00:00+00:00  2022-10-31T03:59:59+00:00              IND_HD   \n",
       "9   2020-08-25T04:00:00+00:00  2020-12-10T04:59:59+00:00              IND_HD   \n",
       "10  2020-09-21T10:00:00+00:00  2021-03-01T10:59:00+00:00          HBO_HD_EXP   \n",
       "11  2019-09-20T04:01:00+00:00  2021-03-05T04:59:59+00:00  STARZ_HD_EXP_MPEG4   \n",
       "12  2019-06-15T04:00:00+00:00  2021-06-15T03:59:59+00:00     SHOWTIME_HD_EXP   \n",
       "13  2020-11-16T05:00:00+00:00  2022-11-14T04:59:59+00:00        SHUDDER_SVOD   \n",
       "14  2016-07-22T04:00:00+00:00  2027-01-01T04:59:59+00:00          IND_HD_EXP   \n",
       "15  2019-03-21T04:00:00+00:00  2021-01-01T04:59:59+00:00          IND_HD_EXP   \n",
       "16  2020-02-19T05:00:00+00:00  2022-10-31T03:59:59+00:00              IND_HD   \n",
       "17  2020-12-01T05:00:00+00:00  2021-05-01T03:59:59+00:00  STARZ_HD_EXP_MPEG4   \n",
       "18  2020-12-01T05:00:00+00:00  2021-01-01T04:59:59+00:00     SHOWTIME_HD_EXP   \n",
       "19  2019-03-07T05:00:00+00:00  2021-01-01T04:59:59+00:00          IND_HD_EXP   \n",
       "20  2019-03-14T04:00:00+00:00  2030-01-01T04:59:59+00:00          IND_HD_EXP   \n",
       "21  2020-09-21T10:00:00+00:00  2021-03-01T10:59:00+00:00          HBO_HD_EXP   \n",
       "22  2019-03-14T04:00:00+00:00  2021-01-01T04:59:59+00:00          IND_HD_EXP   \n",
       "23  2020-03-16T04:00:00+00:00  2030-01-01T04:59:59+00:00        ACORNTV_SVOD   \n",
       "24  2020-10-23T04:00:00+00:00  2021-10-01T03:59:59+00:00  STARZ_HD_EXP_MPEG4   \n",
       "25  2020-12-01T05:00:00+00:00  2021-06-01T03:59:59+00:00     SHOWTIME_HD_EXP   \n",
       "\n",
       "   OMDB_pop_score tweets combined_followers  \n",
       "1             NaN    NaN                NaN  \n",
       "2             NaN    NaN                NaN  \n",
       "3             NaN    NaN                NaN  \n",
       "4             NaN    NaN                NaN  \n",
       "5             NaN    NaN                NaN  \n",
       "6             NaN    NaN                NaN  \n",
       "7             NaN    NaN                NaN  \n",
       "8             NaN    NaN                NaN  \n",
       "9             NaN    NaN                NaN  \n",
       "10            NaN    NaN                NaN  \n",
       "11            NaN    NaN                NaN  \n",
       "12            NaN    NaN                NaN  \n",
       "13            NaN    NaN                NaN  \n",
       "14            NaN    NaN                NaN  \n",
       "15            NaN    NaN                NaN  \n",
       "16            NaN    NaN                NaN  \n",
       "17            NaN    NaN                NaN  \n",
       "18            NaN    NaN                NaN  \n",
       "19            NaN    NaN                NaN  \n",
       "20            NaN    NaN                NaN  \n",
       "21            NaN    NaN                NaN  \n",
       "22            NaN    NaN                NaN  \n",
       "23            NaN    NaN                NaN  \n",
       "24            NaN    NaN                NaN  \n",
       "25            NaN    NaN                NaN  "
      ]
     },
     "execution_count": 123,
     "metadata": {},
     "output_type": "execute_result"
    }
   ],
   "source": [
    "results_df"
   ]
  },
  {
   "cell_type": "code",
   "execution_count": 124,
   "metadata": {},
   "outputs": [
    {
     "data": {
      "application/vnd.plotly.v1+json": {
       "config": {
        "plotlyServerURL": "https://plot.ly"
       },
       "data": [
        {
         "marker": {
          "color": "rgb(158,202,225)",
          "line": {
           "color": "rgb(8,48,107)",
           "width": 1.5
          }
         },
         "opacity": 0.6,
         "type": "bar",
         "x": [
          "The Man Who Knew Too Much",
          "V for Vendetta",
          "Seven",
          "Wake in Fright",
          "Split",
          "The Conjuring",
          "Psycho",
          "Vertigo",
          "The Burnt Orange Heresy",
          "Doctor Sleep: Director's Cut",
          "Ruben Brandt, Collector",
          "The Isle",
          "Coherence",
          "'71",
          "The Birds",
          "Rear Window",
          "Blue Velvet",
          "The Hunt for Red October",
          "The Bourne Identity",
          "Minority Report",
          "Doctor Sleep",
          "Children of Men",
          "The Return",
          "The Guard",
          "Croupier"
         ],
         "y": [
          84,
          90,
          95,
          83,
          79,
          83,
          95,
          93,
          81,
          89,
          79,
          84,
          81,
          81,
          83,
          95,
          88,
          88,
          93,
          80,
          89,
          85,
          93,
          81,
          79
         ]
        }
       ],
       "layout": {
        "template": {
         "data": {
          "bar": [
           {
            "error_x": {
             "color": "#f2f5fa"
            },
            "error_y": {
             "color": "#f2f5fa"
            },
            "marker": {
             "line": {
              "color": "rgb(17,17,17)",
              "width": 0.5
             }
            },
            "type": "bar"
           }
          ],
          "barpolar": [
           {
            "marker": {
             "line": {
              "color": "rgb(17,17,17)",
              "width": 0.5
             }
            },
            "type": "barpolar"
           }
          ],
          "carpet": [
           {
            "aaxis": {
             "endlinecolor": "#A2B1C6",
             "gridcolor": "#506784",
             "linecolor": "#506784",
             "minorgridcolor": "#506784",
             "startlinecolor": "#A2B1C6"
            },
            "baxis": {
             "endlinecolor": "#A2B1C6",
             "gridcolor": "#506784",
             "linecolor": "#506784",
             "minorgridcolor": "#506784",
             "startlinecolor": "#A2B1C6"
            },
            "type": "carpet"
           }
          ],
          "choropleth": [
           {
            "colorbar": {
             "outlinewidth": 0,
             "ticks": ""
            },
            "type": "choropleth"
           }
          ],
          "contour": [
           {
            "colorbar": {
             "outlinewidth": 0,
             "ticks": ""
            },
            "colorscale": [
             [
              0,
              "#0d0887"
             ],
             [
              0.1111111111111111,
              "#46039f"
             ],
             [
              0.2222222222222222,
              "#7201a8"
             ],
             [
              0.3333333333333333,
              "#9c179e"
             ],
             [
              0.4444444444444444,
              "#bd3786"
             ],
             [
              0.5555555555555556,
              "#d8576b"
             ],
             [
              0.6666666666666666,
              "#ed7953"
             ],
             [
              0.7777777777777778,
              "#fb9f3a"
             ],
             [
              0.8888888888888888,
              "#fdca26"
             ],
             [
              1,
              "#f0f921"
             ]
            ],
            "type": "contour"
           }
          ],
          "contourcarpet": [
           {
            "colorbar": {
             "outlinewidth": 0,
             "ticks": ""
            },
            "type": "contourcarpet"
           }
          ],
          "heatmap": [
           {
            "colorbar": {
             "outlinewidth": 0,
             "ticks": ""
            },
            "colorscale": [
             [
              0,
              "#0d0887"
             ],
             [
              0.1111111111111111,
              "#46039f"
             ],
             [
              0.2222222222222222,
              "#7201a8"
             ],
             [
              0.3333333333333333,
              "#9c179e"
             ],
             [
              0.4444444444444444,
              "#bd3786"
             ],
             [
              0.5555555555555556,
              "#d8576b"
             ],
             [
              0.6666666666666666,
              "#ed7953"
             ],
             [
              0.7777777777777778,
              "#fb9f3a"
             ],
             [
              0.8888888888888888,
              "#fdca26"
             ],
             [
              1,
              "#f0f921"
             ]
            ],
            "type": "heatmap"
           }
          ],
          "heatmapgl": [
           {
            "colorbar": {
             "outlinewidth": 0,
             "ticks": ""
            },
            "colorscale": [
             [
              0,
              "#0d0887"
             ],
             [
              0.1111111111111111,
              "#46039f"
             ],
             [
              0.2222222222222222,
              "#7201a8"
             ],
             [
              0.3333333333333333,
              "#9c179e"
             ],
             [
              0.4444444444444444,
              "#bd3786"
             ],
             [
              0.5555555555555556,
              "#d8576b"
             ],
             [
              0.6666666666666666,
              "#ed7953"
             ],
             [
              0.7777777777777778,
              "#fb9f3a"
             ],
             [
              0.8888888888888888,
              "#fdca26"
             ],
             [
              1,
              "#f0f921"
             ]
            ],
            "type": "heatmapgl"
           }
          ],
          "histogram": [
           {
            "marker": {
             "colorbar": {
              "outlinewidth": 0,
              "ticks": ""
             }
            },
            "type": "histogram"
           }
          ],
          "histogram2d": [
           {
            "colorbar": {
             "outlinewidth": 0,
             "ticks": ""
            },
            "colorscale": [
             [
              0,
              "#0d0887"
             ],
             [
              0.1111111111111111,
              "#46039f"
             ],
             [
              0.2222222222222222,
              "#7201a8"
             ],
             [
              0.3333333333333333,
              "#9c179e"
             ],
             [
              0.4444444444444444,
              "#bd3786"
             ],
             [
              0.5555555555555556,
              "#d8576b"
             ],
             [
              0.6666666666666666,
              "#ed7953"
             ],
             [
              0.7777777777777778,
              "#fb9f3a"
             ],
             [
              0.8888888888888888,
              "#fdca26"
             ],
             [
              1,
              "#f0f921"
             ]
            ],
            "type": "histogram2d"
           }
          ],
          "histogram2dcontour": [
           {
            "colorbar": {
             "outlinewidth": 0,
             "ticks": ""
            },
            "colorscale": [
             [
              0,
              "#0d0887"
             ],
             [
              0.1111111111111111,
              "#46039f"
             ],
             [
              0.2222222222222222,
              "#7201a8"
             ],
             [
              0.3333333333333333,
              "#9c179e"
             ],
             [
              0.4444444444444444,
              "#bd3786"
             ],
             [
              0.5555555555555556,
              "#d8576b"
             ],
             [
              0.6666666666666666,
              "#ed7953"
             ],
             [
              0.7777777777777778,
              "#fb9f3a"
             ],
             [
              0.8888888888888888,
              "#fdca26"
             ],
             [
              1,
              "#f0f921"
             ]
            ],
            "type": "histogram2dcontour"
           }
          ],
          "mesh3d": [
           {
            "colorbar": {
             "outlinewidth": 0,
             "ticks": ""
            },
            "type": "mesh3d"
           }
          ],
          "parcoords": [
           {
            "line": {
             "colorbar": {
              "outlinewidth": 0,
              "ticks": ""
             }
            },
            "type": "parcoords"
           }
          ],
          "pie": [
           {
            "automargin": true,
            "type": "pie"
           }
          ],
          "scatter": [
           {
            "marker": {
             "line": {
              "color": "#283442"
             }
            },
            "type": "scatter"
           }
          ],
          "scatter3d": [
           {
            "line": {
             "colorbar": {
              "outlinewidth": 0,
              "ticks": ""
             }
            },
            "marker": {
             "colorbar": {
              "outlinewidth": 0,
              "ticks": ""
             }
            },
            "type": "scatter3d"
           }
          ],
          "scattercarpet": [
           {
            "marker": {
             "colorbar": {
              "outlinewidth": 0,
              "ticks": ""
             }
            },
            "type": "scattercarpet"
           }
          ],
          "scattergeo": [
           {
            "marker": {
             "colorbar": {
              "outlinewidth": 0,
              "ticks": ""
             }
            },
            "type": "scattergeo"
           }
          ],
          "scattergl": [
           {
            "marker": {
             "line": {
              "color": "#283442"
             }
            },
            "type": "scattergl"
           }
          ],
          "scattermapbox": [
           {
            "marker": {
             "colorbar": {
              "outlinewidth": 0,
              "ticks": ""
             }
            },
            "type": "scattermapbox"
           }
          ],
          "scatterpolar": [
           {
            "marker": {
             "colorbar": {
              "outlinewidth": 0,
              "ticks": ""
             }
            },
            "type": "scatterpolar"
           }
          ],
          "scatterpolargl": [
           {
            "marker": {
             "colorbar": {
              "outlinewidth": 0,
              "ticks": ""
             }
            },
            "type": "scatterpolargl"
           }
          ],
          "scatterternary": [
           {
            "marker": {
             "colorbar": {
              "outlinewidth": 0,
              "ticks": ""
             }
            },
            "type": "scatterternary"
           }
          ],
          "surface": [
           {
            "colorbar": {
             "outlinewidth": 0,
             "ticks": ""
            },
            "colorscale": [
             [
              0,
              "#0d0887"
             ],
             [
              0.1111111111111111,
              "#46039f"
             ],
             [
              0.2222222222222222,
              "#7201a8"
             ],
             [
              0.3333333333333333,
              "#9c179e"
             ],
             [
              0.4444444444444444,
              "#bd3786"
             ],
             [
              0.5555555555555556,
              "#d8576b"
             ],
             [
              0.6666666666666666,
              "#ed7953"
             ],
             [
              0.7777777777777778,
              "#fb9f3a"
             ],
             [
              0.8888888888888888,
              "#fdca26"
             ],
             [
              1,
              "#f0f921"
             ]
            ],
            "type": "surface"
           }
          ],
          "table": [
           {
            "cells": {
             "fill": {
              "color": "#506784"
             },
             "line": {
              "color": "rgb(17,17,17)"
             }
            },
            "header": {
             "fill": {
              "color": "#2a3f5f"
             },
             "line": {
              "color": "rgb(17,17,17)"
             }
            },
            "type": "table"
           }
          ]
         },
         "layout": {
          "annotationdefaults": {
           "arrowcolor": "#f2f5fa",
           "arrowhead": 0,
           "arrowwidth": 1
          },
          "coloraxis": {
           "colorbar": {
            "outlinewidth": 0,
            "ticks": ""
           }
          },
          "colorscale": {
           "diverging": [
            [
             0,
             "#8e0152"
            ],
            [
             0.1,
             "#c51b7d"
            ],
            [
             0.2,
             "#de77ae"
            ],
            [
             0.3,
             "#f1b6da"
            ],
            [
             0.4,
             "#fde0ef"
            ],
            [
             0.5,
             "#f7f7f7"
            ],
            [
             0.6,
             "#e6f5d0"
            ],
            [
             0.7,
             "#b8e186"
            ],
            [
             0.8,
             "#7fbc41"
            ],
            [
             0.9,
             "#4d9221"
            ],
            [
             1,
             "#276419"
            ]
           ],
           "sequential": [
            [
             0,
             "#0d0887"
            ],
            [
             0.1111111111111111,
             "#46039f"
            ],
            [
             0.2222222222222222,
             "#7201a8"
            ],
            [
             0.3333333333333333,
             "#9c179e"
            ],
            [
             0.4444444444444444,
             "#bd3786"
            ],
            [
             0.5555555555555556,
             "#d8576b"
            ],
            [
             0.6666666666666666,
             "#ed7953"
            ],
            [
             0.7777777777777778,
             "#fb9f3a"
            ],
            [
             0.8888888888888888,
             "#fdca26"
            ],
            [
             1,
             "#f0f921"
            ]
           ],
           "sequentialminus": [
            [
             0,
             "#0d0887"
            ],
            [
             0.1111111111111111,
             "#46039f"
            ],
            [
             0.2222222222222222,
             "#7201a8"
            ],
            [
             0.3333333333333333,
             "#9c179e"
            ],
            [
             0.4444444444444444,
             "#bd3786"
            ],
            [
             0.5555555555555556,
             "#d8576b"
            ],
            [
             0.6666666666666666,
             "#ed7953"
            ],
            [
             0.7777777777777778,
             "#fb9f3a"
            ],
            [
             0.8888888888888888,
             "#fdca26"
            ],
            [
             1,
             "#f0f921"
            ]
           ]
          },
          "colorway": [
           "#636efa",
           "#EF553B",
           "#00cc96",
           "#ab63fa",
           "#FFA15A",
           "#19d3f3",
           "#FF6692",
           "#B6E880",
           "#FF97FF",
           "#FECB52"
          ],
          "font": {
           "color": "#f2f5fa"
          },
          "geo": {
           "bgcolor": "rgb(17,17,17)",
           "lakecolor": "rgb(17,17,17)",
           "landcolor": "rgb(17,17,17)",
           "showlakes": true,
           "showland": true,
           "subunitcolor": "#506784"
          },
          "hoverlabel": {
           "align": "left"
          },
          "hovermode": "closest",
          "mapbox": {
           "style": "dark"
          },
          "paper_bgcolor": "rgb(17,17,17)",
          "plot_bgcolor": "rgb(17,17,17)",
          "polar": {
           "angularaxis": {
            "gridcolor": "#506784",
            "linecolor": "#506784",
            "ticks": ""
           },
           "bgcolor": "rgb(17,17,17)",
           "radialaxis": {
            "gridcolor": "#506784",
            "linecolor": "#506784",
            "ticks": ""
           }
          },
          "scene": {
           "xaxis": {
            "backgroundcolor": "rgb(17,17,17)",
            "gridcolor": "#506784",
            "gridwidth": 2,
            "linecolor": "#506784",
            "showbackground": true,
            "ticks": "",
            "zerolinecolor": "#C8D4E3"
           },
           "yaxis": {
            "backgroundcolor": "rgb(17,17,17)",
            "gridcolor": "#506784",
            "gridwidth": 2,
            "linecolor": "#506784",
            "showbackground": true,
            "ticks": "",
            "zerolinecolor": "#C8D4E3"
           },
           "zaxis": {
            "backgroundcolor": "rgb(17,17,17)",
            "gridcolor": "#506784",
            "gridwidth": 2,
            "linecolor": "#506784",
            "showbackground": true,
            "ticks": "",
            "zerolinecolor": "#C8D4E3"
           }
          },
          "shapedefaults": {
           "line": {
            "color": "#f2f5fa"
           }
          },
          "sliderdefaults": {
           "bgcolor": "#C8D4E3",
           "bordercolor": "rgb(17,17,17)",
           "borderwidth": 1,
           "tickwidth": 0
          },
          "ternary": {
           "aaxis": {
            "gridcolor": "#506784",
            "linecolor": "#506784",
            "ticks": ""
           },
           "baxis": {
            "gridcolor": "#506784",
            "linecolor": "#506784",
            "ticks": ""
           },
           "bgcolor": "rgb(17,17,17)",
           "caxis": {
            "gridcolor": "#506784",
            "linecolor": "#506784",
            "ticks": ""
           }
          },
          "title": {
           "x": 0.05
          },
          "updatemenudefaults": {
           "bgcolor": "#506784",
           "borderwidth": 0
          },
          "xaxis": {
           "automargin": true,
           "gridcolor": "#283442",
           "linecolor": "#506784",
           "ticks": "",
           "title": {
            "standoff": 15
           },
           "zerolinecolor": "#283442",
           "zerolinewidth": 2
          },
          "yaxis": {
           "automargin": true,
           "gridcolor": "#283442",
           "linecolor": "#506784",
           "ticks": "",
           "title": {
            "standoff": 15
           },
           "zerolinecolor": "#283442",
           "zerolinewidth": 2
          }
         }
        },
        "title": {
         "text": "Rotten Tomatoes Score"
        }
       }
      },
      "text/html": [
       "<div>                            <div id=\"3934b234-eb0c-4b38-8b04-25790d91daf7\" class=\"plotly-graph-div\" style=\"height:525px; width:100%;\"></div>            <script type=\"text/javascript\">                require([\"plotly\"], function(Plotly) {                    window.PLOTLYENV=window.PLOTLYENV || {};                                    if (document.getElementById(\"3934b234-eb0c-4b38-8b04-25790d91daf7\")) {                    Plotly.newPlot(                        \"3934b234-eb0c-4b38-8b04-25790d91daf7\",                        [{\"marker\": {\"color\": \"rgb(158,202,225)\", \"line\": {\"color\": \"rgb(8,48,107)\", \"width\": 1.5}}, \"opacity\": 0.6, \"type\": \"bar\", \"x\": [\"The Man Who Knew Too Much\", \"V for Vendetta\", \"Seven\", \"Wake in Fright\", \"Split\", \"The Conjuring\", \"Psycho\", \"Vertigo\", \"The Burnt Orange Heresy\", \"Doctor Sleep: Director's Cut\", \"Ruben Brandt, Collector\", \"The Isle\", \"Coherence\", \"'71\", \"The Birds\", \"Rear Window\", \"Blue Velvet\", \"The Hunt for Red October\", \"The Bourne Identity\", \"Minority Report\", \"Doctor Sleep\", \"Children of Men\", \"The Return\", \"The Guard\", \"Croupier\"], \"y\": [84, 90, 95, 83, 79, 83, 95, 93, 81, 89, 79, 84, 81, 81, 83, 95, 88, 88, 93, 80, 89, 85, 93, 81, 79]}],                        {\"template\": {\"data\": {\"bar\": [{\"error_x\": {\"color\": \"#f2f5fa\"}, \"error_y\": {\"color\": \"#f2f5fa\"}, \"marker\": {\"line\": {\"color\": \"rgb(17,17,17)\", \"width\": 0.5}}, \"type\": \"bar\"}], \"barpolar\": [{\"marker\": {\"line\": {\"color\": \"rgb(17,17,17)\", \"width\": 0.5}}, \"type\": \"barpolar\"}], \"carpet\": [{\"aaxis\": {\"endlinecolor\": \"#A2B1C6\", \"gridcolor\": \"#506784\", \"linecolor\": \"#506784\", \"minorgridcolor\": \"#506784\", \"startlinecolor\": \"#A2B1C6\"}, \"baxis\": {\"endlinecolor\": \"#A2B1C6\", \"gridcolor\": \"#506784\", \"linecolor\": \"#506784\", \"minorgridcolor\": \"#506784\", \"startlinecolor\": \"#A2B1C6\"}, \"type\": \"carpet\"}], \"choropleth\": [{\"colorbar\": {\"outlinewidth\": 0, \"ticks\": \"\"}, \"type\": \"choropleth\"}], \"contour\": [{\"colorbar\": {\"outlinewidth\": 0, \"ticks\": \"\"}, \"colorscale\": [[0.0, \"#0d0887\"], [0.1111111111111111, \"#46039f\"], [0.2222222222222222, \"#7201a8\"], [0.3333333333333333, \"#9c179e\"], [0.4444444444444444, \"#bd3786\"], [0.5555555555555556, \"#d8576b\"], [0.6666666666666666, \"#ed7953\"], [0.7777777777777778, \"#fb9f3a\"], [0.8888888888888888, \"#fdca26\"], [1.0, \"#f0f921\"]], \"type\": \"contour\"}], \"contourcarpet\": [{\"colorbar\": {\"outlinewidth\": 0, \"ticks\": \"\"}, \"type\": \"contourcarpet\"}], \"heatmap\": [{\"colorbar\": {\"outlinewidth\": 0, \"ticks\": \"\"}, \"colorscale\": [[0.0, \"#0d0887\"], [0.1111111111111111, \"#46039f\"], [0.2222222222222222, \"#7201a8\"], [0.3333333333333333, \"#9c179e\"], [0.4444444444444444, \"#bd3786\"], [0.5555555555555556, \"#d8576b\"], [0.6666666666666666, \"#ed7953\"], [0.7777777777777778, \"#fb9f3a\"], [0.8888888888888888, \"#fdca26\"], [1.0, \"#f0f921\"]], \"type\": \"heatmap\"}], \"heatmapgl\": [{\"colorbar\": {\"outlinewidth\": 0, \"ticks\": \"\"}, \"colorscale\": [[0.0, \"#0d0887\"], [0.1111111111111111, \"#46039f\"], [0.2222222222222222, \"#7201a8\"], [0.3333333333333333, \"#9c179e\"], [0.4444444444444444, \"#bd3786\"], [0.5555555555555556, \"#d8576b\"], [0.6666666666666666, \"#ed7953\"], [0.7777777777777778, \"#fb9f3a\"], [0.8888888888888888, \"#fdca26\"], [1.0, \"#f0f921\"]], \"type\": \"heatmapgl\"}], \"histogram\": [{\"marker\": {\"colorbar\": {\"outlinewidth\": 0, \"ticks\": \"\"}}, \"type\": \"histogram\"}], \"histogram2d\": [{\"colorbar\": {\"outlinewidth\": 0, \"ticks\": \"\"}, \"colorscale\": [[0.0, \"#0d0887\"], [0.1111111111111111, \"#46039f\"], [0.2222222222222222, \"#7201a8\"], [0.3333333333333333, \"#9c179e\"], [0.4444444444444444, \"#bd3786\"], [0.5555555555555556, \"#d8576b\"], [0.6666666666666666, \"#ed7953\"], [0.7777777777777778, \"#fb9f3a\"], [0.8888888888888888, \"#fdca26\"], [1.0, \"#f0f921\"]], \"type\": \"histogram2d\"}], \"histogram2dcontour\": [{\"colorbar\": {\"outlinewidth\": 0, \"ticks\": \"\"}, \"colorscale\": [[0.0, \"#0d0887\"], [0.1111111111111111, \"#46039f\"], [0.2222222222222222, \"#7201a8\"], [0.3333333333333333, \"#9c179e\"], [0.4444444444444444, \"#bd3786\"], [0.5555555555555556, \"#d8576b\"], [0.6666666666666666, \"#ed7953\"], [0.7777777777777778, \"#fb9f3a\"], [0.8888888888888888, \"#fdca26\"], [1.0, \"#f0f921\"]], \"type\": \"histogram2dcontour\"}], \"mesh3d\": [{\"colorbar\": {\"outlinewidth\": 0, \"ticks\": \"\"}, \"type\": \"mesh3d\"}], \"parcoords\": [{\"line\": {\"colorbar\": {\"outlinewidth\": 0, \"ticks\": \"\"}}, \"type\": \"parcoords\"}], \"pie\": [{\"automargin\": true, \"type\": \"pie\"}], \"scatter\": [{\"marker\": {\"line\": {\"color\": \"#283442\"}}, \"type\": \"scatter\"}], \"scatter3d\": [{\"line\": {\"colorbar\": {\"outlinewidth\": 0, \"ticks\": \"\"}}, \"marker\": {\"colorbar\": {\"outlinewidth\": 0, \"ticks\": \"\"}}, \"type\": \"scatter3d\"}], \"scattercarpet\": [{\"marker\": {\"colorbar\": {\"outlinewidth\": 0, \"ticks\": \"\"}}, \"type\": \"scattercarpet\"}], \"scattergeo\": [{\"marker\": {\"colorbar\": {\"outlinewidth\": 0, \"ticks\": \"\"}}, \"type\": \"scattergeo\"}], \"scattergl\": [{\"marker\": {\"line\": {\"color\": \"#283442\"}}, \"type\": \"scattergl\"}], \"scattermapbox\": [{\"marker\": {\"colorbar\": {\"outlinewidth\": 0, \"ticks\": \"\"}}, \"type\": \"scattermapbox\"}], \"scatterpolar\": [{\"marker\": {\"colorbar\": {\"outlinewidth\": 0, \"ticks\": \"\"}}, \"type\": \"scatterpolar\"}], \"scatterpolargl\": [{\"marker\": {\"colorbar\": {\"outlinewidth\": 0, \"ticks\": \"\"}}, \"type\": \"scatterpolargl\"}], \"scatterternary\": [{\"marker\": {\"colorbar\": {\"outlinewidth\": 0, \"ticks\": \"\"}}, \"type\": \"scatterternary\"}], \"surface\": [{\"colorbar\": {\"outlinewidth\": 0, \"ticks\": \"\"}, \"colorscale\": [[0.0, \"#0d0887\"], [0.1111111111111111, \"#46039f\"], [0.2222222222222222, \"#7201a8\"], [0.3333333333333333, \"#9c179e\"], [0.4444444444444444, \"#bd3786\"], [0.5555555555555556, \"#d8576b\"], [0.6666666666666666, \"#ed7953\"], [0.7777777777777778, \"#fb9f3a\"], [0.8888888888888888, \"#fdca26\"], [1.0, \"#f0f921\"]], \"type\": \"surface\"}], \"table\": [{\"cells\": {\"fill\": {\"color\": \"#506784\"}, \"line\": {\"color\": \"rgb(17,17,17)\"}}, \"header\": {\"fill\": {\"color\": \"#2a3f5f\"}, \"line\": {\"color\": \"rgb(17,17,17)\"}}, \"type\": \"table\"}]}, \"layout\": {\"annotationdefaults\": {\"arrowcolor\": \"#f2f5fa\", \"arrowhead\": 0, \"arrowwidth\": 1}, \"coloraxis\": {\"colorbar\": {\"outlinewidth\": 0, \"ticks\": \"\"}}, \"colorscale\": {\"diverging\": [[0, \"#8e0152\"], [0.1, \"#c51b7d\"], [0.2, \"#de77ae\"], [0.3, \"#f1b6da\"], [0.4, \"#fde0ef\"], [0.5, \"#f7f7f7\"], [0.6, \"#e6f5d0\"], [0.7, \"#b8e186\"], [0.8, \"#7fbc41\"], [0.9, \"#4d9221\"], [1, \"#276419\"]], \"sequential\": [[0.0, \"#0d0887\"], [0.1111111111111111, \"#46039f\"], [0.2222222222222222, \"#7201a8\"], [0.3333333333333333, \"#9c179e\"], [0.4444444444444444, \"#bd3786\"], [0.5555555555555556, \"#d8576b\"], [0.6666666666666666, \"#ed7953\"], [0.7777777777777778, \"#fb9f3a\"], [0.8888888888888888, \"#fdca26\"], [1.0, \"#f0f921\"]], \"sequentialminus\": [[0.0, \"#0d0887\"], [0.1111111111111111, \"#46039f\"], [0.2222222222222222, \"#7201a8\"], [0.3333333333333333, \"#9c179e\"], [0.4444444444444444, \"#bd3786\"], [0.5555555555555556, \"#d8576b\"], [0.6666666666666666, \"#ed7953\"], [0.7777777777777778, \"#fb9f3a\"], [0.8888888888888888, \"#fdca26\"], [1.0, \"#f0f921\"]]}, \"colorway\": [\"#636efa\", \"#EF553B\", \"#00cc96\", \"#ab63fa\", \"#FFA15A\", \"#19d3f3\", \"#FF6692\", \"#B6E880\", \"#FF97FF\", \"#FECB52\"], \"font\": {\"color\": \"#f2f5fa\"}, \"geo\": {\"bgcolor\": \"rgb(17,17,17)\", \"lakecolor\": \"rgb(17,17,17)\", \"landcolor\": \"rgb(17,17,17)\", \"showlakes\": true, \"showland\": true, \"subunitcolor\": \"#506784\"}, \"hoverlabel\": {\"align\": \"left\"}, \"hovermode\": \"closest\", \"mapbox\": {\"style\": \"dark\"}, \"paper_bgcolor\": \"rgb(17,17,17)\", \"plot_bgcolor\": \"rgb(17,17,17)\", \"polar\": {\"angularaxis\": {\"gridcolor\": \"#506784\", \"linecolor\": \"#506784\", \"ticks\": \"\"}, \"bgcolor\": \"rgb(17,17,17)\", \"radialaxis\": {\"gridcolor\": \"#506784\", \"linecolor\": \"#506784\", \"ticks\": \"\"}}, \"scene\": {\"xaxis\": {\"backgroundcolor\": \"rgb(17,17,17)\", \"gridcolor\": \"#506784\", \"gridwidth\": 2, \"linecolor\": \"#506784\", \"showbackground\": true, \"ticks\": \"\", \"zerolinecolor\": \"#C8D4E3\"}, \"yaxis\": {\"backgroundcolor\": \"rgb(17,17,17)\", \"gridcolor\": \"#506784\", \"gridwidth\": 2, \"linecolor\": \"#506784\", \"showbackground\": true, \"ticks\": \"\", \"zerolinecolor\": \"#C8D4E3\"}, \"zaxis\": {\"backgroundcolor\": \"rgb(17,17,17)\", \"gridcolor\": \"#506784\", \"gridwidth\": 2, \"linecolor\": \"#506784\", \"showbackground\": true, \"ticks\": \"\", \"zerolinecolor\": \"#C8D4E3\"}}, \"shapedefaults\": {\"line\": {\"color\": \"#f2f5fa\"}}, \"sliderdefaults\": {\"bgcolor\": \"#C8D4E3\", \"bordercolor\": \"rgb(17,17,17)\", \"borderwidth\": 1, \"tickwidth\": 0}, \"ternary\": {\"aaxis\": {\"gridcolor\": \"#506784\", \"linecolor\": \"#506784\", \"ticks\": \"\"}, \"baxis\": {\"gridcolor\": \"#506784\", \"linecolor\": \"#506784\", \"ticks\": \"\"}, \"bgcolor\": \"rgb(17,17,17)\", \"caxis\": {\"gridcolor\": \"#506784\", \"linecolor\": \"#506784\", \"ticks\": \"\"}}, \"title\": {\"x\": 0.05}, \"updatemenudefaults\": {\"bgcolor\": \"#506784\", \"borderwidth\": 0}, \"xaxis\": {\"automargin\": true, \"gridcolor\": \"#283442\", \"linecolor\": \"#506784\", \"ticks\": \"\", \"title\": {\"standoff\": 15}, \"zerolinecolor\": \"#283442\", \"zerolinewidth\": 2}, \"yaxis\": {\"automargin\": true, \"gridcolor\": \"#283442\", \"linecolor\": \"#506784\", \"ticks\": \"\", \"title\": {\"standoff\": 15}, \"zerolinecolor\": \"#283442\", \"zerolinewidth\": 2}}}, \"title\": {\"text\": \"Rotten Tomatoes Score\"}},                        {\"responsive\": true}                    ).then(function(){\n",
       "                            \n",
       "var gd = document.getElementById('3934b234-eb0c-4b38-8b04-25790d91daf7');\n",
       "var x = new MutationObserver(function (mutations, observer) {{\n",
       "        var display = window.getComputedStyle(gd).display;\n",
       "        if (!display || display === 'none') {{\n",
       "            console.log([gd, 'removed!']);\n",
       "            Plotly.purge(gd);\n",
       "            observer.disconnect();\n",
       "        }}\n",
       "}});\n",
       "\n",
       "// Listen for the removal of the full notebook cells\n",
       "var notebookContainer = gd.closest('#notebook-container');\n",
       "if (notebookContainer) {{\n",
       "    x.observe(notebookContainer, {childList: true});\n",
       "}}\n",
       "\n",
       "// Listen for the clearing of the current output cell\n",
       "var outputEl = gd.closest('.output');\n",
       "if (outputEl) {{\n",
       "    x.observe(outputEl, {childList: true});\n",
       "}}\n",
       "\n",
       "                        })                };                });            </script>        </div>"
      ]
     },
     "metadata": {},
     "output_type": "display_data"
    }
   ],
   "source": [
    "#Bar graphs the results\n",
    "\n",
    "titles = list(results_df['title'])\n",
    "scores = list(results_df['audience_score'])\n",
    "\n",
    "y = scores\n",
    "x = titles\n",
    "    #hovertext defaults to index (country name)\n",
    "fig = go.Figure(data=[go.Bar(x=x, y=y)])\n",
    "    # Customize aspect\n",
    "fig.update_traces(marker_color='rgb(158,202,225)' , marker_line_color='rgb(8,48,107)',\n",
    "                      marker_line_width=1.5, opacity=0.6)\n",
    "fig.update_layout(template= \"plotly_dark\",title_text='Rotten Tomatoes Score')\n",
    "fig.show()"
   ]
  },
  {
   "cell_type": "code",
   "execution_count": null,
   "metadata": {},
   "outputs": [],
   "source": []
  },
  {
   "cell_type": "code",
   "execution_count": null,
   "metadata": {},
   "outputs": [],
   "source": []
  },
  {
   "cell_type": "code",
   "execution_count": 125,
   "metadata": {},
   "outputs": [
    {
     "name": "stdout",
     "output_type": "stream",
     "text": [
      "complete\n"
     ]
    }
   ],
   "source": [
    "#Queries OMDB with each movie title and stores the popularity score in the pandas df\n",
    "\n",
    "import warnings\n",
    "warnings.filterwarnings('ignore')\n",
    "\n",
    "\n",
    "for i in range(len(titles)):\n",
    "    try:\n",
    "        OMDB_url = f\"https://api.themoviedb.org/3/search/movie?api_key=e07b872e9d8245d899b0f40ba2d998c4&query={titles[i]}\"\n",
    "        OMDB_response = requests.get(OMDB_url, verify=False).json()\n",
    "        results_df.loc[i+1,'OMDB_pop_score'] = OMDB_response['results'][0]['popularity']\n",
    "    except:\n",
    "        pass\n",
    "    \n",
    "print('complete')"
   ]
  },
  {
   "cell_type": "code",
   "execution_count": 126,
   "metadata": {},
   "outputs": [
    {
     "data": {
      "text/html": [
       "<div>\n",
       "<style scoped>\n",
       "    .dataframe tbody tr th:only-of-type {\n",
       "        vertical-align: middle;\n",
       "    }\n",
       "\n",
       "    .dataframe tbody tr th {\n",
       "        vertical-align: top;\n",
       "    }\n",
       "\n",
       "    .dataframe thead th {\n",
       "        text-align: right;\n",
       "    }\n",
       "</style>\n",
       "<table border=\"1\" class=\"dataframe\">\n",
       "  <thead>\n",
       "    <tr style=\"text-align: right;\">\n",
       "      <th></th>\n",
       "      <th>TMS_ID</th>\n",
       "      <th>title</th>\n",
       "      <th>release_year</th>\n",
       "      <th>genre</th>\n",
       "      <th>audience_score</th>\n",
       "      <th>critics_score</th>\n",
       "      <th>start_time</th>\n",
       "      <th>end_time</th>\n",
       "      <th>provider_name</th>\n",
       "      <th>OMDB_pop_score</th>\n",
       "      <th>tweets</th>\n",
       "      <th>combined_followers</th>\n",
       "    </tr>\n",
       "  </thead>\n",
       "  <tbody>\n",
       "    <tr>\n",
       "      <th>1</th>\n",
       "      <td>MV001724250000</td>\n",
       "      <td>The Man Who Knew Too Much</td>\n",
       "      <td>1956</td>\n",
       "      <td>[Thriller]</td>\n",
       "      <td>84</td>\n",
       "      <td>87</td>\n",
       "      <td>2019-03-21T04:00:00+00:00</td>\n",
       "      <td>2021-01-01T04:59:59+00:00</td>\n",
       "      <td>IND_HD_EXP</td>\n",
       "      <td>9.235</td>\n",
       "      <td>NaN</td>\n",
       "      <td>NaN</td>\n",
       "    </tr>\n",
       "    <tr>\n",
       "      <th>2</th>\n",
       "      <td>MV001740600000</td>\n",
       "      <td>V for Vendetta</td>\n",
       "      <td>2006</td>\n",
       "      <td>[Action, Thriller]</td>\n",
       "      <td>90</td>\n",
       "      <td>73</td>\n",
       "      <td>2016-07-14T04:00:00+00:00</td>\n",
       "      <td>2030-01-01T04:59:59+00:00</td>\n",
       "      <td>IND_HD_EXP</td>\n",
       "      <td>33.732</td>\n",
       "      <td>NaN</td>\n",
       "      <td>NaN</td>\n",
       "    </tr>\n",
       "    <tr>\n",
       "      <th>3</th>\n",
       "      <td>MV000435430000</td>\n",
       "      <td>Seven</td>\n",
       "      <td>1995</td>\n",
       "      <td>[Thriller, Crime drama]</td>\n",
       "      <td>95</td>\n",
       "      <td>82</td>\n",
       "      <td>2016-07-14T04:00:00+00:00</td>\n",
       "      <td>2030-01-01T04:59:59+00:00</td>\n",
       "      <td>IND_HD_EXP</td>\n",
       "      <td>75.488</td>\n",
       "      <td>NaN</td>\n",
       "      <td>NaN</td>\n",
       "    </tr>\n",
       "    <tr>\n",
       "      <th>4</th>\n",
       "      <td>MV000468120000</td>\n",
       "      <td>Wake in Fright</td>\n",
       "      <td>1971</td>\n",
       "      <td>[Drama, Thriller]</td>\n",
       "      <td>83</td>\n",
       "      <td>96</td>\n",
       "      <td>2017-05-15T04:00:00+00:00</td>\n",
       "      <td>2021-04-01T03:59:59+00:00</td>\n",
       "      <td>SHUDDER_SVOD</td>\n",
       "      <td>8.71</td>\n",
       "      <td>NaN</td>\n",
       "      <td>NaN</td>\n",
       "    </tr>\n",
       "    <tr>\n",
       "      <th>5</th>\n",
       "      <td>MV008879100000</td>\n",
       "      <td>Split</td>\n",
       "      <td>2016</td>\n",
       "      <td>[Thriller, Horror]</td>\n",
       "      <td>79</td>\n",
       "      <td>77</td>\n",
       "      <td>2020-02-19T05:00:00+00:00</td>\n",
       "      <td>2023-01-01T04:59:59+00:00</td>\n",
       "      <td>IND_HD</td>\n",
       "      <td>53.567</td>\n",
       "      <td>NaN</td>\n",
       "      <td>NaN</td>\n",
       "    </tr>\n",
       "    <tr>\n",
       "      <th>6</th>\n",
       "      <td>MV004084190000</td>\n",
       "      <td>The Conjuring</td>\n",
       "      <td>2013</td>\n",
       "      <td>[Horror, Thriller]</td>\n",
       "      <td>83</td>\n",
       "      <td>86</td>\n",
       "      <td>2017-06-26T04:00:00+00:00</td>\n",
       "      <td>2030-01-01T04:59:00+00:00</td>\n",
       "      <td>IND_HD_EXP</td>\n",
       "      <td>58.055</td>\n",
       "      <td>NaN</td>\n",
       "      <td>NaN</td>\n",
       "    </tr>\n",
       "    <tr>\n",
       "      <th>7</th>\n",
       "      <td>MV000004670000</td>\n",
       "      <td>Psycho</td>\n",
       "      <td>1960</td>\n",
       "      <td>[Horror, Thriller]</td>\n",
       "      <td>95</td>\n",
       "      <td>96</td>\n",
       "      <td>2019-03-21T04:00:00+00:00</td>\n",
       "      <td>2021-01-01T04:59:59+00:00</td>\n",
       "      <td>IND_HD_EXP</td>\n",
       "      <td>28.109</td>\n",
       "      <td>NaN</td>\n",
       "      <td>NaN</td>\n",
       "    </tr>\n",
       "    <tr>\n",
       "      <th>8</th>\n",
       "      <td>MV000171900000</td>\n",
       "      <td>Vertigo</td>\n",
       "      <td>1958</td>\n",
       "      <td>[Thriller, Mystery]</td>\n",
       "      <td>93</td>\n",
       "      <td>94</td>\n",
       "      <td>2020-02-19T05:00:00+00:00</td>\n",
       "      <td>2022-10-31T03:59:59+00:00</td>\n",
       "      <td>IND_HD</td>\n",
       "      <td>20.895</td>\n",
       "      <td>NaN</td>\n",
       "      <td>NaN</td>\n",
       "    </tr>\n",
       "    <tr>\n",
       "      <th>9</th>\n",
       "      <td>MV013433790000</td>\n",
       "      <td>The Burnt Orange Heresy</td>\n",
       "      <td>2019</td>\n",
       "      <td>[Thriller]</td>\n",
       "      <td>81</td>\n",
       "      <td>67</td>\n",
       "      <td>2020-08-25T04:00:00+00:00</td>\n",
       "      <td>2020-12-10T04:59:59+00:00</td>\n",
       "      <td>IND_HD</td>\n",
       "      <td>9.355</td>\n",
       "      <td>NaN</td>\n",
       "      <td>NaN</td>\n",
       "    </tr>\n",
       "    <tr>\n",
       "      <th>10</th>\n",
       "      <td>MV013636250000</td>\n",
       "      <td>Doctor Sleep: Director's Cut</td>\n",
       "      <td>2019</td>\n",
       "      <td>[Horror, Thriller]</td>\n",
       "      <td>89</td>\n",
       "      <td>77</td>\n",
       "      <td>2020-09-21T10:00:00+00:00</td>\n",
       "      <td>2021-03-01T10:59:00+00:00</td>\n",
       "      <td>HBO_HD_EXP</td>\n",
       "      <td>NaN</td>\n",
       "      <td>NaN</td>\n",
       "      <td>NaN</td>\n",
       "    </tr>\n",
       "    <tr>\n",
       "      <th>11</th>\n",
       "      <td>MV011980720000</td>\n",
       "      <td>Ruben Brandt, Collector</td>\n",
       "      <td>2018</td>\n",
       "      <td>[Thriller, Animated]</td>\n",
       "      <td>79</td>\n",
       "      <td>81</td>\n",
       "      <td>2019-09-20T04:01:00+00:00</td>\n",
       "      <td>2021-03-05T04:59:59+00:00</td>\n",
       "      <td>STARZ_HD_EXP_MPEG4</td>\n",
       "      <td>13.514</td>\n",
       "      <td>NaN</td>\n",
       "      <td>NaN</td>\n",
       "    </tr>\n",
       "    <tr>\n",
       "      <th>12</th>\n",
       "      <td>MV012253640000</td>\n",
       "      <td>The Isle</td>\n",
       "      <td>2018</td>\n",
       "      <td>[Horror, Thriller]</td>\n",
       "      <td>84</td>\n",
       "      <td>67</td>\n",
       "      <td>2019-06-15T04:00:00+00:00</td>\n",
       "      <td>2021-06-15T03:59:59+00:00</td>\n",
       "      <td>SHOWTIME_HD_EXP</td>\n",
       "      <td>13.603</td>\n",
       "      <td>NaN</td>\n",
       "      <td>NaN</td>\n",
       "    </tr>\n",
       "    <tr>\n",
       "      <th>13</th>\n",
       "      <td>MV005637570000</td>\n",
       "      <td>Coherence</td>\n",
       "      <td>2013</td>\n",
       "      <td>[Science fiction, Thriller]</td>\n",
       "      <td>81</td>\n",
       "      <td>88</td>\n",
       "      <td>2020-11-16T05:00:00+00:00</td>\n",
       "      <td>2022-11-14T04:59:59+00:00</td>\n",
       "      <td>SHUDDER_SVOD</td>\n",
       "      <td>26.837</td>\n",
       "      <td>NaN</td>\n",
       "      <td>NaN</td>\n",
       "    </tr>\n",
       "    <tr>\n",
       "      <th>14</th>\n",
       "      <td>MV006012000000</td>\n",
       "      <td>'71</td>\n",
       "      <td>2014</td>\n",
       "      <td>[Action, Thriller]</td>\n",
       "      <td>81</td>\n",
       "      <td>96</td>\n",
       "      <td>2016-07-22T04:00:00+00:00</td>\n",
       "      <td>2027-01-01T04:59:59+00:00</td>\n",
       "      <td>IND_HD_EXP</td>\n",
       "      <td>9.795</td>\n",
       "      <td>NaN</td>\n",
       "      <td>NaN</td>\n",
       "    </tr>\n",
       "    <tr>\n",
       "      <th>15</th>\n",
       "      <td>MV000066440000</td>\n",
       "      <td>The Birds</td>\n",
       "      <td>1963</td>\n",
       "      <td>[Thriller]</td>\n",
       "      <td>83</td>\n",
       "      <td>95</td>\n",
       "      <td>2019-03-21T04:00:00+00:00</td>\n",
       "      <td>2021-01-01T04:59:59+00:00</td>\n",
       "      <td>IND_HD_EXP</td>\n",
       "      <td>23.93</td>\n",
       "      <td>NaN</td>\n",
       "      <td>NaN</td>\n",
       "    </tr>\n",
       "    <tr>\n",
       "      <th>16</th>\n",
       "      <td>MV000171020000</td>\n",
       "      <td>Rear Window</td>\n",
       "      <td>1954</td>\n",
       "      <td>[Thriller]</td>\n",
       "      <td>95</td>\n",
       "      <td>99</td>\n",
       "      <td>2020-02-19T05:00:00+00:00</td>\n",
       "      <td>2022-10-31T03:59:59+00:00</td>\n",
       "      <td>IND_HD</td>\n",
       "      <td>21.458</td>\n",
       "      <td>NaN</td>\n",
       "      <td>NaN</td>\n",
       "    </tr>\n",
       "    <tr>\n",
       "      <th>17</th>\n",
       "      <td>MV000210120000</td>\n",
       "      <td>Blue Velvet</td>\n",
       "      <td>1986</td>\n",
       "      <td>[Thriller, Drama]</td>\n",
       "      <td>88</td>\n",
       "      <td>94</td>\n",
       "      <td>2020-12-01T05:00:00+00:00</td>\n",
       "      <td>2021-05-01T03:59:59+00:00</td>\n",
       "      <td>STARZ_HD_EXP_MPEG4</td>\n",
       "      <td>14.928</td>\n",
       "      <td>NaN</td>\n",
       "      <td>NaN</td>\n",
       "    </tr>\n",
       "    <tr>\n",
       "      <th>18</th>\n",
       "      <td>MV000286110000</td>\n",
       "      <td>The Hunt for Red October</td>\n",
       "      <td>1990</td>\n",
       "      <td>[Thriller, Action, Adventure]</td>\n",
       "      <td>88</td>\n",
       "      <td>89</td>\n",
       "      <td>2020-12-01T05:00:00+00:00</td>\n",
       "      <td>2021-01-01T04:59:59+00:00</td>\n",
       "      <td>SHOWTIME_HD_EXP</td>\n",
       "      <td>21.039</td>\n",
       "      <td>NaN</td>\n",
       "      <td>NaN</td>\n",
       "    </tr>\n",
       "    <tr>\n",
       "      <th>19</th>\n",
       "      <td>MV001158300000</td>\n",
       "      <td>The Bourne Identity</td>\n",
       "      <td>2002</td>\n",
       "      <td>[Action, Thriller]</td>\n",
       "      <td>93</td>\n",
       "      <td>83</td>\n",
       "      <td>2019-03-07T05:00:00+00:00</td>\n",
       "      <td>2021-01-01T04:59:59+00:00</td>\n",
       "      <td>IND_HD_EXP</td>\n",
       "      <td>26.284</td>\n",
       "      <td>NaN</td>\n",
       "      <td>NaN</td>\n",
       "    </tr>\n",
       "    <tr>\n",
       "      <th>20</th>\n",
       "      <td>MV001171630000</td>\n",
       "      <td>Minority Report</td>\n",
       "      <td>2002</td>\n",
       "      <td>[Science fiction, Thriller, Action]</td>\n",
       "      <td>80</td>\n",
       "      <td>90</td>\n",
       "      <td>2019-03-14T04:00:00+00:00</td>\n",
       "      <td>2030-01-01T04:59:59+00:00</td>\n",
       "      <td>IND_HD_EXP</td>\n",
       "      <td>21.092</td>\n",
       "      <td>NaN</td>\n",
       "      <td>NaN</td>\n",
       "    </tr>\n",
       "    <tr>\n",
       "      <th>21</th>\n",
       "      <td>MV011631080000</td>\n",
       "      <td>Doctor Sleep</td>\n",
       "      <td>2019</td>\n",
       "      <td>[Horror, Thriller]</td>\n",
       "      <td>89</td>\n",
       "      <td>77</td>\n",
       "      <td>2020-09-21T10:00:00+00:00</td>\n",
       "      <td>2021-03-01T10:59:00+00:00</td>\n",
       "      <td>HBO_HD_EXP</td>\n",
       "      <td>36.26</td>\n",
       "      <td>NaN</td>\n",
       "      <td>NaN</td>\n",
       "    </tr>\n",
       "    <tr>\n",
       "      <th>22</th>\n",
       "      <td>MV001803090000</td>\n",
       "      <td>Children of Men</td>\n",
       "      <td>2006</td>\n",
       "      <td>[Science fiction, Thriller]</td>\n",
       "      <td>85</td>\n",
       "      <td>92</td>\n",
       "      <td>2019-03-14T04:00:00+00:00</td>\n",
       "      <td>2021-01-01T04:59:59+00:00</td>\n",
       "      <td>IND_HD_EXP</td>\n",
       "      <td>21.362</td>\n",
       "      <td>NaN</td>\n",
       "      <td>NaN</td>\n",
       "    </tr>\n",
       "    <tr>\n",
       "      <th>23</th>\n",
       "      <td>MV001483620000</td>\n",
       "      <td>The Return</td>\n",
       "      <td>2003</td>\n",
       "      <td>[Drama, Thriller]</td>\n",
       "      <td>93</td>\n",
       "      <td>96</td>\n",
       "      <td>2020-03-16T04:00:00+00:00</td>\n",
       "      <td>2030-01-01T04:59:59+00:00</td>\n",
       "      <td>ACORNTV_SVOD</td>\n",
       "      <td>19.125</td>\n",
       "      <td>NaN</td>\n",
       "      <td>NaN</td>\n",
       "    </tr>\n",
       "    <tr>\n",
       "      <th>24</th>\n",
       "      <td>MV003461040000</td>\n",
       "      <td>The Guard</td>\n",
       "      <td>2011</td>\n",
       "      <td>[Comedy, Thriller]</td>\n",
       "      <td>81</td>\n",
       "      <td>94</td>\n",
       "      <td>2020-10-23T04:00:00+00:00</td>\n",
       "      <td>2021-10-01T03:59:59+00:00</td>\n",
       "      <td>STARZ_HD_EXP_MPEG4</td>\n",
       "      <td>225.269</td>\n",
       "      <td>NaN</td>\n",
       "      <td>NaN</td>\n",
       "    </tr>\n",
       "    <tr>\n",
       "      <th>25</th>\n",
       "      <td>MV000886040000</td>\n",
       "      <td>Croupier</td>\n",
       "      <td>1998</td>\n",
       "      <td>[Thriller]</td>\n",
       "      <td>79</td>\n",
       "      <td>96</td>\n",
       "      <td>2020-12-01T05:00:00+00:00</td>\n",
       "      <td>2021-06-01T03:59:59+00:00</td>\n",
       "      <td>SHOWTIME_HD_EXP</td>\n",
       "      <td>8.461</td>\n",
       "      <td>NaN</td>\n",
       "      <td>NaN</td>\n",
       "    </tr>\n",
       "  </tbody>\n",
       "</table>\n",
       "</div>"
      ],
      "text/plain": [
       "            TMS_ID                         title release_year  \\\n",
       "1   MV001724250000     The Man Who Knew Too Much         1956   \n",
       "2   MV001740600000                V for Vendetta         2006   \n",
       "3   MV000435430000                         Seven         1995   \n",
       "4   MV000468120000                Wake in Fright         1971   \n",
       "5   MV008879100000                         Split         2016   \n",
       "6   MV004084190000                 The Conjuring         2013   \n",
       "7   MV000004670000                        Psycho         1960   \n",
       "8   MV000171900000                       Vertigo         1958   \n",
       "9   MV013433790000       The Burnt Orange Heresy         2019   \n",
       "10  MV013636250000  Doctor Sleep: Director's Cut         2019   \n",
       "11  MV011980720000       Ruben Brandt, Collector         2018   \n",
       "12  MV012253640000                      The Isle         2018   \n",
       "13  MV005637570000                     Coherence         2013   \n",
       "14  MV006012000000                           '71         2014   \n",
       "15  MV000066440000                     The Birds         1963   \n",
       "16  MV000171020000                   Rear Window         1954   \n",
       "17  MV000210120000                   Blue Velvet         1986   \n",
       "18  MV000286110000      The Hunt for Red October         1990   \n",
       "19  MV001158300000           The Bourne Identity         2002   \n",
       "20  MV001171630000               Minority Report         2002   \n",
       "21  MV011631080000                  Doctor Sleep         2019   \n",
       "22  MV001803090000               Children of Men         2006   \n",
       "23  MV001483620000                    The Return         2003   \n",
       "24  MV003461040000                     The Guard         2011   \n",
       "25  MV000886040000                      Croupier         1998   \n",
       "\n",
       "                                  genre audience_score critics_score  \\\n",
       "1                            [Thriller]             84            87   \n",
       "2                    [Action, Thriller]             90            73   \n",
       "3               [Thriller, Crime drama]             95            82   \n",
       "4                     [Drama, Thriller]             83            96   \n",
       "5                    [Thriller, Horror]             79            77   \n",
       "6                    [Horror, Thriller]             83            86   \n",
       "7                    [Horror, Thriller]             95            96   \n",
       "8                   [Thriller, Mystery]             93            94   \n",
       "9                            [Thriller]             81            67   \n",
       "10                   [Horror, Thriller]             89            77   \n",
       "11                 [Thriller, Animated]             79            81   \n",
       "12                   [Horror, Thriller]             84            67   \n",
       "13          [Science fiction, Thriller]             81            88   \n",
       "14                   [Action, Thriller]             81            96   \n",
       "15                           [Thriller]             83            95   \n",
       "16                           [Thriller]             95            99   \n",
       "17                    [Thriller, Drama]             88            94   \n",
       "18        [Thriller, Action, Adventure]             88            89   \n",
       "19                   [Action, Thriller]             93            83   \n",
       "20  [Science fiction, Thriller, Action]             80            90   \n",
       "21                   [Horror, Thriller]             89            77   \n",
       "22          [Science fiction, Thriller]             85            92   \n",
       "23                    [Drama, Thriller]             93            96   \n",
       "24                   [Comedy, Thriller]             81            94   \n",
       "25                           [Thriller]             79            96   \n",
       "\n",
       "                   start_time                   end_time       provider_name  \\\n",
       "1   2019-03-21T04:00:00+00:00  2021-01-01T04:59:59+00:00          IND_HD_EXP   \n",
       "2   2016-07-14T04:00:00+00:00  2030-01-01T04:59:59+00:00          IND_HD_EXP   \n",
       "3   2016-07-14T04:00:00+00:00  2030-01-01T04:59:59+00:00          IND_HD_EXP   \n",
       "4   2017-05-15T04:00:00+00:00  2021-04-01T03:59:59+00:00        SHUDDER_SVOD   \n",
       "5   2020-02-19T05:00:00+00:00  2023-01-01T04:59:59+00:00              IND_HD   \n",
       "6   2017-06-26T04:00:00+00:00  2030-01-01T04:59:00+00:00          IND_HD_EXP   \n",
       "7   2019-03-21T04:00:00+00:00  2021-01-01T04:59:59+00:00          IND_HD_EXP   \n",
       "8   2020-02-19T05:00:00+00:00  2022-10-31T03:59:59+00:00              IND_HD   \n",
       "9   2020-08-25T04:00:00+00:00  2020-12-10T04:59:59+00:00              IND_HD   \n",
       "10  2020-09-21T10:00:00+00:00  2021-03-01T10:59:00+00:00          HBO_HD_EXP   \n",
       "11  2019-09-20T04:01:00+00:00  2021-03-05T04:59:59+00:00  STARZ_HD_EXP_MPEG4   \n",
       "12  2019-06-15T04:00:00+00:00  2021-06-15T03:59:59+00:00     SHOWTIME_HD_EXP   \n",
       "13  2020-11-16T05:00:00+00:00  2022-11-14T04:59:59+00:00        SHUDDER_SVOD   \n",
       "14  2016-07-22T04:00:00+00:00  2027-01-01T04:59:59+00:00          IND_HD_EXP   \n",
       "15  2019-03-21T04:00:00+00:00  2021-01-01T04:59:59+00:00          IND_HD_EXP   \n",
       "16  2020-02-19T05:00:00+00:00  2022-10-31T03:59:59+00:00              IND_HD   \n",
       "17  2020-12-01T05:00:00+00:00  2021-05-01T03:59:59+00:00  STARZ_HD_EXP_MPEG4   \n",
       "18  2020-12-01T05:00:00+00:00  2021-01-01T04:59:59+00:00     SHOWTIME_HD_EXP   \n",
       "19  2019-03-07T05:00:00+00:00  2021-01-01T04:59:59+00:00          IND_HD_EXP   \n",
       "20  2019-03-14T04:00:00+00:00  2030-01-01T04:59:59+00:00          IND_HD_EXP   \n",
       "21  2020-09-21T10:00:00+00:00  2021-03-01T10:59:00+00:00          HBO_HD_EXP   \n",
       "22  2019-03-14T04:00:00+00:00  2021-01-01T04:59:59+00:00          IND_HD_EXP   \n",
       "23  2020-03-16T04:00:00+00:00  2030-01-01T04:59:59+00:00        ACORNTV_SVOD   \n",
       "24  2020-10-23T04:00:00+00:00  2021-10-01T03:59:59+00:00  STARZ_HD_EXP_MPEG4   \n",
       "25  2020-12-01T05:00:00+00:00  2021-06-01T03:59:59+00:00     SHOWTIME_HD_EXP   \n",
       "\n",
       "   OMDB_pop_score tweets combined_followers  \n",
       "1           9.235    NaN                NaN  \n",
       "2          33.732    NaN                NaN  \n",
       "3          75.488    NaN                NaN  \n",
       "4            8.71    NaN                NaN  \n",
       "5          53.567    NaN                NaN  \n",
       "6          58.055    NaN                NaN  \n",
       "7          28.109    NaN                NaN  \n",
       "8          20.895    NaN                NaN  \n",
       "9           9.355    NaN                NaN  \n",
       "10            NaN    NaN                NaN  \n",
       "11         13.514    NaN                NaN  \n",
       "12         13.603    NaN                NaN  \n",
       "13         26.837    NaN                NaN  \n",
       "14          9.795    NaN                NaN  \n",
       "15          23.93    NaN                NaN  \n",
       "16         21.458    NaN                NaN  \n",
       "17         14.928    NaN                NaN  \n",
       "18         21.039    NaN                NaN  \n",
       "19         26.284    NaN                NaN  \n",
       "20         21.092    NaN                NaN  \n",
       "21          36.26    NaN                NaN  \n",
       "22         21.362    NaN                NaN  \n",
       "23         19.125    NaN                NaN  \n",
       "24        225.269    NaN                NaN  \n",
       "25          8.461    NaN                NaN  "
      ]
     },
     "execution_count": 126,
     "metadata": {},
     "output_type": "execute_result"
    }
   ],
   "source": [
    "results_df"
   ]
  },
  {
   "cell_type": "code",
   "execution_count": 127,
   "metadata": {},
   "outputs": [
    {
     "data": {
      "application/vnd.plotly.v1+json": {
       "config": {
        "plotlyServerURL": "https://plot.ly"
       },
       "data": [
        {
         "marker": {
          "color": "rgb(158,202,225)",
          "line": {
           "color": "rgb(8,48,107)",
           "width": 1.5
          }
         },
         "opacity": 0.6,
         "type": "bar",
         "x": [
          "The Man Who Knew Too Much",
          "V for Vendetta",
          "Seven",
          "Wake in Fright",
          "Split",
          "The Conjuring",
          "Psycho",
          "Vertigo",
          "The Burnt Orange Heresy",
          "Doctor Sleep: Director's Cut",
          "Ruben Brandt, Collector",
          "The Isle",
          "Coherence",
          "'71",
          "The Birds",
          "Rear Window",
          "Blue Velvet",
          "The Hunt for Red October",
          "The Bourne Identity",
          "Minority Report",
          "Doctor Sleep",
          "Children of Men",
          "The Return",
          "The Guard",
          "Croupier"
         ],
         "y": [
          9.235,
          33.732,
          75.488,
          8.71,
          53.567,
          58.055,
          28.109,
          20.895,
          9.355,
          null,
          13.514,
          13.603,
          26.837,
          9.795,
          23.93,
          21.458,
          14.928,
          21.039,
          26.284,
          21.092,
          36.26,
          21.362,
          19.125,
          225.269,
          8.461
         ]
        }
       ],
       "layout": {
        "template": {
         "data": {
          "bar": [
           {
            "error_x": {
             "color": "#f2f5fa"
            },
            "error_y": {
             "color": "#f2f5fa"
            },
            "marker": {
             "line": {
              "color": "rgb(17,17,17)",
              "width": 0.5
             }
            },
            "type": "bar"
           }
          ],
          "barpolar": [
           {
            "marker": {
             "line": {
              "color": "rgb(17,17,17)",
              "width": 0.5
             }
            },
            "type": "barpolar"
           }
          ],
          "carpet": [
           {
            "aaxis": {
             "endlinecolor": "#A2B1C6",
             "gridcolor": "#506784",
             "linecolor": "#506784",
             "minorgridcolor": "#506784",
             "startlinecolor": "#A2B1C6"
            },
            "baxis": {
             "endlinecolor": "#A2B1C6",
             "gridcolor": "#506784",
             "linecolor": "#506784",
             "minorgridcolor": "#506784",
             "startlinecolor": "#A2B1C6"
            },
            "type": "carpet"
           }
          ],
          "choropleth": [
           {
            "colorbar": {
             "outlinewidth": 0,
             "ticks": ""
            },
            "type": "choropleth"
           }
          ],
          "contour": [
           {
            "colorbar": {
             "outlinewidth": 0,
             "ticks": ""
            },
            "colorscale": [
             [
              0,
              "#0d0887"
             ],
             [
              0.1111111111111111,
              "#46039f"
             ],
             [
              0.2222222222222222,
              "#7201a8"
             ],
             [
              0.3333333333333333,
              "#9c179e"
             ],
             [
              0.4444444444444444,
              "#bd3786"
             ],
             [
              0.5555555555555556,
              "#d8576b"
             ],
             [
              0.6666666666666666,
              "#ed7953"
             ],
             [
              0.7777777777777778,
              "#fb9f3a"
             ],
             [
              0.8888888888888888,
              "#fdca26"
             ],
             [
              1,
              "#f0f921"
             ]
            ],
            "type": "contour"
           }
          ],
          "contourcarpet": [
           {
            "colorbar": {
             "outlinewidth": 0,
             "ticks": ""
            },
            "type": "contourcarpet"
           }
          ],
          "heatmap": [
           {
            "colorbar": {
             "outlinewidth": 0,
             "ticks": ""
            },
            "colorscale": [
             [
              0,
              "#0d0887"
             ],
             [
              0.1111111111111111,
              "#46039f"
             ],
             [
              0.2222222222222222,
              "#7201a8"
             ],
             [
              0.3333333333333333,
              "#9c179e"
             ],
             [
              0.4444444444444444,
              "#bd3786"
             ],
             [
              0.5555555555555556,
              "#d8576b"
             ],
             [
              0.6666666666666666,
              "#ed7953"
             ],
             [
              0.7777777777777778,
              "#fb9f3a"
             ],
             [
              0.8888888888888888,
              "#fdca26"
             ],
             [
              1,
              "#f0f921"
             ]
            ],
            "type": "heatmap"
           }
          ],
          "heatmapgl": [
           {
            "colorbar": {
             "outlinewidth": 0,
             "ticks": ""
            },
            "colorscale": [
             [
              0,
              "#0d0887"
             ],
             [
              0.1111111111111111,
              "#46039f"
             ],
             [
              0.2222222222222222,
              "#7201a8"
             ],
             [
              0.3333333333333333,
              "#9c179e"
             ],
             [
              0.4444444444444444,
              "#bd3786"
             ],
             [
              0.5555555555555556,
              "#d8576b"
             ],
             [
              0.6666666666666666,
              "#ed7953"
             ],
             [
              0.7777777777777778,
              "#fb9f3a"
             ],
             [
              0.8888888888888888,
              "#fdca26"
             ],
             [
              1,
              "#f0f921"
             ]
            ],
            "type": "heatmapgl"
           }
          ],
          "histogram": [
           {
            "marker": {
             "colorbar": {
              "outlinewidth": 0,
              "ticks": ""
             }
            },
            "type": "histogram"
           }
          ],
          "histogram2d": [
           {
            "colorbar": {
             "outlinewidth": 0,
             "ticks": ""
            },
            "colorscale": [
             [
              0,
              "#0d0887"
             ],
             [
              0.1111111111111111,
              "#46039f"
             ],
             [
              0.2222222222222222,
              "#7201a8"
             ],
             [
              0.3333333333333333,
              "#9c179e"
             ],
             [
              0.4444444444444444,
              "#bd3786"
             ],
             [
              0.5555555555555556,
              "#d8576b"
             ],
             [
              0.6666666666666666,
              "#ed7953"
             ],
             [
              0.7777777777777778,
              "#fb9f3a"
             ],
             [
              0.8888888888888888,
              "#fdca26"
             ],
             [
              1,
              "#f0f921"
             ]
            ],
            "type": "histogram2d"
           }
          ],
          "histogram2dcontour": [
           {
            "colorbar": {
             "outlinewidth": 0,
             "ticks": ""
            },
            "colorscale": [
             [
              0,
              "#0d0887"
             ],
             [
              0.1111111111111111,
              "#46039f"
             ],
             [
              0.2222222222222222,
              "#7201a8"
             ],
             [
              0.3333333333333333,
              "#9c179e"
             ],
             [
              0.4444444444444444,
              "#bd3786"
             ],
             [
              0.5555555555555556,
              "#d8576b"
             ],
             [
              0.6666666666666666,
              "#ed7953"
             ],
             [
              0.7777777777777778,
              "#fb9f3a"
             ],
             [
              0.8888888888888888,
              "#fdca26"
             ],
             [
              1,
              "#f0f921"
             ]
            ],
            "type": "histogram2dcontour"
           }
          ],
          "mesh3d": [
           {
            "colorbar": {
             "outlinewidth": 0,
             "ticks": ""
            },
            "type": "mesh3d"
           }
          ],
          "parcoords": [
           {
            "line": {
             "colorbar": {
              "outlinewidth": 0,
              "ticks": ""
             }
            },
            "type": "parcoords"
           }
          ],
          "pie": [
           {
            "automargin": true,
            "type": "pie"
           }
          ],
          "scatter": [
           {
            "marker": {
             "line": {
              "color": "#283442"
             }
            },
            "type": "scatter"
           }
          ],
          "scatter3d": [
           {
            "line": {
             "colorbar": {
              "outlinewidth": 0,
              "ticks": ""
             }
            },
            "marker": {
             "colorbar": {
              "outlinewidth": 0,
              "ticks": ""
             }
            },
            "type": "scatter3d"
           }
          ],
          "scattercarpet": [
           {
            "marker": {
             "colorbar": {
              "outlinewidth": 0,
              "ticks": ""
             }
            },
            "type": "scattercarpet"
           }
          ],
          "scattergeo": [
           {
            "marker": {
             "colorbar": {
              "outlinewidth": 0,
              "ticks": ""
             }
            },
            "type": "scattergeo"
           }
          ],
          "scattergl": [
           {
            "marker": {
             "line": {
              "color": "#283442"
             }
            },
            "type": "scattergl"
           }
          ],
          "scattermapbox": [
           {
            "marker": {
             "colorbar": {
              "outlinewidth": 0,
              "ticks": ""
             }
            },
            "type": "scattermapbox"
           }
          ],
          "scatterpolar": [
           {
            "marker": {
             "colorbar": {
              "outlinewidth": 0,
              "ticks": ""
             }
            },
            "type": "scatterpolar"
           }
          ],
          "scatterpolargl": [
           {
            "marker": {
             "colorbar": {
              "outlinewidth": 0,
              "ticks": ""
             }
            },
            "type": "scatterpolargl"
           }
          ],
          "scatterternary": [
           {
            "marker": {
             "colorbar": {
              "outlinewidth": 0,
              "ticks": ""
             }
            },
            "type": "scatterternary"
           }
          ],
          "surface": [
           {
            "colorbar": {
             "outlinewidth": 0,
             "ticks": ""
            },
            "colorscale": [
             [
              0,
              "#0d0887"
             ],
             [
              0.1111111111111111,
              "#46039f"
             ],
             [
              0.2222222222222222,
              "#7201a8"
             ],
             [
              0.3333333333333333,
              "#9c179e"
             ],
             [
              0.4444444444444444,
              "#bd3786"
             ],
             [
              0.5555555555555556,
              "#d8576b"
             ],
             [
              0.6666666666666666,
              "#ed7953"
             ],
             [
              0.7777777777777778,
              "#fb9f3a"
             ],
             [
              0.8888888888888888,
              "#fdca26"
             ],
             [
              1,
              "#f0f921"
             ]
            ],
            "type": "surface"
           }
          ],
          "table": [
           {
            "cells": {
             "fill": {
              "color": "#506784"
             },
             "line": {
              "color": "rgb(17,17,17)"
             }
            },
            "header": {
             "fill": {
              "color": "#2a3f5f"
             },
             "line": {
              "color": "rgb(17,17,17)"
             }
            },
            "type": "table"
           }
          ]
         },
         "layout": {
          "annotationdefaults": {
           "arrowcolor": "#f2f5fa",
           "arrowhead": 0,
           "arrowwidth": 1
          },
          "coloraxis": {
           "colorbar": {
            "outlinewidth": 0,
            "ticks": ""
           }
          },
          "colorscale": {
           "diverging": [
            [
             0,
             "#8e0152"
            ],
            [
             0.1,
             "#c51b7d"
            ],
            [
             0.2,
             "#de77ae"
            ],
            [
             0.3,
             "#f1b6da"
            ],
            [
             0.4,
             "#fde0ef"
            ],
            [
             0.5,
             "#f7f7f7"
            ],
            [
             0.6,
             "#e6f5d0"
            ],
            [
             0.7,
             "#b8e186"
            ],
            [
             0.8,
             "#7fbc41"
            ],
            [
             0.9,
             "#4d9221"
            ],
            [
             1,
             "#276419"
            ]
           ],
           "sequential": [
            [
             0,
             "#0d0887"
            ],
            [
             0.1111111111111111,
             "#46039f"
            ],
            [
             0.2222222222222222,
             "#7201a8"
            ],
            [
             0.3333333333333333,
             "#9c179e"
            ],
            [
             0.4444444444444444,
             "#bd3786"
            ],
            [
             0.5555555555555556,
             "#d8576b"
            ],
            [
             0.6666666666666666,
             "#ed7953"
            ],
            [
             0.7777777777777778,
             "#fb9f3a"
            ],
            [
             0.8888888888888888,
             "#fdca26"
            ],
            [
             1,
             "#f0f921"
            ]
           ],
           "sequentialminus": [
            [
             0,
             "#0d0887"
            ],
            [
             0.1111111111111111,
             "#46039f"
            ],
            [
             0.2222222222222222,
             "#7201a8"
            ],
            [
             0.3333333333333333,
             "#9c179e"
            ],
            [
             0.4444444444444444,
             "#bd3786"
            ],
            [
             0.5555555555555556,
             "#d8576b"
            ],
            [
             0.6666666666666666,
             "#ed7953"
            ],
            [
             0.7777777777777778,
             "#fb9f3a"
            ],
            [
             0.8888888888888888,
             "#fdca26"
            ],
            [
             1,
             "#f0f921"
            ]
           ]
          },
          "colorway": [
           "#636efa",
           "#EF553B",
           "#00cc96",
           "#ab63fa",
           "#FFA15A",
           "#19d3f3",
           "#FF6692",
           "#B6E880",
           "#FF97FF",
           "#FECB52"
          ],
          "font": {
           "color": "#f2f5fa"
          },
          "geo": {
           "bgcolor": "rgb(17,17,17)",
           "lakecolor": "rgb(17,17,17)",
           "landcolor": "rgb(17,17,17)",
           "showlakes": true,
           "showland": true,
           "subunitcolor": "#506784"
          },
          "hoverlabel": {
           "align": "left"
          },
          "hovermode": "closest",
          "mapbox": {
           "style": "dark"
          },
          "paper_bgcolor": "rgb(17,17,17)",
          "plot_bgcolor": "rgb(17,17,17)",
          "polar": {
           "angularaxis": {
            "gridcolor": "#506784",
            "linecolor": "#506784",
            "ticks": ""
           },
           "bgcolor": "rgb(17,17,17)",
           "radialaxis": {
            "gridcolor": "#506784",
            "linecolor": "#506784",
            "ticks": ""
           }
          },
          "scene": {
           "xaxis": {
            "backgroundcolor": "rgb(17,17,17)",
            "gridcolor": "#506784",
            "gridwidth": 2,
            "linecolor": "#506784",
            "showbackground": true,
            "ticks": "",
            "zerolinecolor": "#C8D4E3"
           },
           "yaxis": {
            "backgroundcolor": "rgb(17,17,17)",
            "gridcolor": "#506784",
            "gridwidth": 2,
            "linecolor": "#506784",
            "showbackground": true,
            "ticks": "",
            "zerolinecolor": "#C8D4E3"
           },
           "zaxis": {
            "backgroundcolor": "rgb(17,17,17)",
            "gridcolor": "#506784",
            "gridwidth": 2,
            "linecolor": "#506784",
            "showbackground": true,
            "ticks": "",
            "zerolinecolor": "#C8D4E3"
           }
          },
          "shapedefaults": {
           "line": {
            "color": "#f2f5fa"
           }
          },
          "sliderdefaults": {
           "bgcolor": "#C8D4E3",
           "bordercolor": "rgb(17,17,17)",
           "borderwidth": 1,
           "tickwidth": 0
          },
          "ternary": {
           "aaxis": {
            "gridcolor": "#506784",
            "linecolor": "#506784",
            "ticks": ""
           },
           "baxis": {
            "gridcolor": "#506784",
            "linecolor": "#506784",
            "ticks": ""
           },
           "bgcolor": "rgb(17,17,17)",
           "caxis": {
            "gridcolor": "#506784",
            "linecolor": "#506784",
            "ticks": ""
           }
          },
          "title": {
           "x": 0.05
          },
          "updatemenudefaults": {
           "bgcolor": "#506784",
           "borderwidth": 0
          },
          "xaxis": {
           "automargin": true,
           "gridcolor": "#283442",
           "linecolor": "#506784",
           "ticks": "",
           "title": {
            "standoff": 15
           },
           "zerolinecolor": "#283442",
           "zerolinewidth": 2
          },
          "yaxis": {
           "automargin": true,
           "gridcolor": "#283442",
           "linecolor": "#506784",
           "ticks": "",
           "title": {
            "standoff": 15
           },
           "zerolinecolor": "#283442",
           "zerolinewidth": 2
          }
         }
        },
        "title": {
         "text": "OMDB Popularity Score"
        }
       }
      },
      "text/html": [
       "<div>                            <div id=\"c0e0bb77-a672-46f2-8da7-7c50dc8bf662\" class=\"plotly-graph-div\" style=\"height:525px; width:100%;\"></div>            <script type=\"text/javascript\">                require([\"plotly\"], function(Plotly) {                    window.PLOTLYENV=window.PLOTLYENV || {};                                    if (document.getElementById(\"c0e0bb77-a672-46f2-8da7-7c50dc8bf662\")) {                    Plotly.newPlot(                        \"c0e0bb77-a672-46f2-8da7-7c50dc8bf662\",                        [{\"marker\": {\"color\": \"rgb(158,202,225)\", \"line\": {\"color\": \"rgb(8,48,107)\", \"width\": 1.5}}, \"opacity\": 0.6, \"type\": \"bar\", \"x\": [\"The Man Who Knew Too Much\", \"V for Vendetta\", \"Seven\", \"Wake in Fright\", \"Split\", \"The Conjuring\", \"Psycho\", \"Vertigo\", \"The Burnt Orange Heresy\", \"Doctor Sleep: Director's Cut\", \"Ruben Brandt, Collector\", \"The Isle\", \"Coherence\", \"'71\", \"The Birds\", \"Rear Window\", \"Blue Velvet\", \"The Hunt for Red October\", \"The Bourne Identity\", \"Minority Report\", \"Doctor Sleep\", \"Children of Men\", \"The Return\", \"The Guard\", \"Croupier\"], \"y\": [9.235, 33.732, 75.488, 8.71, 53.567, 58.055, 28.109, 20.895, 9.355, null, 13.514, 13.603, 26.837, 9.795, 23.93, 21.458, 14.928, 21.039, 26.284, 21.092, 36.26, 21.362, 19.125, 225.269, 8.461]}],                        {\"template\": {\"data\": {\"bar\": [{\"error_x\": {\"color\": \"#f2f5fa\"}, \"error_y\": {\"color\": \"#f2f5fa\"}, \"marker\": {\"line\": {\"color\": \"rgb(17,17,17)\", \"width\": 0.5}}, \"type\": \"bar\"}], \"barpolar\": [{\"marker\": {\"line\": {\"color\": \"rgb(17,17,17)\", \"width\": 0.5}}, \"type\": \"barpolar\"}], \"carpet\": [{\"aaxis\": {\"endlinecolor\": \"#A2B1C6\", \"gridcolor\": \"#506784\", \"linecolor\": \"#506784\", \"minorgridcolor\": \"#506784\", \"startlinecolor\": \"#A2B1C6\"}, \"baxis\": {\"endlinecolor\": \"#A2B1C6\", \"gridcolor\": \"#506784\", \"linecolor\": \"#506784\", \"minorgridcolor\": \"#506784\", \"startlinecolor\": \"#A2B1C6\"}, \"type\": \"carpet\"}], \"choropleth\": [{\"colorbar\": {\"outlinewidth\": 0, \"ticks\": \"\"}, \"type\": \"choropleth\"}], \"contour\": [{\"colorbar\": {\"outlinewidth\": 0, \"ticks\": \"\"}, \"colorscale\": [[0.0, \"#0d0887\"], [0.1111111111111111, \"#46039f\"], [0.2222222222222222, \"#7201a8\"], [0.3333333333333333, \"#9c179e\"], [0.4444444444444444, \"#bd3786\"], [0.5555555555555556, \"#d8576b\"], [0.6666666666666666, \"#ed7953\"], [0.7777777777777778, \"#fb9f3a\"], [0.8888888888888888, \"#fdca26\"], [1.0, \"#f0f921\"]], \"type\": \"contour\"}], \"contourcarpet\": [{\"colorbar\": {\"outlinewidth\": 0, \"ticks\": \"\"}, \"type\": \"contourcarpet\"}], \"heatmap\": [{\"colorbar\": {\"outlinewidth\": 0, \"ticks\": \"\"}, \"colorscale\": [[0.0, \"#0d0887\"], [0.1111111111111111, \"#46039f\"], [0.2222222222222222, \"#7201a8\"], [0.3333333333333333, \"#9c179e\"], [0.4444444444444444, \"#bd3786\"], [0.5555555555555556, \"#d8576b\"], [0.6666666666666666, \"#ed7953\"], [0.7777777777777778, \"#fb9f3a\"], [0.8888888888888888, \"#fdca26\"], [1.0, \"#f0f921\"]], \"type\": \"heatmap\"}], \"heatmapgl\": [{\"colorbar\": {\"outlinewidth\": 0, \"ticks\": \"\"}, \"colorscale\": [[0.0, \"#0d0887\"], [0.1111111111111111, \"#46039f\"], [0.2222222222222222, \"#7201a8\"], [0.3333333333333333, \"#9c179e\"], [0.4444444444444444, \"#bd3786\"], [0.5555555555555556, \"#d8576b\"], [0.6666666666666666, \"#ed7953\"], [0.7777777777777778, \"#fb9f3a\"], [0.8888888888888888, \"#fdca26\"], [1.0, \"#f0f921\"]], \"type\": \"heatmapgl\"}], \"histogram\": [{\"marker\": {\"colorbar\": {\"outlinewidth\": 0, \"ticks\": \"\"}}, \"type\": \"histogram\"}], \"histogram2d\": [{\"colorbar\": {\"outlinewidth\": 0, \"ticks\": \"\"}, \"colorscale\": [[0.0, \"#0d0887\"], [0.1111111111111111, \"#46039f\"], [0.2222222222222222, \"#7201a8\"], [0.3333333333333333, \"#9c179e\"], [0.4444444444444444, \"#bd3786\"], [0.5555555555555556, \"#d8576b\"], [0.6666666666666666, \"#ed7953\"], [0.7777777777777778, \"#fb9f3a\"], [0.8888888888888888, \"#fdca26\"], [1.0, \"#f0f921\"]], \"type\": \"histogram2d\"}], \"histogram2dcontour\": [{\"colorbar\": {\"outlinewidth\": 0, \"ticks\": \"\"}, \"colorscale\": [[0.0, \"#0d0887\"], [0.1111111111111111, \"#46039f\"], [0.2222222222222222, \"#7201a8\"], [0.3333333333333333, \"#9c179e\"], [0.4444444444444444, \"#bd3786\"], [0.5555555555555556, \"#d8576b\"], [0.6666666666666666, \"#ed7953\"], [0.7777777777777778, \"#fb9f3a\"], [0.8888888888888888, \"#fdca26\"], [1.0, \"#f0f921\"]], \"type\": \"histogram2dcontour\"}], \"mesh3d\": [{\"colorbar\": {\"outlinewidth\": 0, \"ticks\": \"\"}, \"type\": \"mesh3d\"}], \"parcoords\": [{\"line\": {\"colorbar\": {\"outlinewidth\": 0, \"ticks\": \"\"}}, \"type\": \"parcoords\"}], \"pie\": [{\"automargin\": true, \"type\": \"pie\"}], \"scatter\": [{\"marker\": {\"line\": {\"color\": \"#283442\"}}, \"type\": \"scatter\"}], \"scatter3d\": [{\"line\": {\"colorbar\": {\"outlinewidth\": 0, \"ticks\": \"\"}}, \"marker\": {\"colorbar\": {\"outlinewidth\": 0, \"ticks\": \"\"}}, \"type\": \"scatter3d\"}], \"scattercarpet\": [{\"marker\": {\"colorbar\": {\"outlinewidth\": 0, \"ticks\": \"\"}}, \"type\": \"scattercarpet\"}], \"scattergeo\": [{\"marker\": {\"colorbar\": {\"outlinewidth\": 0, \"ticks\": \"\"}}, \"type\": \"scattergeo\"}], \"scattergl\": [{\"marker\": {\"line\": {\"color\": \"#283442\"}}, \"type\": \"scattergl\"}], \"scattermapbox\": [{\"marker\": {\"colorbar\": {\"outlinewidth\": 0, \"ticks\": \"\"}}, \"type\": \"scattermapbox\"}], \"scatterpolar\": [{\"marker\": {\"colorbar\": {\"outlinewidth\": 0, \"ticks\": \"\"}}, \"type\": \"scatterpolar\"}], \"scatterpolargl\": [{\"marker\": {\"colorbar\": {\"outlinewidth\": 0, \"ticks\": \"\"}}, \"type\": \"scatterpolargl\"}], \"scatterternary\": [{\"marker\": {\"colorbar\": {\"outlinewidth\": 0, \"ticks\": \"\"}}, \"type\": \"scatterternary\"}], \"surface\": [{\"colorbar\": {\"outlinewidth\": 0, \"ticks\": \"\"}, \"colorscale\": [[0.0, \"#0d0887\"], [0.1111111111111111, \"#46039f\"], [0.2222222222222222, \"#7201a8\"], [0.3333333333333333, \"#9c179e\"], [0.4444444444444444, \"#bd3786\"], [0.5555555555555556, \"#d8576b\"], [0.6666666666666666, \"#ed7953\"], [0.7777777777777778, \"#fb9f3a\"], [0.8888888888888888, \"#fdca26\"], [1.0, \"#f0f921\"]], \"type\": \"surface\"}], \"table\": [{\"cells\": {\"fill\": {\"color\": \"#506784\"}, \"line\": {\"color\": \"rgb(17,17,17)\"}}, \"header\": {\"fill\": {\"color\": \"#2a3f5f\"}, \"line\": {\"color\": \"rgb(17,17,17)\"}}, \"type\": \"table\"}]}, \"layout\": {\"annotationdefaults\": {\"arrowcolor\": \"#f2f5fa\", \"arrowhead\": 0, \"arrowwidth\": 1}, \"coloraxis\": {\"colorbar\": {\"outlinewidth\": 0, \"ticks\": \"\"}}, \"colorscale\": {\"diverging\": [[0, \"#8e0152\"], [0.1, \"#c51b7d\"], [0.2, \"#de77ae\"], [0.3, \"#f1b6da\"], [0.4, \"#fde0ef\"], [0.5, \"#f7f7f7\"], [0.6, \"#e6f5d0\"], [0.7, \"#b8e186\"], [0.8, \"#7fbc41\"], [0.9, \"#4d9221\"], [1, \"#276419\"]], \"sequential\": [[0.0, \"#0d0887\"], [0.1111111111111111, \"#46039f\"], [0.2222222222222222, \"#7201a8\"], [0.3333333333333333, \"#9c179e\"], [0.4444444444444444, \"#bd3786\"], [0.5555555555555556, \"#d8576b\"], [0.6666666666666666, \"#ed7953\"], [0.7777777777777778, \"#fb9f3a\"], [0.8888888888888888, \"#fdca26\"], [1.0, \"#f0f921\"]], \"sequentialminus\": [[0.0, \"#0d0887\"], [0.1111111111111111, \"#46039f\"], [0.2222222222222222, \"#7201a8\"], [0.3333333333333333, \"#9c179e\"], [0.4444444444444444, \"#bd3786\"], [0.5555555555555556, \"#d8576b\"], [0.6666666666666666, \"#ed7953\"], [0.7777777777777778, \"#fb9f3a\"], [0.8888888888888888, \"#fdca26\"], [1.0, \"#f0f921\"]]}, \"colorway\": [\"#636efa\", \"#EF553B\", \"#00cc96\", \"#ab63fa\", \"#FFA15A\", \"#19d3f3\", \"#FF6692\", \"#B6E880\", \"#FF97FF\", \"#FECB52\"], \"font\": {\"color\": \"#f2f5fa\"}, \"geo\": {\"bgcolor\": \"rgb(17,17,17)\", \"lakecolor\": \"rgb(17,17,17)\", \"landcolor\": \"rgb(17,17,17)\", \"showlakes\": true, \"showland\": true, \"subunitcolor\": \"#506784\"}, \"hoverlabel\": {\"align\": \"left\"}, \"hovermode\": \"closest\", \"mapbox\": {\"style\": \"dark\"}, \"paper_bgcolor\": \"rgb(17,17,17)\", \"plot_bgcolor\": \"rgb(17,17,17)\", \"polar\": {\"angularaxis\": {\"gridcolor\": \"#506784\", \"linecolor\": \"#506784\", \"ticks\": \"\"}, \"bgcolor\": \"rgb(17,17,17)\", \"radialaxis\": {\"gridcolor\": \"#506784\", \"linecolor\": \"#506784\", \"ticks\": \"\"}}, \"scene\": {\"xaxis\": {\"backgroundcolor\": \"rgb(17,17,17)\", \"gridcolor\": \"#506784\", \"gridwidth\": 2, \"linecolor\": \"#506784\", \"showbackground\": true, \"ticks\": \"\", \"zerolinecolor\": \"#C8D4E3\"}, \"yaxis\": {\"backgroundcolor\": \"rgb(17,17,17)\", \"gridcolor\": \"#506784\", \"gridwidth\": 2, \"linecolor\": \"#506784\", \"showbackground\": true, \"ticks\": \"\", \"zerolinecolor\": \"#C8D4E3\"}, \"zaxis\": {\"backgroundcolor\": \"rgb(17,17,17)\", \"gridcolor\": \"#506784\", \"gridwidth\": 2, \"linecolor\": \"#506784\", \"showbackground\": true, \"ticks\": \"\", \"zerolinecolor\": \"#C8D4E3\"}}, \"shapedefaults\": {\"line\": {\"color\": \"#f2f5fa\"}}, \"sliderdefaults\": {\"bgcolor\": \"#C8D4E3\", \"bordercolor\": \"rgb(17,17,17)\", \"borderwidth\": 1, \"tickwidth\": 0}, \"ternary\": {\"aaxis\": {\"gridcolor\": \"#506784\", \"linecolor\": \"#506784\", \"ticks\": \"\"}, \"baxis\": {\"gridcolor\": \"#506784\", \"linecolor\": \"#506784\", \"ticks\": \"\"}, \"bgcolor\": \"rgb(17,17,17)\", \"caxis\": {\"gridcolor\": \"#506784\", \"linecolor\": \"#506784\", \"ticks\": \"\"}}, \"title\": {\"x\": 0.05}, \"updatemenudefaults\": {\"bgcolor\": \"#506784\", \"borderwidth\": 0}, \"xaxis\": {\"automargin\": true, \"gridcolor\": \"#283442\", \"linecolor\": \"#506784\", \"ticks\": \"\", \"title\": {\"standoff\": 15}, \"zerolinecolor\": \"#283442\", \"zerolinewidth\": 2}, \"yaxis\": {\"automargin\": true, \"gridcolor\": \"#283442\", \"linecolor\": \"#506784\", \"ticks\": \"\", \"title\": {\"standoff\": 15}, \"zerolinecolor\": \"#283442\", \"zerolinewidth\": 2}}}, \"title\": {\"text\": \"OMDB Popularity Score\"}},                        {\"responsive\": true}                    ).then(function(){\n",
       "                            \n",
       "var gd = document.getElementById('c0e0bb77-a672-46f2-8da7-7c50dc8bf662');\n",
       "var x = new MutationObserver(function (mutations, observer) {{\n",
       "        var display = window.getComputedStyle(gd).display;\n",
       "        if (!display || display === 'none') {{\n",
       "            console.log([gd, 'removed!']);\n",
       "            Plotly.purge(gd);\n",
       "            observer.disconnect();\n",
       "        }}\n",
       "}});\n",
       "\n",
       "// Listen for the removal of the full notebook cells\n",
       "var notebookContainer = gd.closest('#notebook-container');\n",
       "if (notebookContainer) {{\n",
       "    x.observe(notebookContainer, {childList: true});\n",
       "}}\n",
       "\n",
       "// Listen for the clearing of the current output cell\n",
       "var outputEl = gd.closest('.output');\n",
       "if (outputEl) {{\n",
       "    x.observe(outputEl, {childList: true});\n",
       "}}\n",
       "\n",
       "                        })                };                });            </script>        </div>"
      ]
     },
     "metadata": {},
     "output_type": "display_data"
    }
   ],
   "source": [
    "#makes another pretty bar chart with the popularity score \n",
    "\n",
    "titles = list(results_df['title'])\n",
    "popularity = list(results_df['OMDB_pop_score'])\n",
    "\n",
    "y = popularity\n",
    "x = titles\n",
    "    #hovertext defaults to index (country name)\n",
    "fig = go.Figure(data=[go.Bar(x=x, y=y)])\n",
    "    # Customize aspect\n",
    "fig.update_traces(marker_color='rgb(158,202,225)' , marker_line_color='rgb(8,48,107)',\n",
    "                      marker_line_width=1.5, opacity=0.6)\n",
    "fig.update_layout(template= \"plotly_dark\",title_text='OMDB Popularity Score')\n",
    "fig.show()"
   ]
  },
  {
   "cell_type": "code",
   "execution_count": null,
   "metadata": {},
   "outputs": [],
   "source": []
  },
  {
   "cell_type": "code",
   "execution_count": 128,
   "metadata": {},
   "outputs": [],
   "source": [
    "#Put Twitter Keys Here\n",
    "\n",
    "consumer_key = 'ipj7n4K6kiYFnU9KmwGYeOa8j'\n",
    "consumer_secret = 'aHQ9PWWwCVySezoIc78paOlFFRFYtpr7yoIjFtzAbNguBScRIc'\n",
    "access_token = '1268967663738294272-ZpRjqVMCAId9nuiuvg734CvIkxGB0U'\n",
    "access_token_secret = 'PX3TOcof5QSiqiwl6mMiORTBBqZrabNnhalZC5vmF434K'\n",
    "    \n"
   ]
  },
  {
   "cell_type": "code",
   "execution_count": 129,
   "metadata": {},
   "outputs": [
    {
     "name": "stdout",
     "output_type": "stream",
     "text": [
      "complete\n"
     ]
    }
   ],
   "source": [
    "#create authentication for accessing Twitter\n",
    "auth = tweepy.OAuthHandler(consumer_key, consumer_secret)\n",
    "auth.set_access_token(access_token, access_token_secret)\n",
    "\n",
    "    #initialize Tweepy API\n",
    "api = tweepy.API(auth)\n",
    "   \n",
    "#Searches twitter for all tweets in the past 24 hours with the hashtag of the movie title \n",
    "#adds total tweet column and combined follwers of those tweeters for each movie\n",
    "\n",
    "for i in range(len(results_df)):\n",
    "    try:\n",
    "        hashtag_phrase = results_df.loc[i+1, 'title']\n",
    "        username = []\n",
    "        followers = []\n",
    "    except:\n",
    "        print(f\"input error with {hashtag_phrase}\")\n",
    "    \n",
    "    try:\n",
    "        for tweet in tweepy.Cursor(api.search, q=hashtag_phrase+' -filter:retweets', \\\n",
    "                                           lang=\"en\", tweet_mode='extended').items(100):\n",
    "\n",
    "            username.append(tweet.user.screen_name.encode('utf-8'))\n",
    "            followers.append(tweet.user.followers_count)\n",
    "\n",
    "            user_tweets = len(username)\n",
    "            combined_followers = sum(followers)\n",
    "\n",
    "        results_df.loc[i+1,\"tweets\"] = user_tweets\n",
    "        results_df.loc[i+1,\"combined_followers\"] = combined_followers \n",
    "    \n",
    "    except:\n",
    "        print(f\"API Error with {hashtag_phrase}\")\n",
    "                       \n",
    "print('complete')    \n",
    " \n",
    "    "
   ]
  },
  {
   "cell_type": "code",
   "execution_count": 18,
   "metadata": {},
   "outputs": [],
   "source": [
    "results_df.to_csv(\"Sherlock_Output.csv\", index=False, header=True)"
   ]
  },
  {
   "cell_type": "code",
   "execution_count": 97,
   "metadata": {},
   "outputs": [
    {
     "data": {
      "text/html": [
       "<div>\n",
       "<style scoped>\n",
       "    .dataframe tbody tr th:only-of-type {\n",
       "        vertical-align: middle;\n",
       "    }\n",
       "\n",
       "    .dataframe tbody tr th {\n",
       "        vertical-align: top;\n",
       "    }\n",
       "\n",
       "    .dataframe thead th {\n",
       "        text-align: right;\n",
       "    }\n",
       "</style>\n",
       "<table border=\"1\" class=\"dataframe\">\n",
       "  <thead>\n",
       "    <tr style=\"text-align: right;\">\n",
       "      <th></th>\n",
       "      <th>TMS_ID</th>\n",
       "      <th>title</th>\n",
       "      <th>release_year</th>\n",
       "      <th>genre</th>\n",
       "      <th>audience_score</th>\n",
       "      <th>critics_score</th>\n",
       "      <th>start_time</th>\n",
       "      <th>end_time</th>\n",
       "      <th>provider_name</th>\n",
       "      <th>OMDB_pop_score</th>\n",
       "      <th>tweets</th>\n",
       "      <th>combined_followers</th>\n",
       "      <th>popularity</th>\n",
       "    </tr>\n",
       "  </thead>\n",
       "  <tbody>\n",
       "    <tr>\n",
       "      <th>1</th>\n",
       "      <td>MV005848780000</td>\n",
       "      <td>Coming Home</td>\n",
       "      <td>2014</td>\n",
       "      <td>[Drama, Romance]</td>\n",
       "      <td>85</td>\n",
       "      <td>89</td>\n",
       "      <td>2019-03-28T04:00:00+00:00</td>\n",
       "      <td>2030-01-01T04:59:59+00:00</td>\n",
       "      <td>IND_HD_EXP</td>\n",
       "      <td>9.86</td>\n",
       "      <td>100</td>\n",
       "      <td>3634834</td>\n",
       "      <td>9.860</td>\n",
       "    </tr>\n",
       "    <tr>\n",
       "      <th>2</th>\n",
       "      <td>MV000413730000</td>\n",
       "      <td>Before Sunrise</td>\n",
       "      <td>1995</td>\n",
       "      <td>[Romance]</td>\n",
       "      <td>93</td>\n",
       "      <td>100</td>\n",
       "      <td>2020-08-01T10:00:00+00:00</td>\n",
       "      <td>2021-02-01T10:59:00+00:00</td>\n",
       "      <td>HBO_HD_EXP</td>\n",
       "      <td>18.777</td>\n",
       "      <td>100</td>\n",
       "      <td>207989</td>\n",
       "      <td>18.777</td>\n",
       "    </tr>\n",
       "    <tr>\n",
       "      <th>3</th>\n",
       "      <td>MV001397560000</td>\n",
       "      <td>NaN</td>\n",
       "      <td>2003</td>\n",
       "      <td>[Romance, Drama]</td>\n",
       "      <td>80</td>\n",
       "      <td>NaN</td>\n",
       "      <td>2020-12-04T05:00:00+00:00</td>\n",
       "      <td>2021-06-04T03:59:59+00:00</td>\n",
       "      <td>BOLLYWOOD</td>\n",
       "      <td>10.158</td>\n",
       "      <td>NaN</td>\n",
       "      <td>NaN</td>\n",
       "      <td>10.158</td>\n",
       "    </tr>\n",
       "    <tr>\n",
       "      <th>4</th>\n",
       "      <td>MV001445820000</td>\n",
       "      <td>NaN</td>\n",
       "      <td>2003</td>\n",
       "      <td>[Comedy drama, Romance]</td>\n",
       "      <td>94</td>\n",
       "      <td>NaN</td>\n",
       "      <td>2020-11-20T05:00:00+00:00</td>\n",
       "      <td>2021-02-26T04:59:59+00:00</td>\n",
       "      <td>BOLLYWOOD</td>\n",
       "      <td>10.158</td>\n",
       "      <td>NaN</td>\n",
       "      <td>NaN</td>\n",
       "      <td>10.158</td>\n",
       "    </tr>\n",
       "    <tr>\n",
       "      <th>5</th>\n",
       "      <td>MV002100260000</td>\n",
       "      <td>Shelter</td>\n",
       "      <td>2007</td>\n",
       "      <td>[Drama, Romance]</td>\n",
       "      <td>85</td>\n",
       "      <td>60</td>\n",
       "      <td>2020-08-26T04:00:00+00:00</td>\n",
       "      <td>2030-01-02T04:59:59+00:00</td>\n",
       "      <td>Here</td>\n",
       "      <td>13.619</td>\n",
       "      <td>100</td>\n",
       "      <td>9378330</td>\n",
       "      <td>13.619</td>\n",
       "    </tr>\n",
       "    <tr>\n",
       "      <th>6</th>\n",
       "      <td>MV002610690000</td>\n",
       "      <td>Don't Let Me Drown</td>\n",
       "      <td>2009</td>\n",
       "      <td>[Drama, Romance]</td>\n",
       "      <td>81</td>\n",
       "      <td>NaN</td>\n",
       "      <td>2019-12-16T05:00:00+00:00</td>\n",
       "      <td>2030-01-01T04:59:59+00:00</td>\n",
       "      <td>UMC_SVOD</td>\n",
       "      <td>3.8</td>\n",
       "      <td>100</td>\n",
       "      <td>77575</td>\n",
       "      <td>3.800</td>\n",
       "    </tr>\n",
       "    <tr>\n",
       "      <th>7</th>\n",
       "      <td>MV001426420000</td>\n",
       "      <td>Eternal Sunshine of the Spotless Mind</td>\n",
       "      <td>2004</td>\n",
       "      <td>[Romance, Science fiction]</td>\n",
       "      <td>94</td>\n",
       "      <td>93</td>\n",
       "      <td>2019-03-14T04:00:00+00:00</td>\n",
       "      <td>2021-01-01T04:59:59+00:00</td>\n",
       "      <td>IND_HD_EXP</td>\n",
       "      <td>33.647</td>\n",
       "      <td>100</td>\n",
       "      <td>658261</td>\n",
       "      <td>33.647</td>\n",
       "    </tr>\n",
       "    <tr>\n",
       "      <th>8</th>\n",
       "      <td>MV012815800000</td>\n",
       "      <td>The Photograph</td>\n",
       "      <td>2020</td>\n",
       "      <td>[Romance, Drama]</td>\n",
       "      <td>81</td>\n",
       "      <td>74</td>\n",
       "      <td>2020-12-06T05:00:00+00:00</td>\n",
       "      <td>2020-12-20T04:59:59+00:00</td>\n",
       "      <td>HBO_HD</td>\n",
       "      <td>26.274</td>\n",
       "      <td>100</td>\n",
       "      <td>2059432</td>\n",
       "      <td>26.274</td>\n",
       "    </tr>\n",
       "    <tr>\n",
       "      <th>9</th>\n",
       "      <td>MV000363120000</td>\n",
       "      <td>Groundhog Day</td>\n",
       "      <td>1993</td>\n",
       "      <td>[Romantic comedy, Romance]</td>\n",
       "      <td>88</td>\n",
       "      <td>96</td>\n",
       "      <td>2016-07-21T04:00:00+00:00</td>\n",
       "      <td>2030-01-01T04:59:59+00:00</td>\n",
       "      <td>IND_HD_EXP</td>\n",
       "      <td>18.005</td>\n",
       "      <td>100</td>\n",
       "      <td>256247</td>\n",
       "      <td>18.005</td>\n",
       "    </tr>\n",
       "    <tr>\n",
       "      <th>10</th>\n",
       "      <td>MV001941940000</td>\n",
       "      <td>Across the Universe</td>\n",
       "      <td>2007</td>\n",
       "      <td>[Musical, Romance]</td>\n",
       "      <td>82</td>\n",
       "      <td>53</td>\n",
       "      <td>2020-07-10T11:01:00+00:00</td>\n",
       "      <td>2021-01-01T12:59:00+00:00</td>\n",
       "      <td>FXM_HD</td>\n",
       "      <td>8.625</td>\n",
       "      <td>100</td>\n",
       "      <td>378921</td>\n",
       "      <td>8.625</td>\n",
       "    </tr>\n",
       "    <tr>\n",
       "      <th>11</th>\n",
       "      <td>MV000317690000</td>\n",
       "      <td>Ghost</td>\n",
       "      <td>1990</td>\n",
       "      <td>[Fantasy, Romance]</td>\n",
       "      <td>80</td>\n",
       "      <td>74</td>\n",
       "      <td>2019-03-07T05:00:00+00:00</td>\n",
       "      <td>2030-01-01T04:59:59+00:00</td>\n",
       "      <td>IND_HD_EXP</td>\n",
       "      <td>21.902</td>\n",
       "      <td>100</td>\n",
       "      <td>431391</td>\n",
       "      <td>21.902</td>\n",
       "    </tr>\n",
       "    <tr>\n",
       "      <th>12</th>\n",
       "      <td>MV000581810000</td>\n",
       "      <td>City of Angels</td>\n",
       "      <td>1998</td>\n",
       "      <td>[Romance]</td>\n",
       "      <td>82</td>\n",
       "      <td>58</td>\n",
       "      <td>2016-07-21T04:00:00+00:00</td>\n",
       "      <td>2030-01-01T04:59:00+00:00</td>\n",
       "      <td>IND_HD_EXP</td>\n",
       "      <td>29.683</td>\n",
       "      <td>100</td>\n",
       "      <td>216704</td>\n",
       "      <td>29.683</td>\n",
       "    </tr>\n",
       "    <tr>\n",
       "      <th>13</th>\n",
       "      <td>MV000006120000</td>\n",
       "      <td>Doctor Zhivago</td>\n",
       "      <td>1965</td>\n",
       "      <td>[Romance, Historical drama, War]</td>\n",
       "      <td>88</td>\n",
       "      <td>84</td>\n",
       "      <td>2016-07-22T04:00:00+00:00</td>\n",
       "      <td>2030-01-01T04:59:59+00:00</td>\n",
       "      <td>IND_HD_EXP</td>\n",
       "      <td>12.454</td>\n",
       "      <td>100</td>\n",
       "      <td>518975</td>\n",
       "      <td>12.454</td>\n",
       "    </tr>\n",
       "    <tr>\n",
       "      <th>14</th>\n",
       "      <td>MV000007390000</td>\n",
       "      <td>Breakfast at Tiffany's</td>\n",
       "      <td>1961</td>\n",
       "      <td>[Romantic comedy, Romance, Comedy]</td>\n",
       "      <td>91</td>\n",
       "      <td>88</td>\n",
       "      <td>2020-12-01T05:00:00+00:00</td>\n",
       "      <td>2021-01-01T04:59:59+00:00</td>\n",
       "      <td>SUNDANCEHD</td>\n",
       "      <td>11.33</td>\n",
       "      <td>100</td>\n",
       "      <td>668249</td>\n",
       "      <td>11.330</td>\n",
       "    </tr>\n",
       "    <tr>\n",
       "      <th>15</th>\n",
       "      <td>MV000355470000</td>\n",
       "      <td>The Last of the Mohicans</td>\n",
       "      <td>1992</td>\n",
       "      <td>[Historical drama, Adventure, War, Romance]</td>\n",
       "      <td>88</td>\n",
       "      <td>93</td>\n",
       "      <td>2020-11-11T05:00:00+00:00</td>\n",
       "      <td>2021-01-01T04:59:59+00:00</td>\n",
       "      <td>SHOWTIME_HD_EXP</td>\n",
       "      <td>15.792</td>\n",
       "      <td>100</td>\n",
       "      <td>611755</td>\n",
       "      <td>15.792</td>\n",
       "    </tr>\n",
       "    <tr>\n",
       "      <th>16</th>\n",
       "      <td>MV000193150000</td>\n",
       "      <td>Out of Africa</td>\n",
       "      <td>1985</td>\n",
       "      <td>[Romance, Biography, Drama]</td>\n",
       "      <td>83</td>\n",
       "      <td>59</td>\n",
       "      <td>2019-03-21T04:00:00+00:00</td>\n",
       "      <td>2021-01-01T04:59:59+00:00</td>\n",
       "      <td>IND_HD_EXP</td>\n",
       "      <td>11.345</td>\n",
       "      <td>100</td>\n",
       "      <td>735447</td>\n",
       "      <td>11.345</td>\n",
       "    </tr>\n",
       "    <tr>\n",
       "      <th>17</th>\n",
       "      <td>MV010308720000</td>\n",
       "      <td>Angry Angel</td>\n",
       "      <td>2017</td>\n",
       "      <td>[Holiday, Romance, Fantasy]</td>\n",
       "      <td>83</td>\n",
       "      <td>NaN</td>\n",
       "      <td>2020-11-01T04:00:00+00:00</td>\n",
       "      <td>2020-12-26T04:59:00+00:00</td>\n",
       "      <td>FREEFORM_HD</td>\n",
       "      <td>3.646</td>\n",
       "      <td>100</td>\n",
       "      <td>374779</td>\n",
       "      <td>3.646</td>\n",
       "    </tr>\n",
       "    <tr>\n",
       "      <th>18</th>\n",
       "      <td>MV010413570000</td>\n",
       "      <td>Aladdin</td>\n",
       "      <td>2019</td>\n",
       "      <td>[Children, Musical comedy, Fantasy, Adventure,...</td>\n",
       "      <td>94</td>\n",
       "      <td>57</td>\n",
       "      <td>2020-05-01T04:00:00+00:00</td>\n",
       "      <td>2021-04-01T03:59:59+00:00</td>\n",
       "      <td>IND_HD_EXP</td>\n",
       "      <td>144.303</td>\n",
       "      <td>100</td>\n",
       "      <td>153207</td>\n",
       "      <td>144.303</td>\n",
       "    </tr>\n",
       "    <tr>\n",
       "      <th>19</th>\n",
       "      <td>MV008321120000</td>\n",
       "      <td>La La Land</td>\n",
       "      <td>2016</td>\n",
       "      <td>[Musical, Romance, Comedy drama]</td>\n",
       "      <td>81</td>\n",
       "      <td>91</td>\n",
       "      <td>2020-06-15T10:00:00+00:00</td>\n",
       "      <td>2021-01-01T10:59:00+00:00</td>\n",
       "      <td>HBO_HD_EXP</td>\n",
       "      <td>20.177</td>\n",
       "      <td>100</td>\n",
       "      <td>2631013</td>\n",
       "      <td>20.177</td>\n",
       "    </tr>\n",
       "    <tr>\n",
       "      <th>20</th>\n",
       "      <td>MV009302840000</td>\n",
       "      <td>Maudie</td>\n",
       "      <td>2016</td>\n",
       "      <td>[Biography, Historical drama, Romance]</td>\n",
       "      <td>89</td>\n",
       "      <td>89</td>\n",
       "      <td>2020-09-18T04:00:00+00:00</td>\n",
       "      <td>2021-10-04T03:59:59+00:00</td>\n",
       "      <td>STARZ_HD_EXP_MPEG4</td>\n",
       "      <td>8.654</td>\n",
       "      <td>84</td>\n",
       "      <td>192017</td>\n",
       "      <td>8.654</td>\n",
       "    </tr>\n",
       "    <tr>\n",
       "      <th>21</th>\n",
       "      <td>MV001941330000</td>\n",
       "      <td>Once</td>\n",
       "      <td>2006</td>\n",
       "      <td>[Romance, Musical, Drama]</td>\n",
       "      <td>91</td>\n",
       "      <td>97</td>\n",
       "      <td>2020-10-01T10:00:00+00:00</td>\n",
       "      <td>2021-06-01T09:59:00+00:00</td>\n",
       "      <td>HBO_HD_EXP</td>\n",
       "      <td>584.829</td>\n",
       "      <td>100</td>\n",
       "      <td>395996</td>\n",
       "      <td>584.829</td>\n",
       "    </tr>\n",
       "    <tr>\n",
       "      <th>22</th>\n",
       "      <td>MV001999600000</td>\n",
       "      <td>The Curious Case of Benjamin Button</td>\n",
       "      <td>2008</td>\n",
       "      <td>[Fantasy, Drama, Romance]</td>\n",
       "      <td>80</td>\n",
       "      <td>71</td>\n",
       "      <td>2017-06-26T04:00:00+00:00</td>\n",
       "      <td>2030-01-01T04:59:59+00:00</td>\n",
       "      <td>IND_HD_EXP</td>\n",
       "      <td>25.62</td>\n",
       "      <td>100</td>\n",
       "      <td>127700</td>\n",
       "      <td>25.620</td>\n",
       "    </tr>\n",
       "    <tr>\n",
       "      <th>23</th>\n",
       "      <td>MV002001090000</td>\n",
       "      <td>P.S. I Love You</td>\n",
       "      <td>2007</td>\n",
       "      <td>[Romance, Comedy drama]</td>\n",
       "      <td>80</td>\n",
       "      <td>25</td>\n",
       "      <td>2016-08-12T04:00:00+00:00</td>\n",
       "      <td>2023-01-01T04:59:00+00:00</td>\n",
       "      <td>IND_HD_EXP</td>\n",
       "      <td>20.912</td>\n",
       "      <td>100</td>\n",
       "      <td>1018131</td>\n",
       "      <td>20.912</td>\n",
       "    </tr>\n",
       "    <tr>\n",
       "      <th>24</th>\n",
       "      <td>MV003979470000</td>\n",
       "      <td>Silver Linings Playbook</td>\n",
       "      <td>2012</td>\n",
       "      <td>[Comedy drama, Romance]</td>\n",
       "      <td>86</td>\n",
       "      <td>92</td>\n",
       "      <td>2016-07-14T04:00:00+00:00</td>\n",
       "      <td>2023-05-08T03:59:59+00:00</td>\n",
       "      <td>IND_HD_EXP</td>\n",
       "      <td>20.052</td>\n",
       "      <td>100</td>\n",
       "      <td>765735</td>\n",
       "      <td>20.052</td>\n",
       "    </tr>\n",
       "    <tr>\n",
       "      <th>25</th>\n",
       "      <td>MV001654650000</td>\n",
       "      <td>Brokeback Mountain</td>\n",
       "      <td>2005</td>\n",
       "      <td>[Romance, Drama]</td>\n",
       "      <td>82</td>\n",
       "      <td>87</td>\n",
       "      <td>2020-02-12T05:00:00+00:00</td>\n",
       "      <td>2023-01-01T04:59:59+00:00</td>\n",
       "      <td>IND_HD_EXP</td>\n",
       "      <td>18.096</td>\n",
       "      <td>100</td>\n",
       "      <td>241832</td>\n",
       "      <td>18.096</td>\n",
       "    </tr>\n",
       "  </tbody>\n",
       "</table>\n",
       "</div>"
      ],
      "text/plain": [
       "            TMS_ID                                  title release_year  \\\n",
       "1   MV005848780000                            Coming Home         2014   \n",
       "2   MV000413730000                         Before Sunrise         1995   \n",
       "3   MV001397560000                                    NaN         2003   \n",
       "4   MV001445820000                                    NaN         2003   \n",
       "5   MV002100260000                                Shelter         2007   \n",
       "6   MV002610690000                     Don't Let Me Drown         2009   \n",
       "7   MV001426420000  Eternal Sunshine of the Spotless Mind         2004   \n",
       "8   MV012815800000                         The Photograph         2020   \n",
       "9   MV000363120000                          Groundhog Day         1993   \n",
       "10  MV001941940000                    Across the Universe         2007   \n",
       "11  MV000317690000                                  Ghost         1990   \n",
       "12  MV000581810000                         City of Angels         1998   \n",
       "13  MV000006120000                         Doctor Zhivago         1965   \n",
       "14  MV000007390000                 Breakfast at Tiffany's         1961   \n",
       "15  MV000355470000               The Last of the Mohicans         1992   \n",
       "16  MV000193150000                          Out of Africa         1985   \n",
       "17  MV010308720000                            Angry Angel         2017   \n",
       "18  MV010413570000                                Aladdin         2019   \n",
       "19  MV008321120000                             La La Land         2016   \n",
       "20  MV009302840000                                 Maudie         2016   \n",
       "21  MV001941330000                                   Once         2006   \n",
       "22  MV001999600000    The Curious Case of Benjamin Button         2008   \n",
       "23  MV002001090000                        P.S. I Love You         2007   \n",
       "24  MV003979470000                Silver Linings Playbook         2012   \n",
       "25  MV001654650000                     Brokeback Mountain         2005   \n",
       "\n",
       "                                                genre audience_score  \\\n",
       "1                                    [Drama, Romance]             85   \n",
       "2                                           [Romance]             93   \n",
       "3                                    [Romance, Drama]             80   \n",
       "4                             [Comedy drama, Romance]             94   \n",
       "5                                    [Drama, Romance]             85   \n",
       "6                                    [Drama, Romance]             81   \n",
       "7                          [Romance, Science fiction]             94   \n",
       "8                                    [Romance, Drama]             81   \n",
       "9                          [Romantic comedy, Romance]             88   \n",
       "10                                 [Musical, Romance]             82   \n",
       "11                                 [Fantasy, Romance]             80   \n",
       "12                                          [Romance]             82   \n",
       "13                   [Romance, Historical drama, War]             88   \n",
       "14                 [Romantic comedy, Romance, Comedy]             91   \n",
       "15        [Historical drama, Adventure, War, Romance]             88   \n",
       "16                        [Romance, Biography, Drama]             83   \n",
       "17                        [Holiday, Romance, Fantasy]             83   \n",
       "18  [Children, Musical comedy, Fantasy, Adventure,...             94   \n",
       "19                   [Musical, Romance, Comedy drama]             81   \n",
       "20             [Biography, Historical drama, Romance]             89   \n",
       "21                          [Romance, Musical, Drama]             91   \n",
       "22                          [Fantasy, Drama, Romance]             80   \n",
       "23                            [Romance, Comedy drama]             80   \n",
       "24                            [Comedy drama, Romance]             86   \n",
       "25                                   [Romance, Drama]             82   \n",
       "\n",
       "   critics_score                 start_time                   end_time  \\\n",
       "1             89  2019-03-28T04:00:00+00:00  2030-01-01T04:59:59+00:00   \n",
       "2            100  2020-08-01T10:00:00+00:00  2021-02-01T10:59:00+00:00   \n",
       "3            NaN  2020-12-04T05:00:00+00:00  2021-06-04T03:59:59+00:00   \n",
       "4            NaN  2020-11-20T05:00:00+00:00  2021-02-26T04:59:59+00:00   \n",
       "5             60  2020-08-26T04:00:00+00:00  2030-01-02T04:59:59+00:00   \n",
       "6            NaN  2019-12-16T05:00:00+00:00  2030-01-01T04:59:59+00:00   \n",
       "7             93  2019-03-14T04:00:00+00:00  2021-01-01T04:59:59+00:00   \n",
       "8             74  2020-12-06T05:00:00+00:00  2020-12-20T04:59:59+00:00   \n",
       "9             96  2016-07-21T04:00:00+00:00  2030-01-01T04:59:59+00:00   \n",
       "10            53  2020-07-10T11:01:00+00:00  2021-01-01T12:59:00+00:00   \n",
       "11            74  2019-03-07T05:00:00+00:00  2030-01-01T04:59:59+00:00   \n",
       "12            58  2016-07-21T04:00:00+00:00  2030-01-01T04:59:00+00:00   \n",
       "13            84  2016-07-22T04:00:00+00:00  2030-01-01T04:59:59+00:00   \n",
       "14            88  2020-12-01T05:00:00+00:00  2021-01-01T04:59:59+00:00   \n",
       "15            93  2020-11-11T05:00:00+00:00  2021-01-01T04:59:59+00:00   \n",
       "16            59  2019-03-21T04:00:00+00:00  2021-01-01T04:59:59+00:00   \n",
       "17           NaN  2020-11-01T04:00:00+00:00  2020-12-26T04:59:00+00:00   \n",
       "18            57  2020-05-01T04:00:00+00:00  2021-04-01T03:59:59+00:00   \n",
       "19            91  2020-06-15T10:00:00+00:00  2021-01-01T10:59:00+00:00   \n",
       "20            89  2020-09-18T04:00:00+00:00  2021-10-04T03:59:59+00:00   \n",
       "21            97  2020-10-01T10:00:00+00:00  2021-06-01T09:59:00+00:00   \n",
       "22            71  2017-06-26T04:00:00+00:00  2030-01-01T04:59:59+00:00   \n",
       "23            25  2016-08-12T04:00:00+00:00  2023-01-01T04:59:00+00:00   \n",
       "24            92  2016-07-14T04:00:00+00:00  2023-05-08T03:59:59+00:00   \n",
       "25            87  2020-02-12T05:00:00+00:00  2023-01-01T04:59:59+00:00   \n",
       "\n",
       "         provider_name OMDB_pop_score tweets combined_followers  popularity  \n",
       "1           IND_HD_EXP           9.86    100            3634834       9.860  \n",
       "2           HBO_HD_EXP         18.777    100             207989      18.777  \n",
       "3            BOLLYWOOD         10.158    NaN                NaN      10.158  \n",
       "4            BOLLYWOOD         10.158    NaN                NaN      10.158  \n",
       "5                 Here         13.619    100            9378330      13.619  \n",
       "6             UMC_SVOD            3.8    100              77575       3.800  \n",
       "7           IND_HD_EXP         33.647    100             658261      33.647  \n",
       "8               HBO_HD         26.274    100            2059432      26.274  \n",
       "9           IND_HD_EXP         18.005    100             256247      18.005  \n",
       "10              FXM_HD          8.625    100             378921       8.625  \n",
       "11          IND_HD_EXP         21.902    100             431391      21.902  \n",
       "12          IND_HD_EXP         29.683    100             216704      29.683  \n",
       "13          IND_HD_EXP         12.454    100             518975      12.454  \n",
       "14          SUNDANCEHD          11.33    100             668249      11.330  \n",
       "15     SHOWTIME_HD_EXP         15.792    100             611755      15.792  \n",
       "16          IND_HD_EXP         11.345    100             735447      11.345  \n",
       "17         FREEFORM_HD          3.646    100             374779       3.646  \n",
       "18          IND_HD_EXP        144.303    100             153207     144.303  \n",
       "19          HBO_HD_EXP         20.177    100            2631013      20.177  \n",
       "20  STARZ_HD_EXP_MPEG4          8.654     84             192017       8.654  \n",
       "21          HBO_HD_EXP        584.829    100             395996     584.829  \n",
       "22          IND_HD_EXP          25.62    100             127700      25.620  \n",
       "23          IND_HD_EXP         20.912    100            1018131      20.912  \n",
       "24          IND_HD_EXP         20.052    100             765735      20.052  \n",
       "25          IND_HD_EXP         18.096    100             241832      18.096  "
      ]
     },
     "execution_count": 97,
     "metadata": {},
     "output_type": "execute_result"
    }
   ],
   "source": [
    "results_df"
   ]
  },
  {
   "cell_type": "code",
   "execution_count": 98,
   "metadata": {},
   "outputs": [],
   "source": [
    "IP_consumption_df = pd.read_csv(\"IP_consumption.csv\")"
   ]
  },
  {
   "cell_type": "code",
   "execution_count": 99,
   "metadata": {},
   "outputs": [
    {
     "data": {
      "text/html": [
       "<div>\n",
       "<style scoped>\n",
       "    .dataframe tbody tr th:only-of-type {\n",
       "        vertical-align: middle;\n",
       "    }\n",
       "\n",
       "    .dataframe tbody tr th {\n",
       "        vertical-align: top;\n",
       "    }\n",
       "\n",
       "    .dataframe thead th {\n",
       "        text-align: right;\n",
       "    }\n",
       "</style>\n",
       "<table border=\"1\" class=\"dataframe\">\n",
       "  <thead>\n",
       "    <tr style=\"text-align: right;\">\n",
       "      <th></th>\n",
       "      <th>TMS_ID</th>\n",
       "      <th>vt_hours</th>\n",
       "    </tr>\n",
       "  </thead>\n",
       "  <tbody>\n",
       "    <tr>\n",
       "      <th>0</th>\n",
       "      <td>EP000000211956</td>\n",
       "      <td>222.373056</td>\n",
       "    </tr>\n",
       "    <tr>\n",
       "      <th>1</th>\n",
       "      <td>EP000000211957</td>\n",
       "      <td>835.177778</td>\n",
       "    </tr>\n",
       "    <tr>\n",
       "      <th>2</th>\n",
       "      <td>EP000000211959</td>\n",
       "      <td>933.941667</td>\n",
       "    </tr>\n",
       "    <tr>\n",
       "      <th>3</th>\n",
       "      <td>EP000000211962</td>\n",
       "      <td>4999.984722</td>\n",
       "    </tr>\n",
       "    <tr>\n",
       "      <th>4</th>\n",
       "      <td>EP000000211963</td>\n",
       "      <td>4375.606944</td>\n",
       "    </tr>\n",
       "    <tr>\n",
       "      <th>...</th>\n",
       "      <td>...</td>\n",
       "      <td>...</td>\n",
       "    </tr>\n",
       "    <tr>\n",
       "      <th>61260</th>\n",
       "      <td>SH036864110000</td>\n",
       "      <td>0.279722</td>\n",
       "    </tr>\n",
       "    <tr>\n",
       "      <th>61261</th>\n",
       "      <td>SH036879510000</td>\n",
       "      <td>989.755278</td>\n",
       "    </tr>\n",
       "    <tr>\n",
       "      <th>61262</th>\n",
       "      <td>SH036902750000</td>\n",
       "      <td>44.620000</td>\n",
       "    </tr>\n",
       "    <tr>\n",
       "      <th>61263</th>\n",
       "      <td>SH036905140000</td>\n",
       "      <td>4.904444</td>\n",
       "    </tr>\n",
       "    <tr>\n",
       "      <th>61264</th>\n",
       "      <td>SH036914820000</td>\n",
       "      <td>0.077222</td>\n",
       "    </tr>\n",
       "  </tbody>\n",
       "</table>\n",
       "<p>61265 rows × 2 columns</p>\n",
       "</div>"
      ],
      "text/plain": [
       "               TMS_ID     vt_hours\n",
       "0      EP000000211956   222.373056\n",
       "1      EP000000211957   835.177778\n",
       "2      EP000000211959   933.941667\n",
       "3      EP000000211962  4999.984722\n",
       "4      EP000000211963  4375.606944\n",
       "...               ...          ...\n",
       "61260  SH036864110000     0.279722\n",
       "61261  SH036879510000   989.755278\n",
       "61262  SH036902750000    44.620000\n",
       "61263  SH036905140000     4.904444\n",
       "61264  SH036914820000     0.077222\n",
       "\n",
       "[61265 rows x 2 columns]"
      ]
     },
     "execution_count": 99,
     "metadata": {},
     "output_type": "execute_result"
    }
   ],
   "source": [
    "IP_consumption_df"
   ]
  },
  {
   "cell_type": "code",
   "execution_count": 100,
   "metadata": {},
   "outputs": [],
   "source": [
    "total_results = pd.merge(results_df, IP_consumption_df, on=\"TMS_ID\")"
   ]
  },
  {
   "cell_type": "code",
   "execution_count": 101,
   "metadata": {},
   "outputs": [
    {
     "data": {
      "text/html": [
       "<div>\n",
       "<style scoped>\n",
       "    .dataframe tbody tr th:only-of-type {\n",
       "        vertical-align: middle;\n",
       "    }\n",
       "\n",
       "    .dataframe tbody tr th {\n",
       "        vertical-align: top;\n",
       "    }\n",
       "\n",
       "    .dataframe thead th {\n",
       "        text-align: right;\n",
       "    }\n",
       "</style>\n",
       "<table border=\"1\" class=\"dataframe\">\n",
       "  <thead>\n",
       "    <tr style=\"text-align: right;\">\n",
       "      <th></th>\n",
       "      <th>TMS_ID</th>\n",
       "      <th>title</th>\n",
       "      <th>release_year</th>\n",
       "      <th>genre</th>\n",
       "      <th>audience_score</th>\n",
       "      <th>critics_score</th>\n",
       "      <th>start_time</th>\n",
       "      <th>end_time</th>\n",
       "      <th>provider_name</th>\n",
       "      <th>OMDB_pop_score</th>\n",
       "      <th>tweets</th>\n",
       "      <th>combined_followers</th>\n",
       "      <th>popularity</th>\n",
       "      <th>vt_hours</th>\n",
       "    </tr>\n",
       "  </thead>\n",
       "  <tbody>\n",
       "    <tr>\n",
       "      <th>0</th>\n",
       "      <td>MV000413730000</td>\n",
       "      <td>Before Sunrise</td>\n",
       "      <td>1995</td>\n",
       "      <td>[Romance]</td>\n",
       "      <td>93</td>\n",
       "      <td>100</td>\n",
       "      <td>2020-08-01T10:00:00+00:00</td>\n",
       "      <td>2021-02-01T10:59:00+00:00</td>\n",
       "      <td>HBO_HD_EXP</td>\n",
       "      <td>18.777</td>\n",
       "      <td>100</td>\n",
       "      <td>207989</td>\n",
       "      <td>18.777</td>\n",
       "      <td>125.269167</td>\n",
       "    </tr>\n",
       "    <tr>\n",
       "      <th>1</th>\n",
       "      <td>MV002100260000</td>\n",
       "      <td>Shelter</td>\n",
       "      <td>2007</td>\n",
       "      <td>[Drama, Romance]</td>\n",
       "      <td>85</td>\n",
       "      <td>60</td>\n",
       "      <td>2020-08-26T04:00:00+00:00</td>\n",
       "      <td>2030-01-02T04:59:59+00:00</td>\n",
       "      <td>Here</td>\n",
       "      <td>13.619</td>\n",
       "      <td>100</td>\n",
       "      <td>9378330</td>\n",
       "      <td>13.619</td>\n",
       "      <td>8.735000</td>\n",
       "    </tr>\n",
       "    <tr>\n",
       "      <th>2</th>\n",
       "      <td>MV001426420000</td>\n",
       "      <td>Eternal Sunshine of the Spotless Mind</td>\n",
       "      <td>2004</td>\n",
       "      <td>[Romance, Science fiction]</td>\n",
       "      <td>94</td>\n",
       "      <td>93</td>\n",
       "      <td>2019-03-14T04:00:00+00:00</td>\n",
       "      <td>2021-01-01T04:59:59+00:00</td>\n",
       "      <td>IND_HD_EXP</td>\n",
       "      <td>33.647</td>\n",
       "      <td>100</td>\n",
       "      <td>658261</td>\n",
       "      <td>33.647</td>\n",
       "      <td>0.042222</td>\n",
       "    </tr>\n",
       "    <tr>\n",
       "      <th>3</th>\n",
       "      <td>MV000363120000</td>\n",
       "      <td>Groundhog Day</td>\n",
       "      <td>1993</td>\n",
       "      <td>[Romantic comedy, Romance]</td>\n",
       "      <td>88</td>\n",
       "      <td>96</td>\n",
       "      <td>2016-07-21T04:00:00+00:00</td>\n",
       "      <td>2030-01-01T04:59:59+00:00</td>\n",
       "      <td>IND_HD_EXP</td>\n",
       "      <td>18.005</td>\n",
       "      <td>100</td>\n",
       "      <td>256247</td>\n",
       "      <td>18.005</td>\n",
       "      <td>0.140278</td>\n",
       "    </tr>\n",
       "    <tr>\n",
       "      <th>4</th>\n",
       "      <td>MV001941940000</td>\n",
       "      <td>Across the Universe</td>\n",
       "      <td>2007</td>\n",
       "      <td>[Musical, Romance]</td>\n",
       "      <td>82</td>\n",
       "      <td>53</td>\n",
       "      <td>2020-07-10T11:01:00+00:00</td>\n",
       "      <td>2021-01-01T12:59:00+00:00</td>\n",
       "      <td>FXM_HD</td>\n",
       "      <td>8.625</td>\n",
       "      <td>100</td>\n",
       "      <td>378921</td>\n",
       "      <td>8.625</td>\n",
       "      <td>304.601111</td>\n",
       "    </tr>\n",
       "    <tr>\n",
       "      <th>5</th>\n",
       "      <td>MV000317690000</td>\n",
       "      <td>Ghost</td>\n",
       "      <td>1990</td>\n",
       "      <td>[Fantasy, Romance]</td>\n",
       "      <td>80</td>\n",
       "      <td>74</td>\n",
       "      <td>2019-03-07T05:00:00+00:00</td>\n",
       "      <td>2030-01-01T04:59:59+00:00</td>\n",
       "      <td>IND_HD_EXP</td>\n",
       "      <td>21.902</td>\n",
       "      <td>100</td>\n",
       "      <td>431391</td>\n",
       "      <td>21.902</td>\n",
       "      <td>2562.425000</td>\n",
       "    </tr>\n",
       "    <tr>\n",
       "      <th>6</th>\n",
       "      <td>MV000355470000</td>\n",
       "      <td>The Last of the Mohicans</td>\n",
       "      <td>1992</td>\n",
       "      <td>[Historical drama, Adventure, War, Romance]</td>\n",
       "      <td>88</td>\n",
       "      <td>93</td>\n",
       "      <td>2020-11-11T05:00:00+00:00</td>\n",
       "      <td>2021-01-01T04:59:59+00:00</td>\n",
       "      <td>SHOWTIME_HD_EXP</td>\n",
       "      <td>15.792</td>\n",
       "      <td>100</td>\n",
       "      <td>611755</td>\n",
       "      <td>15.792</td>\n",
       "      <td>1825.788333</td>\n",
       "    </tr>\n",
       "    <tr>\n",
       "      <th>7</th>\n",
       "      <td>MV000193150000</td>\n",
       "      <td>Out of Africa</td>\n",
       "      <td>1985</td>\n",
       "      <td>[Romance, Biography, Drama]</td>\n",
       "      <td>83</td>\n",
       "      <td>59</td>\n",
       "      <td>2019-03-21T04:00:00+00:00</td>\n",
       "      <td>2021-01-01T04:59:59+00:00</td>\n",
       "      <td>IND_HD_EXP</td>\n",
       "      <td>11.345</td>\n",
       "      <td>100</td>\n",
       "      <td>735447</td>\n",
       "      <td>11.345</td>\n",
       "      <td>75.934444</td>\n",
       "    </tr>\n",
       "    <tr>\n",
       "      <th>8</th>\n",
       "      <td>MV010308720000</td>\n",
       "      <td>Angry Angel</td>\n",
       "      <td>2017</td>\n",
       "      <td>[Holiday, Romance, Fantasy]</td>\n",
       "      <td>83</td>\n",
       "      <td>NaN</td>\n",
       "      <td>2020-11-01T04:00:00+00:00</td>\n",
       "      <td>2020-12-26T04:59:00+00:00</td>\n",
       "      <td>FREEFORM_HD</td>\n",
       "      <td>3.646</td>\n",
       "      <td>100</td>\n",
       "      <td>374779</td>\n",
       "      <td>3.646</td>\n",
       "      <td>270.018333</td>\n",
       "    </tr>\n",
       "    <tr>\n",
       "      <th>9</th>\n",
       "      <td>MV010413570000</td>\n",
       "      <td>Aladdin</td>\n",
       "      <td>2019</td>\n",
       "      <td>[Children, Musical comedy, Fantasy, Adventure,...</td>\n",
       "      <td>94</td>\n",
       "      <td>57</td>\n",
       "      <td>2020-05-01T04:00:00+00:00</td>\n",
       "      <td>2021-04-01T03:59:59+00:00</td>\n",
       "      <td>IND_HD_EXP</td>\n",
       "      <td>144.303</td>\n",
       "      <td>100</td>\n",
       "      <td>153207</td>\n",
       "      <td>144.303</td>\n",
       "      <td>16.943333</td>\n",
       "    </tr>\n",
       "    <tr>\n",
       "      <th>10</th>\n",
       "      <td>MV008321120000</td>\n",
       "      <td>La La Land</td>\n",
       "      <td>2016</td>\n",
       "      <td>[Musical, Romance, Comedy drama]</td>\n",
       "      <td>81</td>\n",
       "      <td>91</td>\n",
       "      <td>2020-06-15T10:00:00+00:00</td>\n",
       "      <td>2021-01-01T10:59:00+00:00</td>\n",
       "      <td>HBO_HD_EXP</td>\n",
       "      <td>20.177</td>\n",
       "      <td>100</td>\n",
       "      <td>2631013</td>\n",
       "      <td>20.177</td>\n",
       "      <td>394.618056</td>\n",
       "    </tr>\n",
       "    <tr>\n",
       "      <th>11</th>\n",
       "      <td>MV009302840000</td>\n",
       "      <td>Maudie</td>\n",
       "      <td>2016</td>\n",
       "      <td>[Biography, Historical drama, Romance]</td>\n",
       "      <td>89</td>\n",
       "      <td>89</td>\n",
       "      <td>2020-09-18T04:00:00+00:00</td>\n",
       "      <td>2021-10-04T03:59:59+00:00</td>\n",
       "      <td>STARZ_HD_EXP_MPEG4</td>\n",
       "      <td>8.654</td>\n",
       "      <td>84</td>\n",
       "      <td>192017</td>\n",
       "      <td>8.654</td>\n",
       "      <td>20.215833</td>\n",
       "    </tr>\n",
       "    <tr>\n",
       "      <th>12</th>\n",
       "      <td>MV001941330000</td>\n",
       "      <td>Once</td>\n",
       "      <td>2006</td>\n",
       "      <td>[Romance, Musical, Drama]</td>\n",
       "      <td>91</td>\n",
       "      <td>97</td>\n",
       "      <td>2020-10-01T10:00:00+00:00</td>\n",
       "      <td>2021-06-01T09:59:00+00:00</td>\n",
       "      <td>HBO_HD_EXP</td>\n",
       "      <td>584.829</td>\n",
       "      <td>100</td>\n",
       "      <td>395996</td>\n",
       "      <td>584.829</td>\n",
       "      <td>48.650556</td>\n",
       "    </tr>\n",
       "    <tr>\n",
       "      <th>13</th>\n",
       "      <td>MV001999600000</td>\n",
       "      <td>The Curious Case of Benjamin Button</td>\n",
       "      <td>2008</td>\n",
       "      <td>[Fantasy, Drama, Romance]</td>\n",
       "      <td>80</td>\n",
       "      <td>71</td>\n",
       "      <td>2017-06-26T04:00:00+00:00</td>\n",
       "      <td>2030-01-01T04:59:59+00:00</td>\n",
       "      <td>IND_HD_EXP</td>\n",
       "      <td>25.62</td>\n",
       "      <td>100</td>\n",
       "      <td>127700</td>\n",
       "      <td>25.620</td>\n",
       "      <td>1002.383333</td>\n",
       "    </tr>\n",
       "    <tr>\n",
       "      <th>14</th>\n",
       "      <td>MV002001090000</td>\n",
       "      <td>P.S. I Love You</td>\n",
       "      <td>2007</td>\n",
       "      <td>[Romance, Comedy drama]</td>\n",
       "      <td>80</td>\n",
       "      <td>25</td>\n",
       "      <td>2016-08-12T04:00:00+00:00</td>\n",
       "      <td>2023-01-01T04:59:00+00:00</td>\n",
       "      <td>IND_HD_EXP</td>\n",
       "      <td>20.912</td>\n",
       "      <td>100</td>\n",
       "      <td>1018131</td>\n",
       "      <td>20.912</td>\n",
       "      <td>7.922500</td>\n",
       "    </tr>\n",
       "    <tr>\n",
       "      <th>15</th>\n",
       "      <td>MV001654650000</td>\n",
       "      <td>Brokeback Mountain</td>\n",
       "      <td>2005</td>\n",
       "      <td>[Romance, Drama]</td>\n",
       "      <td>82</td>\n",
       "      <td>87</td>\n",
       "      <td>2020-02-12T05:00:00+00:00</td>\n",
       "      <td>2023-01-01T04:59:59+00:00</td>\n",
       "      <td>IND_HD_EXP</td>\n",
       "      <td>18.096</td>\n",
       "      <td>100</td>\n",
       "      <td>241832</td>\n",
       "      <td>18.096</td>\n",
       "      <td>4.695556</td>\n",
       "    </tr>\n",
       "  </tbody>\n",
       "</table>\n",
       "</div>"
      ],
      "text/plain": [
       "            TMS_ID                                  title release_year  \\\n",
       "0   MV000413730000                         Before Sunrise         1995   \n",
       "1   MV002100260000                                Shelter         2007   \n",
       "2   MV001426420000  Eternal Sunshine of the Spotless Mind         2004   \n",
       "3   MV000363120000                          Groundhog Day         1993   \n",
       "4   MV001941940000                    Across the Universe         2007   \n",
       "5   MV000317690000                                  Ghost         1990   \n",
       "6   MV000355470000               The Last of the Mohicans         1992   \n",
       "7   MV000193150000                          Out of Africa         1985   \n",
       "8   MV010308720000                            Angry Angel         2017   \n",
       "9   MV010413570000                                Aladdin         2019   \n",
       "10  MV008321120000                             La La Land         2016   \n",
       "11  MV009302840000                                 Maudie         2016   \n",
       "12  MV001941330000                                   Once         2006   \n",
       "13  MV001999600000    The Curious Case of Benjamin Button         2008   \n",
       "14  MV002001090000                        P.S. I Love You         2007   \n",
       "15  MV001654650000                     Brokeback Mountain         2005   \n",
       "\n",
       "                                                genre audience_score  \\\n",
       "0                                           [Romance]             93   \n",
       "1                                    [Drama, Romance]             85   \n",
       "2                          [Romance, Science fiction]             94   \n",
       "3                          [Romantic comedy, Romance]             88   \n",
       "4                                  [Musical, Romance]             82   \n",
       "5                                  [Fantasy, Romance]             80   \n",
       "6         [Historical drama, Adventure, War, Romance]             88   \n",
       "7                         [Romance, Biography, Drama]             83   \n",
       "8                         [Holiday, Romance, Fantasy]             83   \n",
       "9   [Children, Musical comedy, Fantasy, Adventure,...             94   \n",
       "10                   [Musical, Romance, Comedy drama]             81   \n",
       "11             [Biography, Historical drama, Romance]             89   \n",
       "12                          [Romance, Musical, Drama]             91   \n",
       "13                          [Fantasy, Drama, Romance]             80   \n",
       "14                            [Romance, Comedy drama]             80   \n",
       "15                                   [Romance, Drama]             82   \n",
       "\n",
       "   critics_score                 start_time                   end_time  \\\n",
       "0            100  2020-08-01T10:00:00+00:00  2021-02-01T10:59:00+00:00   \n",
       "1             60  2020-08-26T04:00:00+00:00  2030-01-02T04:59:59+00:00   \n",
       "2             93  2019-03-14T04:00:00+00:00  2021-01-01T04:59:59+00:00   \n",
       "3             96  2016-07-21T04:00:00+00:00  2030-01-01T04:59:59+00:00   \n",
       "4             53  2020-07-10T11:01:00+00:00  2021-01-01T12:59:00+00:00   \n",
       "5             74  2019-03-07T05:00:00+00:00  2030-01-01T04:59:59+00:00   \n",
       "6             93  2020-11-11T05:00:00+00:00  2021-01-01T04:59:59+00:00   \n",
       "7             59  2019-03-21T04:00:00+00:00  2021-01-01T04:59:59+00:00   \n",
       "8            NaN  2020-11-01T04:00:00+00:00  2020-12-26T04:59:00+00:00   \n",
       "9             57  2020-05-01T04:00:00+00:00  2021-04-01T03:59:59+00:00   \n",
       "10            91  2020-06-15T10:00:00+00:00  2021-01-01T10:59:00+00:00   \n",
       "11            89  2020-09-18T04:00:00+00:00  2021-10-04T03:59:59+00:00   \n",
       "12            97  2020-10-01T10:00:00+00:00  2021-06-01T09:59:00+00:00   \n",
       "13            71  2017-06-26T04:00:00+00:00  2030-01-01T04:59:59+00:00   \n",
       "14            25  2016-08-12T04:00:00+00:00  2023-01-01T04:59:00+00:00   \n",
       "15            87  2020-02-12T05:00:00+00:00  2023-01-01T04:59:59+00:00   \n",
       "\n",
       "         provider_name OMDB_pop_score tweets combined_followers  popularity  \\\n",
       "0           HBO_HD_EXP         18.777    100             207989      18.777   \n",
       "1                 Here         13.619    100            9378330      13.619   \n",
       "2           IND_HD_EXP         33.647    100             658261      33.647   \n",
       "3           IND_HD_EXP         18.005    100             256247      18.005   \n",
       "4               FXM_HD          8.625    100             378921       8.625   \n",
       "5           IND_HD_EXP         21.902    100             431391      21.902   \n",
       "6      SHOWTIME_HD_EXP         15.792    100             611755      15.792   \n",
       "7           IND_HD_EXP         11.345    100             735447      11.345   \n",
       "8          FREEFORM_HD          3.646    100             374779       3.646   \n",
       "9           IND_HD_EXP        144.303    100             153207     144.303   \n",
       "10          HBO_HD_EXP         20.177    100            2631013      20.177   \n",
       "11  STARZ_HD_EXP_MPEG4          8.654     84             192017       8.654   \n",
       "12          HBO_HD_EXP        584.829    100             395996     584.829   \n",
       "13          IND_HD_EXP          25.62    100             127700      25.620   \n",
       "14          IND_HD_EXP         20.912    100            1018131      20.912   \n",
       "15          IND_HD_EXP         18.096    100             241832      18.096   \n",
       "\n",
       "       vt_hours  \n",
       "0    125.269167  \n",
       "1      8.735000  \n",
       "2      0.042222  \n",
       "3      0.140278  \n",
       "4    304.601111  \n",
       "5   2562.425000  \n",
       "6   1825.788333  \n",
       "7     75.934444  \n",
       "8    270.018333  \n",
       "9     16.943333  \n",
       "10   394.618056  \n",
       "11    20.215833  \n",
       "12    48.650556  \n",
       "13  1002.383333  \n",
       "14     7.922500  \n",
       "15     4.695556  "
      ]
     },
     "execution_count": 101,
     "metadata": {},
     "output_type": "execute_result"
    }
   ],
   "source": [
    "total_results"
   ]
  },
  {
   "cell_type": "code",
   "execution_count": null,
   "metadata": {},
   "outputs": [],
   "source": []
  },
  {
   "cell_type": "code",
   "execution_count": 102,
   "metadata": {},
   "outputs": [
    {
     "data": {
      "application/vnd.plotly.v1+json": {
       "config": {
        "plotlyServerURL": "https://plot.ly"
       },
       "data": [
        {
         "hovertemplate": "<b>%{hovertext}</b><br><br>OMDB_pop_score=%{x}<br>audience_score=%{y}<br>vt_hours=%{marker.color}<extra></extra>",
         "hovertext": [
          "Before Sunrise",
          "Shelter",
          "Eternal Sunshine of the Spotless Mind",
          "Groundhog Day",
          "Across the Universe",
          "Ghost",
          "The Last of the Mohicans",
          "Out of Africa",
          "Angry Angel",
          "Aladdin",
          "La La Land",
          "Maudie",
          "Once",
          "The Curious Case of Benjamin Button",
          "P.S. I Love You",
          "Brokeback Mountain"
         ],
         "legendgroup": "",
         "marker": {
          "color": [
           125.26916670000001,
           8.735,
           0.042222222000000004,
           0.14027777800000002,
           304.6011111,
           2562.425,
           1825.7883329999997,
           75.93444444,
           270.0183333,
           16.94333333,
           394.61805560000005,
           20.21583333,
           48.65055556,
           1002.383333,
           7.9225,
           4.695555556
          ],
          "coloraxis": "coloraxis",
          "size": [
           125.26916670000001,
           8.735,
           0.042222222000000004,
           0.14027777800000002,
           304.6011111,
           2562.425,
           1825.7883329999997,
           75.93444444,
           270.0183333,
           16.94333333,
           394.61805560000005,
           20.21583333,
           48.65055556,
           1002.383333,
           7.9225,
           4.695555556
          ],
          "sizemode": "area",
          "sizeref": 6.406062500000001,
          "symbol": "circle"
         },
         "mode": "markers",
         "name": "",
         "orientation": "v",
         "showlegend": false,
         "type": "scatter",
         "x": [
          18.777,
          13.619,
          33.647,
          18.005,
          8.625,
          21.902,
          15.792,
          11.345,
          3.646,
          144.303,
          20.177,
          8.654,
          584.829,
          25.62,
          20.912,
          18.096
         ],
         "xaxis": "x",
         "y": [
          93,
          85,
          94,
          88,
          82,
          80,
          88,
          83,
          83,
          94,
          81,
          89,
          91,
          80,
          80,
          82
         ],
         "yaxis": "y"
        }
       ],
       "layout": {
        "coloraxis": {
         "colorbar": {
          "title": {
           "text": "vt_hours"
          }
         },
         "colorscale": [
          [
           0,
           "#0d0887"
          ],
          [
           0.1111111111111111,
           "#46039f"
          ],
          [
           0.2222222222222222,
           "#7201a8"
          ],
          [
           0.3333333333333333,
           "#9c179e"
          ],
          [
           0.4444444444444444,
           "#bd3786"
          ],
          [
           0.5555555555555556,
           "#d8576b"
          ],
          [
           0.6666666666666666,
           "#ed7953"
          ],
          [
           0.7777777777777778,
           "#fb9f3a"
          ],
          [
           0.8888888888888888,
           "#fdca26"
          ],
          [
           1,
           "#f0f921"
          ]
         ]
        },
        "legend": {
         "itemsizing": "constant",
         "tracegroupgap": 0
        },
        "margin": {
         "t": 60
        },
        "template": {
         "data": {
          "bar": [
           {
            "error_x": {
             "color": "#2a3f5f"
            },
            "error_y": {
             "color": "#2a3f5f"
            },
            "marker": {
             "line": {
              "color": "#E5ECF6",
              "width": 0.5
             }
            },
            "type": "bar"
           }
          ],
          "barpolar": [
           {
            "marker": {
             "line": {
              "color": "#E5ECF6",
              "width": 0.5
             }
            },
            "type": "barpolar"
           }
          ],
          "carpet": [
           {
            "aaxis": {
             "endlinecolor": "#2a3f5f",
             "gridcolor": "white",
             "linecolor": "white",
             "minorgridcolor": "white",
             "startlinecolor": "#2a3f5f"
            },
            "baxis": {
             "endlinecolor": "#2a3f5f",
             "gridcolor": "white",
             "linecolor": "white",
             "minorgridcolor": "white",
             "startlinecolor": "#2a3f5f"
            },
            "type": "carpet"
           }
          ],
          "choropleth": [
           {
            "colorbar": {
             "outlinewidth": 0,
             "ticks": ""
            },
            "type": "choropleth"
           }
          ],
          "contour": [
           {
            "colorbar": {
             "outlinewidth": 0,
             "ticks": ""
            },
            "colorscale": [
             [
              0,
              "#0d0887"
             ],
             [
              0.1111111111111111,
              "#46039f"
             ],
             [
              0.2222222222222222,
              "#7201a8"
             ],
             [
              0.3333333333333333,
              "#9c179e"
             ],
             [
              0.4444444444444444,
              "#bd3786"
             ],
             [
              0.5555555555555556,
              "#d8576b"
             ],
             [
              0.6666666666666666,
              "#ed7953"
             ],
             [
              0.7777777777777778,
              "#fb9f3a"
             ],
             [
              0.8888888888888888,
              "#fdca26"
             ],
             [
              1,
              "#f0f921"
             ]
            ],
            "type": "contour"
           }
          ],
          "contourcarpet": [
           {
            "colorbar": {
             "outlinewidth": 0,
             "ticks": ""
            },
            "type": "contourcarpet"
           }
          ],
          "heatmap": [
           {
            "colorbar": {
             "outlinewidth": 0,
             "ticks": ""
            },
            "colorscale": [
             [
              0,
              "#0d0887"
             ],
             [
              0.1111111111111111,
              "#46039f"
             ],
             [
              0.2222222222222222,
              "#7201a8"
             ],
             [
              0.3333333333333333,
              "#9c179e"
             ],
             [
              0.4444444444444444,
              "#bd3786"
             ],
             [
              0.5555555555555556,
              "#d8576b"
             ],
             [
              0.6666666666666666,
              "#ed7953"
             ],
             [
              0.7777777777777778,
              "#fb9f3a"
             ],
             [
              0.8888888888888888,
              "#fdca26"
             ],
             [
              1,
              "#f0f921"
             ]
            ],
            "type": "heatmap"
           }
          ],
          "heatmapgl": [
           {
            "colorbar": {
             "outlinewidth": 0,
             "ticks": ""
            },
            "colorscale": [
             [
              0,
              "#0d0887"
             ],
             [
              0.1111111111111111,
              "#46039f"
             ],
             [
              0.2222222222222222,
              "#7201a8"
             ],
             [
              0.3333333333333333,
              "#9c179e"
             ],
             [
              0.4444444444444444,
              "#bd3786"
             ],
             [
              0.5555555555555556,
              "#d8576b"
             ],
             [
              0.6666666666666666,
              "#ed7953"
             ],
             [
              0.7777777777777778,
              "#fb9f3a"
             ],
             [
              0.8888888888888888,
              "#fdca26"
             ],
             [
              1,
              "#f0f921"
             ]
            ],
            "type": "heatmapgl"
           }
          ],
          "histogram": [
           {
            "marker": {
             "colorbar": {
              "outlinewidth": 0,
              "ticks": ""
             }
            },
            "type": "histogram"
           }
          ],
          "histogram2d": [
           {
            "colorbar": {
             "outlinewidth": 0,
             "ticks": ""
            },
            "colorscale": [
             [
              0,
              "#0d0887"
             ],
             [
              0.1111111111111111,
              "#46039f"
             ],
             [
              0.2222222222222222,
              "#7201a8"
             ],
             [
              0.3333333333333333,
              "#9c179e"
             ],
             [
              0.4444444444444444,
              "#bd3786"
             ],
             [
              0.5555555555555556,
              "#d8576b"
             ],
             [
              0.6666666666666666,
              "#ed7953"
             ],
             [
              0.7777777777777778,
              "#fb9f3a"
             ],
             [
              0.8888888888888888,
              "#fdca26"
             ],
             [
              1,
              "#f0f921"
             ]
            ],
            "type": "histogram2d"
           }
          ],
          "histogram2dcontour": [
           {
            "colorbar": {
             "outlinewidth": 0,
             "ticks": ""
            },
            "colorscale": [
             [
              0,
              "#0d0887"
             ],
             [
              0.1111111111111111,
              "#46039f"
             ],
             [
              0.2222222222222222,
              "#7201a8"
             ],
             [
              0.3333333333333333,
              "#9c179e"
             ],
             [
              0.4444444444444444,
              "#bd3786"
             ],
             [
              0.5555555555555556,
              "#d8576b"
             ],
             [
              0.6666666666666666,
              "#ed7953"
             ],
             [
              0.7777777777777778,
              "#fb9f3a"
             ],
             [
              0.8888888888888888,
              "#fdca26"
             ],
             [
              1,
              "#f0f921"
             ]
            ],
            "type": "histogram2dcontour"
           }
          ],
          "mesh3d": [
           {
            "colorbar": {
             "outlinewidth": 0,
             "ticks": ""
            },
            "type": "mesh3d"
           }
          ],
          "parcoords": [
           {
            "line": {
             "colorbar": {
              "outlinewidth": 0,
              "ticks": ""
             }
            },
            "type": "parcoords"
           }
          ],
          "pie": [
           {
            "automargin": true,
            "type": "pie"
           }
          ],
          "scatter": [
           {
            "marker": {
             "colorbar": {
              "outlinewidth": 0,
              "ticks": ""
             }
            },
            "type": "scatter"
           }
          ],
          "scatter3d": [
           {
            "line": {
             "colorbar": {
              "outlinewidth": 0,
              "ticks": ""
             }
            },
            "marker": {
             "colorbar": {
              "outlinewidth": 0,
              "ticks": ""
             }
            },
            "type": "scatter3d"
           }
          ],
          "scattercarpet": [
           {
            "marker": {
             "colorbar": {
              "outlinewidth": 0,
              "ticks": ""
             }
            },
            "type": "scattercarpet"
           }
          ],
          "scattergeo": [
           {
            "marker": {
             "colorbar": {
              "outlinewidth": 0,
              "ticks": ""
             }
            },
            "type": "scattergeo"
           }
          ],
          "scattergl": [
           {
            "marker": {
             "colorbar": {
              "outlinewidth": 0,
              "ticks": ""
             }
            },
            "type": "scattergl"
           }
          ],
          "scattermapbox": [
           {
            "marker": {
             "colorbar": {
              "outlinewidth": 0,
              "ticks": ""
             }
            },
            "type": "scattermapbox"
           }
          ],
          "scatterpolar": [
           {
            "marker": {
             "colorbar": {
              "outlinewidth": 0,
              "ticks": ""
             }
            },
            "type": "scatterpolar"
           }
          ],
          "scatterpolargl": [
           {
            "marker": {
             "colorbar": {
              "outlinewidth": 0,
              "ticks": ""
             }
            },
            "type": "scatterpolargl"
           }
          ],
          "scatterternary": [
           {
            "marker": {
             "colorbar": {
              "outlinewidth": 0,
              "ticks": ""
             }
            },
            "type": "scatterternary"
           }
          ],
          "surface": [
           {
            "colorbar": {
             "outlinewidth": 0,
             "ticks": ""
            },
            "colorscale": [
             [
              0,
              "#0d0887"
             ],
             [
              0.1111111111111111,
              "#46039f"
             ],
             [
              0.2222222222222222,
              "#7201a8"
             ],
             [
              0.3333333333333333,
              "#9c179e"
             ],
             [
              0.4444444444444444,
              "#bd3786"
             ],
             [
              0.5555555555555556,
              "#d8576b"
             ],
             [
              0.6666666666666666,
              "#ed7953"
             ],
             [
              0.7777777777777778,
              "#fb9f3a"
             ],
             [
              0.8888888888888888,
              "#fdca26"
             ],
             [
              1,
              "#f0f921"
             ]
            ],
            "type": "surface"
           }
          ],
          "table": [
           {
            "cells": {
             "fill": {
              "color": "#EBF0F8"
             },
             "line": {
              "color": "white"
             }
            },
            "header": {
             "fill": {
              "color": "#C8D4E3"
             },
             "line": {
              "color": "white"
             }
            },
            "type": "table"
           }
          ]
         },
         "layout": {
          "annotationdefaults": {
           "arrowcolor": "#2a3f5f",
           "arrowhead": 0,
           "arrowwidth": 1
          },
          "coloraxis": {
           "colorbar": {
            "outlinewidth": 0,
            "ticks": ""
           }
          },
          "colorscale": {
           "diverging": [
            [
             0,
             "#8e0152"
            ],
            [
             0.1,
             "#c51b7d"
            ],
            [
             0.2,
             "#de77ae"
            ],
            [
             0.3,
             "#f1b6da"
            ],
            [
             0.4,
             "#fde0ef"
            ],
            [
             0.5,
             "#f7f7f7"
            ],
            [
             0.6,
             "#e6f5d0"
            ],
            [
             0.7,
             "#b8e186"
            ],
            [
             0.8,
             "#7fbc41"
            ],
            [
             0.9,
             "#4d9221"
            ],
            [
             1,
             "#276419"
            ]
           ],
           "sequential": [
            [
             0,
             "#0d0887"
            ],
            [
             0.1111111111111111,
             "#46039f"
            ],
            [
             0.2222222222222222,
             "#7201a8"
            ],
            [
             0.3333333333333333,
             "#9c179e"
            ],
            [
             0.4444444444444444,
             "#bd3786"
            ],
            [
             0.5555555555555556,
             "#d8576b"
            ],
            [
             0.6666666666666666,
             "#ed7953"
            ],
            [
             0.7777777777777778,
             "#fb9f3a"
            ],
            [
             0.8888888888888888,
             "#fdca26"
            ],
            [
             1,
             "#f0f921"
            ]
           ],
           "sequentialminus": [
            [
             0,
             "#0d0887"
            ],
            [
             0.1111111111111111,
             "#46039f"
            ],
            [
             0.2222222222222222,
             "#7201a8"
            ],
            [
             0.3333333333333333,
             "#9c179e"
            ],
            [
             0.4444444444444444,
             "#bd3786"
            ],
            [
             0.5555555555555556,
             "#d8576b"
            ],
            [
             0.6666666666666666,
             "#ed7953"
            ],
            [
             0.7777777777777778,
             "#fb9f3a"
            ],
            [
             0.8888888888888888,
             "#fdca26"
            ],
            [
             1,
             "#f0f921"
            ]
           ]
          },
          "colorway": [
           "#636efa",
           "#EF553B",
           "#00cc96",
           "#ab63fa",
           "#FFA15A",
           "#19d3f3",
           "#FF6692",
           "#B6E880",
           "#FF97FF",
           "#FECB52"
          ],
          "font": {
           "color": "#2a3f5f"
          },
          "geo": {
           "bgcolor": "white",
           "lakecolor": "white",
           "landcolor": "#E5ECF6",
           "showlakes": true,
           "showland": true,
           "subunitcolor": "white"
          },
          "hoverlabel": {
           "align": "left"
          },
          "hovermode": "closest",
          "mapbox": {
           "style": "light"
          },
          "paper_bgcolor": "white",
          "plot_bgcolor": "#E5ECF6",
          "polar": {
           "angularaxis": {
            "gridcolor": "white",
            "linecolor": "white",
            "ticks": ""
           },
           "bgcolor": "#E5ECF6",
           "radialaxis": {
            "gridcolor": "white",
            "linecolor": "white",
            "ticks": ""
           }
          },
          "scene": {
           "xaxis": {
            "backgroundcolor": "#E5ECF6",
            "gridcolor": "white",
            "gridwidth": 2,
            "linecolor": "white",
            "showbackground": true,
            "ticks": "",
            "zerolinecolor": "white"
           },
           "yaxis": {
            "backgroundcolor": "#E5ECF6",
            "gridcolor": "white",
            "gridwidth": 2,
            "linecolor": "white",
            "showbackground": true,
            "ticks": "",
            "zerolinecolor": "white"
           },
           "zaxis": {
            "backgroundcolor": "#E5ECF6",
            "gridcolor": "white",
            "gridwidth": 2,
            "linecolor": "white",
            "showbackground": true,
            "ticks": "",
            "zerolinecolor": "white"
           }
          },
          "shapedefaults": {
           "line": {
            "color": "#2a3f5f"
           }
          },
          "ternary": {
           "aaxis": {
            "gridcolor": "white",
            "linecolor": "white",
            "ticks": ""
           },
           "baxis": {
            "gridcolor": "white",
            "linecolor": "white",
            "ticks": ""
           },
           "bgcolor": "#E5ECF6",
           "caxis": {
            "gridcolor": "white",
            "linecolor": "white",
            "ticks": ""
           }
          },
          "title": {
           "x": 0.05
          },
          "xaxis": {
           "automargin": true,
           "gridcolor": "white",
           "linecolor": "white",
           "ticks": "",
           "title": {
            "standoff": 15
           },
           "zerolinecolor": "white",
           "zerolinewidth": 2
          },
          "yaxis": {
           "automargin": true,
           "gridcolor": "white",
           "linecolor": "white",
           "ticks": "",
           "title": {
            "standoff": 15
           },
           "zerolinecolor": "white",
           "zerolinewidth": 2
          }
         }
        },
        "xaxis": {
         "anchor": "y",
         "domain": [
          0,
          1
         ],
         "title": {
          "text": "OMDB_pop_score"
         },
         "type": "log"
        },
        "yaxis": {
         "anchor": "x",
         "domain": [
          0,
          1
         ],
         "title": {
          "text": "audience_score"
         }
        }
       }
      },
      "text/html": [
       "<div>                            <div id=\"baed9e38-c649-4749-941c-175bca279d7f\" class=\"plotly-graph-div\" style=\"height:525px; width:100%;\"></div>            <script type=\"text/javascript\">                require([\"plotly\"], function(Plotly) {                    window.PLOTLYENV=window.PLOTLYENV || {};                                    if (document.getElementById(\"baed9e38-c649-4749-941c-175bca279d7f\")) {                    Plotly.newPlot(                        \"baed9e38-c649-4749-941c-175bca279d7f\",                        [{\"hovertemplate\": \"<b>%{hovertext}</b><br><br>OMDB_pop_score=%{x}<br>audience_score=%{y}<br>vt_hours=%{marker.color}<extra></extra>\", \"hovertext\": [\"Before Sunrise\", \"Shelter\", \"Eternal Sunshine of the Spotless Mind\", \"Groundhog Day\", \"Across the Universe\", \"Ghost\", \"The Last of the Mohicans\", \"Out of Africa\", \"Angry Angel\", \"Aladdin\", \"La La Land\", \"Maudie\", \"Once\", \"The Curious Case of Benjamin Button\", \"P.S. I Love You\", \"Brokeback Mountain\"], \"legendgroup\": \"\", \"marker\": {\"color\": [125.26916670000001, 8.735, 0.042222222000000004, 0.14027777800000002, 304.6011111, 2562.425, 1825.7883329999997, 75.93444444, 270.0183333, 16.94333333, 394.61805560000005, 20.21583333, 48.65055556, 1002.383333, 7.9225, 4.695555556], \"coloraxis\": \"coloraxis\", \"size\": [125.26916670000001, 8.735, 0.042222222000000004, 0.14027777800000002, 304.6011111, 2562.425, 1825.7883329999997, 75.93444444, 270.0183333, 16.94333333, 394.61805560000005, 20.21583333, 48.65055556, 1002.383333, 7.9225, 4.695555556], \"sizemode\": \"area\", \"sizeref\": 6.406062500000001, \"symbol\": \"circle\"}, \"mode\": \"markers\", \"name\": \"\", \"orientation\": \"v\", \"showlegend\": false, \"type\": \"scatter\", \"x\": [18.777, 13.619, 33.647, 18.005, 8.625, 21.902, 15.792, 11.345, 3.646, 144.303, 20.177, 8.654, 584.829, 25.62, 20.912, 18.096], \"xaxis\": \"x\", \"y\": [93, 85, 94, 88, 82, 80, 88, 83, 83, 94, 81, 89, 91, 80, 80, 82], \"yaxis\": \"y\"}],                        {\"coloraxis\": {\"colorbar\": {\"title\": {\"text\": \"vt_hours\"}}, \"colorscale\": [[0.0, \"#0d0887\"], [0.1111111111111111, \"#46039f\"], [0.2222222222222222, \"#7201a8\"], [0.3333333333333333, \"#9c179e\"], [0.4444444444444444, \"#bd3786\"], [0.5555555555555556, \"#d8576b\"], [0.6666666666666666, \"#ed7953\"], [0.7777777777777778, \"#fb9f3a\"], [0.8888888888888888, \"#fdca26\"], [1.0, \"#f0f921\"]]}, \"legend\": {\"itemsizing\": \"constant\", \"tracegroupgap\": 0}, \"margin\": {\"t\": 60}, \"template\": {\"data\": {\"bar\": [{\"error_x\": {\"color\": \"#2a3f5f\"}, \"error_y\": {\"color\": \"#2a3f5f\"}, \"marker\": {\"line\": {\"color\": \"#E5ECF6\", \"width\": 0.5}}, \"type\": \"bar\"}], \"barpolar\": [{\"marker\": {\"line\": {\"color\": \"#E5ECF6\", \"width\": 0.5}}, \"type\": \"barpolar\"}], \"carpet\": [{\"aaxis\": {\"endlinecolor\": \"#2a3f5f\", \"gridcolor\": \"white\", \"linecolor\": \"white\", \"minorgridcolor\": \"white\", \"startlinecolor\": \"#2a3f5f\"}, \"baxis\": {\"endlinecolor\": \"#2a3f5f\", \"gridcolor\": \"white\", \"linecolor\": \"white\", \"minorgridcolor\": \"white\", \"startlinecolor\": \"#2a3f5f\"}, \"type\": \"carpet\"}], \"choropleth\": [{\"colorbar\": {\"outlinewidth\": 0, \"ticks\": \"\"}, \"type\": \"choropleth\"}], \"contour\": [{\"colorbar\": {\"outlinewidth\": 0, \"ticks\": \"\"}, \"colorscale\": [[0.0, \"#0d0887\"], [0.1111111111111111, \"#46039f\"], [0.2222222222222222, \"#7201a8\"], [0.3333333333333333, \"#9c179e\"], [0.4444444444444444, \"#bd3786\"], [0.5555555555555556, \"#d8576b\"], [0.6666666666666666, \"#ed7953\"], [0.7777777777777778, \"#fb9f3a\"], [0.8888888888888888, \"#fdca26\"], [1.0, \"#f0f921\"]], \"type\": \"contour\"}], \"contourcarpet\": [{\"colorbar\": {\"outlinewidth\": 0, \"ticks\": \"\"}, \"type\": \"contourcarpet\"}], \"heatmap\": [{\"colorbar\": {\"outlinewidth\": 0, \"ticks\": \"\"}, \"colorscale\": [[0.0, \"#0d0887\"], [0.1111111111111111, \"#46039f\"], [0.2222222222222222, \"#7201a8\"], [0.3333333333333333, \"#9c179e\"], [0.4444444444444444, \"#bd3786\"], [0.5555555555555556, \"#d8576b\"], [0.6666666666666666, \"#ed7953\"], [0.7777777777777778, \"#fb9f3a\"], [0.8888888888888888, \"#fdca26\"], [1.0, \"#f0f921\"]], \"type\": \"heatmap\"}], \"heatmapgl\": [{\"colorbar\": {\"outlinewidth\": 0, \"ticks\": \"\"}, \"colorscale\": [[0.0, \"#0d0887\"], [0.1111111111111111, \"#46039f\"], [0.2222222222222222, \"#7201a8\"], [0.3333333333333333, \"#9c179e\"], [0.4444444444444444, \"#bd3786\"], [0.5555555555555556, \"#d8576b\"], [0.6666666666666666, \"#ed7953\"], [0.7777777777777778, \"#fb9f3a\"], [0.8888888888888888, \"#fdca26\"], [1.0, \"#f0f921\"]], \"type\": \"heatmapgl\"}], \"histogram\": [{\"marker\": {\"colorbar\": {\"outlinewidth\": 0, \"ticks\": \"\"}}, \"type\": \"histogram\"}], \"histogram2d\": [{\"colorbar\": {\"outlinewidth\": 0, \"ticks\": \"\"}, \"colorscale\": [[0.0, \"#0d0887\"], [0.1111111111111111, \"#46039f\"], [0.2222222222222222, \"#7201a8\"], [0.3333333333333333, \"#9c179e\"], [0.4444444444444444, \"#bd3786\"], [0.5555555555555556, \"#d8576b\"], [0.6666666666666666, \"#ed7953\"], [0.7777777777777778, \"#fb9f3a\"], [0.8888888888888888, \"#fdca26\"], [1.0, \"#f0f921\"]], \"type\": \"histogram2d\"}], \"histogram2dcontour\": [{\"colorbar\": {\"outlinewidth\": 0, \"ticks\": \"\"}, \"colorscale\": [[0.0, \"#0d0887\"], [0.1111111111111111, \"#46039f\"], [0.2222222222222222, \"#7201a8\"], [0.3333333333333333, \"#9c179e\"], [0.4444444444444444, \"#bd3786\"], [0.5555555555555556, \"#d8576b\"], [0.6666666666666666, \"#ed7953\"], [0.7777777777777778, \"#fb9f3a\"], [0.8888888888888888, \"#fdca26\"], [1.0, \"#f0f921\"]], \"type\": \"histogram2dcontour\"}], \"mesh3d\": [{\"colorbar\": {\"outlinewidth\": 0, \"ticks\": \"\"}, \"type\": \"mesh3d\"}], \"parcoords\": [{\"line\": {\"colorbar\": {\"outlinewidth\": 0, \"ticks\": \"\"}}, \"type\": \"parcoords\"}], \"pie\": [{\"automargin\": true, \"type\": \"pie\"}], \"scatter\": [{\"marker\": {\"colorbar\": {\"outlinewidth\": 0, \"ticks\": \"\"}}, \"type\": \"scatter\"}], \"scatter3d\": [{\"line\": {\"colorbar\": {\"outlinewidth\": 0, \"ticks\": \"\"}}, \"marker\": {\"colorbar\": {\"outlinewidth\": 0, \"ticks\": \"\"}}, \"type\": \"scatter3d\"}], \"scattercarpet\": [{\"marker\": {\"colorbar\": {\"outlinewidth\": 0, \"ticks\": \"\"}}, \"type\": \"scattercarpet\"}], \"scattergeo\": [{\"marker\": {\"colorbar\": {\"outlinewidth\": 0, \"ticks\": \"\"}}, \"type\": \"scattergeo\"}], \"scattergl\": [{\"marker\": {\"colorbar\": {\"outlinewidth\": 0, \"ticks\": \"\"}}, \"type\": \"scattergl\"}], \"scattermapbox\": [{\"marker\": {\"colorbar\": {\"outlinewidth\": 0, \"ticks\": \"\"}}, \"type\": \"scattermapbox\"}], \"scatterpolar\": [{\"marker\": {\"colorbar\": {\"outlinewidth\": 0, \"ticks\": \"\"}}, \"type\": \"scatterpolar\"}], \"scatterpolargl\": [{\"marker\": {\"colorbar\": {\"outlinewidth\": 0, \"ticks\": \"\"}}, \"type\": \"scatterpolargl\"}], \"scatterternary\": [{\"marker\": {\"colorbar\": {\"outlinewidth\": 0, \"ticks\": \"\"}}, \"type\": \"scatterternary\"}], \"surface\": [{\"colorbar\": {\"outlinewidth\": 0, \"ticks\": \"\"}, \"colorscale\": [[0.0, \"#0d0887\"], [0.1111111111111111, \"#46039f\"], [0.2222222222222222, \"#7201a8\"], [0.3333333333333333, \"#9c179e\"], [0.4444444444444444, \"#bd3786\"], [0.5555555555555556, \"#d8576b\"], [0.6666666666666666, \"#ed7953\"], [0.7777777777777778, \"#fb9f3a\"], [0.8888888888888888, \"#fdca26\"], [1.0, \"#f0f921\"]], \"type\": \"surface\"}], \"table\": [{\"cells\": {\"fill\": {\"color\": \"#EBF0F8\"}, \"line\": {\"color\": \"white\"}}, \"header\": {\"fill\": {\"color\": \"#C8D4E3\"}, \"line\": {\"color\": \"white\"}}, \"type\": \"table\"}]}, \"layout\": {\"annotationdefaults\": {\"arrowcolor\": \"#2a3f5f\", \"arrowhead\": 0, \"arrowwidth\": 1}, \"coloraxis\": {\"colorbar\": {\"outlinewidth\": 0, \"ticks\": \"\"}}, \"colorscale\": {\"diverging\": [[0, \"#8e0152\"], [0.1, \"#c51b7d\"], [0.2, \"#de77ae\"], [0.3, \"#f1b6da\"], [0.4, \"#fde0ef\"], [0.5, \"#f7f7f7\"], [0.6, \"#e6f5d0\"], [0.7, \"#b8e186\"], [0.8, \"#7fbc41\"], [0.9, \"#4d9221\"], [1, \"#276419\"]], \"sequential\": [[0.0, \"#0d0887\"], [0.1111111111111111, \"#46039f\"], [0.2222222222222222, \"#7201a8\"], [0.3333333333333333, \"#9c179e\"], [0.4444444444444444, \"#bd3786\"], [0.5555555555555556, \"#d8576b\"], [0.6666666666666666, \"#ed7953\"], [0.7777777777777778, \"#fb9f3a\"], [0.8888888888888888, \"#fdca26\"], [1.0, \"#f0f921\"]], \"sequentialminus\": [[0.0, \"#0d0887\"], [0.1111111111111111, \"#46039f\"], [0.2222222222222222, \"#7201a8\"], [0.3333333333333333, \"#9c179e\"], [0.4444444444444444, \"#bd3786\"], [0.5555555555555556, \"#d8576b\"], [0.6666666666666666, \"#ed7953\"], [0.7777777777777778, \"#fb9f3a\"], [0.8888888888888888, \"#fdca26\"], [1.0, \"#f0f921\"]]}, \"colorway\": [\"#636efa\", \"#EF553B\", \"#00cc96\", \"#ab63fa\", \"#FFA15A\", \"#19d3f3\", \"#FF6692\", \"#B6E880\", \"#FF97FF\", \"#FECB52\"], \"font\": {\"color\": \"#2a3f5f\"}, \"geo\": {\"bgcolor\": \"white\", \"lakecolor\": \"white\", \"landcolor\": \"#E5ECF6\", \"showlakes\": true, \"showland\": true, \"subunitcolor\": \"white\"}, \"hoverlabel\": {\"align\": \"left\"}, \"hovermode\": \"closest\", \"mapbox\": {\"style\": \"light\"}, \"paper_bgcolor\": \"white\", \"plot_bgcolor\": \"#E5ECF6\", \"polar\": {\"angularaxis\": {\"gridcolor\": \"white\", \"linecolor\": \"white\", \"ticks\": \"\"}, \"bgcolor\": \"#E5ECF6\", \"radialaxis\": {\"gridcolor\": \"white\", \"linecolor\": \"white\", \"ticks\": \"\"}}, \"scene\": {\"xaxis\": {\"backgroundcolor\": \"#E5ECF6\", \"gridcolor\": \"white\", \"gridwidth\": 2, \"linecolor\": \"white\", \"showbackground\": true, \"ticks\": \"\", \"zerolinecolor\": \"white\"}, \"yaxis\": {\"backgroundcolor\": \"#E5ECF6\", \"gridcolor\": \"white\", \"gridwidth\": 2, \"linecolor\": \"white\", \"showbackground\": true, \"ticks\": \"\", \"zerolinecolor\": \"white\"}, \"zaxis\": {\"backgroundcolor\": \"#E5ECF6\", \"gridcolor\": \"white\", \"gridwidth\": 2, \"linecolor\": \"white\", \"showbackground\": true, \"ticks\": \"\", \"zerolinecolor\": \"white\"}}, \"shapedefaults\": {\"line\": {\"color\": \"#2a3f5f\"}}, \"ternary\": {\"aaxis\": {\"gridcolor\": \"white\", \"linecolor\": \"white\", \"ticks\": \"\"}, \"baxis\": {\"gridcolor\": \"white\", \"linecolor\": \"white\", \"ticks\": \"\"}, \"bgcolor\": \"#E5ECF6\", \"caxis\": {\"gridcolor\": \"white\", \"linecolor\": \"white\", \"ticks\": \"\"}}, \"title\": {\"x\": 0.05}, \"xaxis\": {\"automargin\": true, \"gridcolor\": \"white\", \"linecolor\": \"white\", \"ticks\": \"\", \"title\": {\"standoff\": 15}, \"zerolinecolor\": \"white\", \"zerolinewidth\": 2}, \"yaxis\": {\"automargin\": true, \"gridcolor\": \"white\", \"linecolor\": \"white\", \"ticks\": \"\", \"title\": {\"standoff\": 15}, \"zerolinecolor\": \"white\", \"zerolinewidth\": 2}}}, \"xaxis\": {\"anchor\": \"y\", \"domain\": [0.0, 1.0], \"title\": {\"text\": \"OMDB_pop_score\"}, \"type\": \"log\"}, \"yaxis\": {\"anchor\": \"x\", \"domain\": [0.0, 1.0], \"title\": {\"text\": \"audience_score\"}}},                        {\"responsive\": true}                    ).then(function(){\n",
       "                            \n",
       "var gd = document.getElementById('baed9e38-c649-4749-941c-175bca279d7f');\n",
       "var x = new MutationObserver(function (mutations, observer) {{\n",
       "        var display = window.getComputedStyle(gd).display;\n",
       "        if (!display || display === 'none') {{\n",
       "            console.log([gd, 'removed!']);\n",
       "            Plotly.purge(gd);\n",
       "            observer.disconnect();\n",
       "        }}\n",
       "}});\n",
       "\n",
       "// Listen for the removal of the full notebook cells\n",
       "var notebookContainer = gd.closest('#notebook-container');\n",
       "if (notebookContainer) {{\n",
       "    x.observe(notebookContainer, {childList: true});\n",
       "}}\n",
       "\n",
       "// Listen for the clearing of the current output cell\n",
       "var outputEl = gd.closest('.output');\n",
       "if (outputEl) {{\n",
       "    x.observe(outputEl, {childList: true});\n",
       "}}\n",
       "\n",
       "                        })                };                });            </script>        </div>"
      ]
     },
     "metadata": {},
     "output_type": "display_data"
    }
   ],
   "source": [
    "import plotly.express as px\n",
    "\n",
    "fig = px.scatter(total_results, x= \"OMDB_pop_score\", y=\"audience_score\", size=\"vt_hours\",\n",
    "            hover_name = \"title\", color=\"vt_hours\", log_x=True)\n",
    "           \n",
    "fig.show()"
   ]
  },
  {
   "cell_type": "code",
   "execution_count": null,
   "metadata": {},
   "outputs": [],
   "source": []
  },
  {
   "cell_type": "code",
   "execution_count": null,
   "metadata": {},
   "outputs": [],
   "source": []
  },
  {
   "cell_type": "code",
   "execution_count": null,
   "metadata": {},
   "outputs": [],
   "source": []
  },
  {
   "cell_type": "code",
   "execution_count": null,
   "metadata": {},
   "outputs": [],
   "source": []
  },
  {
   "cell_type": "code",
   "execution_count": null,
   "metadata": {},
   "outputs": [],
   "source": []
  },
  {
   "cell_type": "code",
   "execution_count": null,
   "metadata": {},
   "outputs": [],
   "source": []
  },
  {
   "cell_type": "code",
   "execution_count": null,
   "metadata": {},
   "outputs": [],
   "source": []
  },
  {
   "cell_type": "code",
   "execution_count": null,
   "metadata": {},
   "outputs": [],
   "source": []
  },
  {
   "cell_type": "code",
   "execution_count": null,
   "metadata": {},
   "outputs": [],
   "source": []
  },
  {
   "cell_type": "code",
   "execution_count": null,
   "metadata": {},
   "outputs": [],
   "source": []
  },
  {
   "cell_type": "code",
   "execution_count": null,
   "metadata": {},
   "outputs": [],
   "source": []
  },
  {
   "cell_type": "code",
   "execution_count": null,
   "metadata": {},
   "outputs": [],
   "source": []
  },
  {
   "cell_type": "code",
   "execution_count": null,
   "metadata": {},
   "outputs": [],
   "source": []
  }
 ],
 "metadata": {
  "kernelspec": {
   "display_name": "Python 3",
   "language": "python",
   "name": "python3"
  },
  "language_info": {
   "codemirror_mode": {
    "name": "ipython",
    "version": 3
   },
   "file_extension": ".py",
   "mimetype": "text/x-python",
   "name": "python",
   "nbconvert_exporter": "python",
   "pygments_lexer": "ipython3",
   "version": "3.8.3"
  }
 },
 "nbformat": 4,
 "nbformat_minor": 4
}
